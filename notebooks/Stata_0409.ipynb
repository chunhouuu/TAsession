{
 "cells": [
  {
   "cell_type": "markdown",
   "metadata": {},
   "source": [
    "Problem Set 2 (Part 2: Computer Exercise)\n",
    "===\n",
    "In this notebook, I will use \"attend\" dataset to demostrate all the required commands in Problem Set 2.\n",
    "\n",
    "---"
   ]
  },
  {
   "cell_type": "code",
   "execution_count": 29,
   "metadata": {},
   "outputs": [
    {
     "name": "stdout",
     "output_type": "stream",
     "text": [
      "\n",
      "(8 vars, 680 obs)\n",
      "\n",
      "\n",
      "\n",
      "    Variable |        Obs        Mean    Std. Dev.       Min        Max\n",
      "-------------+---------------------------------------------------------\n",
      "       final |        680    25.89118    4.709835         10         39\n",
      "     termgpa |        680       2.601     .736586          0          4\n",
      "      prigpa |        680    2.586775    .5447141       .857       3.93\n",
      "         act |        680    22.51029    3.490768         13         32\n",
      "       frosh |        680    .2323529    .4226438          0          1\n",
      "-------------+---------------------------------------------------------\n",
      "        soph |        680    .5764706    .4944814          0          1\n",
      "      missed |        680    5.852941    5.455037          0         30\n"
     ]
    }
   ],
   "source": [
    "insheet using \"/Users/tino/Desktop/TA-Econometrics-II/datasets/0305/attend.csv\", clear\n",
    "drop v1\n",
    "sum"
   ]
  },
  {
   "cell_type": "markdown",
   "metadata": {},
   "source": [
    "## 1. (a)"
   ]
  },
  {
   "cell_type": "code",
   "execution_count": 6,
   "metadata": {},
   "outputs": [
    {
     "name": "stdout",
     "output_type": "stream",
     "text": [
      "(obs=680)\n",
      "\n",
      "             |  termgpa      act\n",
      "-------------+------------------\n",
      "     termgpa |   1.0000\n",
      "         act |   0.2456   1.0000\n",
      "\n"
     ]
    }
   ],
   "source": [
    "corr termgpa act"
   ]
  },
  {
   "cell_type": "markdown",
   "metadata": {},
   "source": [
    "## 1. (b) (e) (f)"
   ]
  },
  {
   "cell_type": "code",
   "execution_count": 9,
   "metadata": {},
   "outputs": [
    {
     "name": "stdout",
     "output_type": "stream",
     "text": [
      "\n",
      "Linear regression                               Number of obs     =        680\n",
      "                                                F(1, 678)         =     194.90\n",
      "                                                Prob > F          =     0.0000\n",
      "                                                R-squared         =     0.2607\n",
      "                                                Root MSE          =     4.0526\n",
      "\n",
      "------------------------------------------------------------------------------\n",
      "             |               Robust\n",
      "       final |      Coef.   Std. Err.      t    P>|t|     [95% Conf. Interval]\n",
      "-------------+----------------------------------------------------------------\n",
      "     termgpa |   3.264908   .2338676    13.96   0.000     2.805716      3.7241\n",
      "       _cons |   17.39915   .6398405    27.19   0.000     16.14284    18.65546\n",
      "------------------------------------------------------------------------------\n",
      "(est1 stored)\n"
     ]
    }
   ],
   "source": [
    "eststo: reg final termgpa, r"
   ]
  },
  {
   "cell_type": "code",
   "execution_count": 10,
   "metadata": {},
   "outputs": [
    {
     "name": "stdout",
     "output_type": "stream",
     "text": [
      "\n",
      "Linear regression                               Number of obs     =        680\n",
      "                                                F(2, 677)         =     149.47\n",
      "                                                Prob > F          =     0.0000\n",
      "                                                R-squared         =     0.3199\n",
      "                                                Root MSE          =     3.8898\n",
      "\n",
      "------------------------------------------------------------------------------\n",
      "             |               Robust\n",
      "       final |      Coef.   Std. Err.      t    P>|t|     [95% Conf. Interval]\n",
      "-------------+----------------------------------------------------------------\n",
      "     termgpa |   2.870726   .2190821    13.10   0.000     2.440564    3.300888\n",
      "         act |   .3386085   .0438343     7.72   0.000      .252541     .424676\n",
      "       _cons |   10.80224   1.029445    10.49   0.000     8.780953    12.82353\n",
      "------------------------------------------------------------------------------\n",
      "(est2 stored)\n"
     ]
    }
   ],
   "source": [
    "eststo: reg final termgpa act, r"
   ]
  },
  {
   "cell_type": "code",
   "execution_count": 13,
   "metadata": {},
   "outputs": [
    {
     "name": "stdout",
     "output_type": "stream",
     "text": [
      "\n",
      "----------------------------------------------------\n",
      "                              (1)             (2)   \n",
      "                            final           final   \n",
      "----------------------------------------------------\n",
      "termGPA                     3.265***        2.871***\n",
      "                          (0.234)         (0.219)   \n",
      "\n",
      "ACT                                         0.339***\n",
      "                                         (0.0438)   \n",
      "\n",
      "Constant                    17.40***        10.80***\n",
      "                          (0.640)         (1.029)   \n",
      "----------------------------------------------------\n",
      "Observations                  680             680   \n",
      "Adjusted R-squared          0.260           0.318   \n",
      "----------------------------------------------------\n",
      "Standard errors in parentheses\n",
      "* p<0.05, ** p<0.01, *** p<0.001\n"
     ]
    }
   ],
   "source": [
    "esttab, se ar2 label"
   ]
  },
  {
   "cell_type": "markdown",
   "metadata": {},
   "source": [
    "## 1. (f) related concept: Perfect multicollinearity: the dummy variable trap"
   ]
  },
  {
   "cell_type": "code",
   "execution_count": 20,
   "metadata": {},
   "outputs": [
    {
     "name": "stdout",
     "output_type": "stream",
     "text": [
      "(130 observations deleted)\n"
     ]
    }
   ],
   "source": [
    "drop if frosh == 0 & soph == 0"
   ]
  },
  {
   "cell_type": "code",
   "execution_count": 21,
   "metadata": {},
   "outputs": [
    {
     "name": "stdout",
     "output_type": "stream",
     "text": [
      "\n",
      "           |         soph\n",
      "     frosh |         0          1 |     Total\n",
      "-----------+----------------------+----------\n",
      "         0 |         0        392 |       392 \n",
      "         1 |       158          0 |       158 \n",
      "-----------+----------------------+----------\n",
      "     Total |       158        392 |       550 \n",
      "\n"
     ]
    }
   ],
   "source": [
    "tab frosh soph"
   ]
  },
  {
   "cell_type": "code",
   "execution_count": 22,
   "metadata": {},
   "outputs": [
    {
     "name": "stdout",
     "output_type": "stream",
     "text": [
      "note: soph omitted because of collinearity\n",
      "\n",
      "Linear regression                               Number of obs     =        550\n",
      "                                                F(2, 547)         =      79.56\n",
      "                                                Prob > F          =     0.0000\n",
      "                                                R-squared         =     0.2570\n",
      "                                                Root MSE          =     4.0464\n",
      "\n",
      "------------------------------------------------------------------------------\n",
      "             |               Robust\n",
      "       final |      Coef.   Std. Err.      t    P>|t|     [95% Conf. Interval]\n",
      "-------------+----------------------------------------------------------------\n",
      "     termgpa |   3.310096   .2667597    12.41   0.000     2.786097    3.834094\n",
      "       frosh |  -.0142955   .3776035    -0.04   0.970     -.756026    .7274351\n",
      "        soph |          0  (omitted)\n",
      "       _cons |   17.11677   .7589388    22.55   0.000     15.62598    18.60756\n",
      "------------------------------------------------------------------------------\n"
     ]
    }
   ],
   "source": [
    "reg final termgpa frosh soph, r"
   ]
  },
  {
   "cell_type": "code",
   "execution_count": 23,
   "metadata": {},
   "outputs": [
    {
     "name": "stdout",
     "output_type": "stream",
     "text": [
      "\n",
      "(8 vars, 680 obs)\n",
      "\n",
      "\n",
      "\n",
      "    Variable |        Obs        Mean    Std. Dev.       Min        Max\n",
      "-------------+---------------------------------------------------------\n",
      "       final |        680    25.89118    4.709835         10         39\n",
      "     termgpa |        680       2.601     .736586          0          4\n",
      "      prigpa |        680    2.586775    .5447141       .857       3.93\n",
      "         act |        680    22.51029    3.490768         13         32\n",
      "       frosh |        680    .2323529    .4226438          0          1\n",
      "-------------+---------------------------------------------------------\n",
      "        soph |        680    .5764706    .4944814          0          1\n",
      "      missed |        680    5.852941    5.455037          0         30\n"
     ]
    }
   ],
   "source": [
    "insheet using \"/Users/tino/Desktop/TA-Econometrics-II/datasets/0305/attend.csv\", clear\n",
    "drop v1\n",
    "sum"
   ]
  },
  {
   "cell_type": "markdown",
   "metadata": {},
   "source": [
    "## 2. (b)"
   ]
  },
  {
   "cell_type": "code",
   "execution_count": 24,
   "metadata": {},
   "outputs": [
    {
     "name": "stdout",
     "output_type": "stream",
     "text": [
      "\n",
      "Linear regression                               Number of obs     =        680\n",
      "                                                F(4, 675)         =      78.60\n",
      "                                                Prob > F          =     0.0000\n",
      "                                                R-squared         =     0.3250\n",
      "                                                Root MSE          =     3.8809\n",
      "\n",
      "------------------------------------------------------------------------------\n",
      "             |               Robust\n",
      "       final |      Coef.   Std. Err.      t    P>|t|     [95% Conf. Interval]\n",
      "-------------+----------------------------------------------------------------\n",
      "     termgpa |   2.904594   .2188916    13.27   0.000     2.474804    3.334384\n",
      "         act |   .3402191   .0440456     7.72   0.000     .2537364    .4267019\n",
      "       frosh |  -.5702144   .4566039    -1.25   0.212    -1.466749    .3263204\n",
      "        soph |  -.8843852   .3923539    -2.25   0.025    -1.654766   -.1140044\n",
      "       _cons |   11.32021   1.102244    10.27   0.000     9.155969    13.48445\n",
      "------------------------------------------------------------------------------\n"
     ]
    }
   ],
   "source": [
    "reg final termgpa act frosh soph, r"
   ]
  },
  {
   "cell_type": "code",
   "execution_count": 25,
   "metadata": {},
   "outputs": [
    {
     "name": "stdout",
     "output_type": "stream",
     "text": [
      "\n",
      " ( 1)  frosh - soph = 0\n",
      "\n",
      "       F(  1,   675) =    0.74\n",
      "            Prob > F =    0.3902\n"
     ]
    }
   ],
   "source": [
    "test frosh = soph"
   ]
  },
  {
   "cell_type": "code",
   "execution_count": 26,
   "metadata": {},
   "outputs": [
    {
     "name": "stdout",
     "output_type": "stream",
     "text": [
      "\n",
      "\n",
      "\n",
      "    Variable |        Obs        Mean    Std. Dev.       Min        Max\n",
      "-------------+---------------------------------------------------------\n",
      "          fs |        680    .8088235    .3935172          0          1\n"
     ]
    }
   ],
   "source": [
    "gen fs = frosh + soph\n",
    "sum fs"
   ]
  },
  {
   "cell_type": "code",
   "execution_count": 27,
   "metadata": {},
   "outputs": [
    {
     "name": "stdout",
     "output_type": "stream",
     "text": [
      "\n",
      "Linear regression                               Number of obs     =        680\n",
      "                                                F(4, 675)         =      78.60\n",
      "                                                Prob > F          =     0.0000\n",
      "                                                R-squared         =     0.3250\n",
      "                                                Root MSE          =     3.8809\n",
      "\n",
      "------------------------------------------------------------------------------\n",
      "             |               Robust\n",
      "       final |      Coef.   Std. Err.      t    P>|t|     [95% Conf. Interval]\n",
      "-------------+----------------------------------------------------------------\n",
      "     termgpa |   2.904594   .2188916    13.27   0.000     2.474804    3.334384\n",
      "         act |   .3402191   .0440456     7.72   0.000     .2537364    .4267019\n",
      "       frosh |   .3141708    .365403     0.86   0.390    -.4032923    1.031634\n",
      "          fs |  -.8843852   .3923539    -2.25   0.025    -1.654766   -.1140044\n",
      "       _cons |   11.32021   1.102244    10.27   0.000     9.155969    13.48445\n",
      "------------------------------------------------------------------------------\n"
     ]
    }
   ],
   "source": [
    "gen fs = frosh + soph\n",
    "reg final termgpa act frosh fs, r"
   ]
  },
  {
   "cell_type": "code",
   "execution_count": 28,
   "metadata": {},
   "outputs": [
    {
     "name": "stdout",
     "output_type": "stream",
     "text": [
      "\n",
      " ( 1)  frosh = 0\n",
      "\n",
      "       F(  1,   675) =    0.74\n",
      "            Prob > F =    0.3902\n"
     ]
    }
   ],
   "source": [
    "test frosh = 0"
   ]
  }
 ],
 "metadata": {
  "kernelspec": {
   "display_name": "Stata",
   "language": "stata",
   "name": "stata"
  },
  "language_info": {
   "codemirror_mode": "stata",
   "file_extension": ".do",
   "mimetype": "text/x-stata",
   "name": "stata",
   "version": "15.1"
  }
 },
 "nbformat": 4,
 "nbformat_minor": 2
}
