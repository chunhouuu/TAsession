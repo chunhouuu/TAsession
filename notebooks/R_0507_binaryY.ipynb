{
 "cells": [
  {
   "cell_type": "markdown",
   "metadata": {},
   "source": [
    "Regression with Binary Variables\n",
    "===\n",
    "---\n",
    "* Linear Probability Model\n",
    "* Probit Regression\n",
    "* Logit Regression\n",
    "---"
   ]
  },
  {
   "cell_type": "code",
   "execution_count": 1,
   "metadata": {},
   "outputs": [
    {
     "name": "stderr",
     "output_type": "stream",
     "text": [
      "─ Attaching packages ──────────────────── tidyverse 1.2.1 ─\n",
      "✔ ggplot2 2.2.1     ✔ purrr   0.2.5\n",
      "✔ tibble  1.4.2     ✔ dplyr   0.7.6\n",
      "✔ tidyr   0.8.1     ✔ stringr 1.4.0\n",
      "✔ readr   1.1.1     ✔ forcats 0.3.0\n",
      "Warning message:\n",
      "“package ‘dplyr’ was built under R version 3.5.1”Warning message:\n",
      "“package ‘stringr’ was built under R version 3.5.2”─ Conflicts ───────────────────── tidyverse_conflicts() ─\n",
      "✖ dplyr::filter() masks stats::filter()\n",
      "✖ dplyr::lag()    masks stats::lag()\n"
     ]
    }
   ],
   "source": [
    "library(tidyverse)"
   ]
  },
  {
   "cell_type": "code",
   "execution_count": 2,
   "metadata": {},
   "outputs": [],
   "source": [
    "charity <- read.csv(\"/Users/tino/Desktop/TA-Econometrics-II/datasets/0507/charity.csv\")"
   ]
  },
  {
   "cell_type": "code",
   "execution_count": 6,
   "metadata": {},
   "outputs": [
    {
     "name": "stderr",
     "output_type": "stream",
     "text": [
      "\n",
      "Please cite as: \n",
      "\n",
      " Hlavac, Marek (2018). stargazer: Well-Formatted Regression and Summary Statistics Tables.\n",
      " R package version 5.2.2. https://CRAN.R-project.org/package=stargazer \n",
      "\n"
     ]
    }
   ],
   "source": [
    "library(stargazer)"
   ]
  },
  {
   "cell_type": "markdown",
   "metadata": {},
   "source": [
    "---\n",
    "## 1. Linear Probability Model"
   ]
  },
  {
   "cell_type": "code",
   "execution_count": 7,
   "metadata": {},
   "outputs": [
    {
     "name": "stdout",
     "output_type": "stream",
     "text": [
      "\n",
      "LPM\n",
      "===============================================\n",
      "                        Dependent variable:    \n",
      "                    ---------------------------\n",
      "                              respond          \n",
      "-----------------------------------------------\n",
      "resplast                     0.067***          \n",
      "                              (0.019)          \n",
      "                                               \n",
      "weekslast                    -0.001***         \n",
      "                             (0.0002)          \n",
      "                                               \n",
      "propresp                     0.650***          \n",
      "                              (0.037)          \n",
      "                                               \n",
      "mailsyear                    0.052***          \n",
      "                              (0.010)          \n",
      "                                               \n",
      "giftlast                     0.0001**          \n",
      "                             (0.00004)         \n",
      "                                               \n",
      "Constant                       0.017           \n",
      "                              (0.036)          \n",
      "                                               \n",
      "-----------------------------------------------\n",
      "Observations                   4,268           \n",
      "R2                             0.214           \n",
      "Adjusted R2                    0.213           \n",
      "Residual Std. Error      0.435 (df = 4262)     \n",
      "F Statistic          232.629*** (df = 5; 4262) \n",
      "===============================================\n",
      "Note:               *p<0.1; **p<0.05; ***p<0.01\n"
     ]
    }
   ],
   "source": [
    "LPM <- lm(respond ~ resplast + weekslast + propresp + mailsyear + giftlast, data = charity)\n",
    "stargazer(LPM, type = \"text\", title = \"LPM\") "
   ]
  },
  {
   "cell_type": "markdown",
   "metadata": {},
   "source": [
    "---\n",
    "## 2. Probit Regression"
   ]
  },
  {
   "cell_type": "code",
   "execution_count": 9,
   "metadata": {},
   "outputs": [
    {
     "name": "stderr",
     "output_type": "stream",
     "text": [
      "Warning message:\n",
      "“glm.fit: fitted probabilities numerically 0 or 1 occurred”"
     ]
    },
    {
     "name": "stdout",
     "output_type": "stream",
     "text": [
      "\n",
      "Probit\n",
      "=============================================\n",
      "                      Dependent variable:    \n",
      "                  ---------------------------\n",
      "                            respond          \n",
      "---------------------------------------------\n",
      "resplast                    0.127**          \n",
      "                            (0.057)          \n",
      "                                             \n",
      "weekslast                  -0.005***         \n",
      "                            (0.001)          \n",
      "                                             \n",
      "propresp                   1.848***          \n",
      "                            (0.114)          \n",
      "                                             \n",
      "mailsyear                  0.146***          \n",
      "                            (0.032)          \n",
      "                                             \n",
      "giftlast                     0.001           \n",
      "                            (0.001)          \n",
      "                                             \n",
      "Constant                   -1.296***         \n",
      "                            (0.114)          \n",
      "                                             \n",
      "---------------------------------------------\n",
      "Observations                 4,268           \n",
      "Log Likelihood            -2,376.066         \n",
      "Akaike Inf. Crit.          4,764.132         \n",
      "=============================================\n",
      "Note:             *p<0.1; **p<0.05; ***p<0.01\n"
     ]
    }
   ],
   "source": [
    "probit <- glm(respond ~ resplast + weekslast + propresp + mailsyear + giftlast, family = binomial(link = \"probit\"), data = charity)\n",
    "stargazer(probit, type = \"text\", title = \"Probit\")"
   ]
  },
  {
   "cell_type": "markdown",
   "metadata": {},
   "source": [
    "---\n",
    "## 3. Logit Regression"
   ]
  },
  {
   "cell_type": "code",
   "execution_count": 17,
   "metadata": {},
   "outputs": [
    {
     "name": "stdout",
     "output_type": "stream",
     "text": [
      "\n",
      "Logit\n",
      "=============================================\n",
      "                      Dependent variable:    \n",
      "                  ---------------------------\n",
      "                            respond          \n",
      "---------------------------------------------\n",
      "resplast                    0.192**          \n",
      "                            (0.094)          \n",
      "                                             \n",
      "weekslast                  -0.008***         \n",
      "                            (0.001)          \n",
      "                                             \n",
      "propresp                   3.034***          \n",
      "                            (0.191)          \n",
      "                                             \n",
      "mailsyear                  0.244***          \n",
      "                            (0.054)          \n",
      "                                             \n",
      "giftlast                     0.002           \n",
      "                            (0.002)          \n",
      "                                             \n",
      "Constant                   -2.117***         \n",
      "                            (0.193)          \n",
      "                                             \n",
      "---------------------------------------------\n",
      "Observations                 4,268           \n",
      "Log Likelihood            -2,378.337         \n",
      "Akaike Inf. Crit.          4,768.673         \n",
      "=============================================\n",
      "Note:             *p<0.1; **p<0.05; ***p<0.01\n"
     ]
    }
   ],
   "source": [
    "logit <- glm(respond ~ resplast + weekslast + propresp + mailsyear + giftlast, family = binomial(link = \"logit\"), data = charity)\n",
    "stargazer(logit, type = \"text\", title = \"Logit\")"
   ]
  },
  {
   "cell_type": "code",
   "execution_count": 15,
   "metadata": {},
   "outputs": [
    {
     "name": "stdout",
     "output_type": "stream",
     "text": [
      "\n",
      "Binary Depedent Variable\n",
      "===================================================================\n",
      "                                  Dependent variable:              \n",
      "                    -----------------------------------------------\n",
      "                                        respond                    \n",
      "                               OLS              probit    logistic \n",
      "                               (1)               (2)        (3)    \n",
      "-------------------------------------------------------------------\n",
      "resplast                    0.067***           0.127**    0.192**  \n",
      "                             (0.019)           (0.057)    (0.094)  \n",
      "                                                                   \n",
      "weekslast                   -0.001***         -0.005***  -0.008*** \n",
      "                            (0.0002)           (0.001)    (0.001)  \n",
      "                                                                   \n",
      "propresp                    0.650***           1.848***   3.034*** \n",
      "                             (0.037)           (0.114)    (0.191)  \n",
      "                                                                   \n",
      "mailsyear                   0.052***           0.146***   0.244*** \n",
      "                             (0.010)           (0.032)    (0.054)  \n",
      "                                                                   \n",
      "giftlast                    0.0001**            0.001      0.002   \n",
      "                            (0.00004)          (0.001)    (0.002)  \n",
      "                                                                   \n",
      "Constant                      0.017           -1.296***  -2.117*** \n",
      "                             (0.036)           (0.114)    (0.193)  \n",
      "                                                                   \n",
      "-------------------------------------------------------------------\n",
      "Observations                  4,268             4,268      4,268   \n",
      "R2                            0.214                                \n",
      "Adjusted R2                   0.213                                \n",
      "Log Likelihood                                -2,376.066 -2,378.337\n",
      "Akaike Inf. Crit.                             4,764.132  4,768.673 \n",
      "Residual Std. Error     0.435 (df = 4262)                          \n",
      "F Statistic         232.629*** (df = 5; 4262)                      \n",
      "===================================================================\n",
      "Note:                                   *p<0.1; **p<0.05; ***p<0.01\n"
     ]
    }
   ],
   "source": [
    "stargazer(LPM, probit, logit, type = \"text\", title = \"Binary Depedent Variable\")"
   ]
  },
  {
   "cell_type": "code",
   "execution_count": 19,
   "metadata": {},
   "outputs": [
    {
     "name": "stderr",
     "output_type": "stream",
     "text": [
      "Loading required package: carData\n",
      "\n",
      "Attaching package: ‘car’\n",
      "\n",
      "The following object is masked from ‘package:dplyr’:\n",
      "\n",
      "    recode\n",
      "\n",
      "The following object is masked from ‘package:purrr’:\n",
      "\n",
      "    some\n",
      "\n"
     ]
    },
    {
     "data": {
      "text/html": [
       "<table>\n",
       "<thead><tr><th scope=col>Res.Df</th><th scope=col>Df</th><th scope=col>Chisq</th><th scope=col>Pr(&gt;Chisq)</th></tr></thead>\n",
       "<tbody>\n",
       "\t<tr><td>4264    </td><td>NA      </td><td>      NA</td><td>      NA</td></tr>\n",
       "\t<tr><td>4262    </td><td> 2      </td><td>5.804156</td><td>0.054909</td></tr>\n",
       "</tbody>\n",
       "</table>\n"
      ],
      "text/latex": [
       "\\begin{tabular}{r|llll}\n",
       " Res.Df & Df & Chisq & Pr(>Chisq)\\\\\n",
       "\\hline\n",
       "\t 4264     & NA       &       NA &       NA\\\\\n",
       "\t 4262     &  2       & 5.804156 & 0.054909\\\\\n",
       "\\end{tabular}\n"
      ],
      "text/markdown": [
       "\n",
       "| Res.Df | Df | Chisq | Pr(>Chisq) |\n",
       "|---|---|---|---|\n",
       "| 4264     | NA       |       NA |       NA |\n",
       "| 4262     |  2       | 5.804156 | 0.054909 |\n",
       "\n"
      ],
      "text/plain": [
       "  Res.Df Df Chisq    Pr(>Chisq)\n",
       "1 4264   NA       NA       NA  \n",
       "2 4262    2 5.804156 0.054909  "
      ]
     },
     "metadata": {},
     "output_type": "display_data"
    }
   ],
   "source": [
    "library(car)\n",
    "linearHypothesis(logit, c(\"resplast = 0\", \"giftlast = 0\"))"
   ]
  },
  {
   "cell_type": "code",
   "execution_count": 20,
   "metadata": {},
   "outputs": [],
   "source": [
    "logit <- glm(respond ~ resplast + weekslast + propresp + mailsyear + giftlast, family = binomial(link = \"logit\"), data = charity)\n",
    "logit_H0 <- glm(respond ~ weekslast + propresp + mailsyear, family = binomial(link = \"logit\"), data = charity)"
   ]
  },
  {
   "cell_type": "code",
   "execution_count": 23,
   "metadata": {},
   "outputs": [
    {
     "name": "stderr",
     "output_type": "stream",
     "text": [
      "Loading required package: zoo\n",
      "\n",
      "Attaching package: ‘zoo’\n",
      "\n",
      "The following objects are masked from ‘package:base’:\n",
      "\n",
      "    as.Date, as.Date.numeric\n",
      "\n"
     ]
    },
    {
     "data": {
      "text/html": [
       "<table>\n",
       "<thead><tr><th scope=col>#Df</th><th scope=col>LogLik</th><th scope=col>Df</th><th scope=col>Chisq</th><th scope=col>Pr(&gt;Chisq)</th></tr></thead>\n",
       "<tbody>\n",
       "\t<tr><td>6          </td><td>-2378.337  </td><td>NA         </td><td>      NA   </td><td>         NA</td></tr>\n",
       "\t<tr><td>4          </td><td>-2383.267  </td><td>-2         </td><td>9.861033   </td><td>0.007222773</td></tr>\n",
       "</tbody>\n",
       "</table>\n"
      ],
      "text/latex": [
       "\\begin{tabular}{r|lllll}\n",
       " \\#Df & LogLik & Df & Chisq & Pr(>Chisq)\\\\\n",
       "\\hline\n",
       "\t 6           & -2378.337   & NA          &       NA    &          NA\\\\\n",
       "\t 4           & -2383.267   & -2          & 9.861033    & 0.007222773\\\\\n",
       "\\end{tabular}\n"
      ],
      "text/markdown": [
       "\n",
       "| #Df | LogLik | Df | Chisq | Pr(>Chisq) |\n",
       "|---|---|---|---|---|\n",
       "| 6           | -2378.337   | NA          |       NA    |          NA |\n",
       "| 4           | -2383.267   | -2          | 9.861033    | 0.007222773 |\n",
       "\n"
      ],
      "text/plain": [
       "  #Df LogLik    Df Chisq    Pr(>Chisq) \n",
       "1 6   -2378.337 NA       NA          NA\n",
       "2 4   -2383.267 -2 9.861033 0.007222773"
      ]
     },
     "metadata": {},
     "output_type": "display_data"
    }
   ],
   "source": [
    "library(lmtest)\n",
    "lrtest(logit, logit_H0)"
   ]
  },
  {
   "cell_type": "code",
   "execution_count": null,
   "metadata": {},
   "outputs": [],
   "source": []
  }
 ],
 "metadata": {
  "kernelspec": {
   "display_name": "R",
   "language": "R",
   "name": "ir"
  },
  "language_info": {
   "codemirror_mode": "r",
   "file_extension": ".r",
   "mimetype": "text/x-r-source",
   "name": "R",
   "pygments_lexer": "r",
   "version": "3.5.0"
  }
 },
 "nbformat": 4,
 "nbformat_minor": 2
}
