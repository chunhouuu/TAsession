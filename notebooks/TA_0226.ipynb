{
 "cells": [
  {
   "cell_type": "markdown",
   "metadata": {},
   "source": [
    "Introduction to Stata\n",
    "===\n",
    "---"
   ]
  },
  {
   "cell_type": "markdown",
   "metadata": {},
   "source": [
    "## Direction \n",
    "Before we start doing anything in Stata, we have to assign a direction to Stata.  \n",
    "This direction make Stata be able to find your files."
   ]
  },
  {
   "cell_type": "code",
   "execution_count": 57,
   "metadata": {},
   "outputs": [
    {
     "name": "stdout",
     "output_type": "stream",
     "text": [
      "/Users/tino/Desktop/TA-Econometrics-II/Notebook_Stata\n"
     ]
    }
   ],
   "source": [
    "cd \"/Users/tino/Desktop/TA-Econometrics-II/Notebook_Stata\" // Change direciton"
   ]
  },
  {
   "cell_type": "code",
   "execution_count": 2,
   "metadata": {},
   "outputs": [],
   "source": [
    "mkdir \"mkdir_test\" // create a new folder in your working direction"
   ]
  },
  {
   "cell_type": "code",
   "execution_count": 3,
   "metadata": {},
   "outputs": [
    {
     "name": "stdout",
     "output_type": "stream",
     "text": [
      "\n",
      "total 3040\n",
      "-rw-r--r--  1 tino  staff      730  2 24 10:36 TA_0226.ipynb\n",
      "-rw-r--r--@ 1 tino  staff  1550647  2 23 15:24 alcohol.csv\n",
      "drwxr-xr-x  2 tino  staff       64  2 24 10:37 mkdir_test/\n"
     ]
    }
   ],
   "source": [
    "dir // display the content of your working direction"
   ]
  },
  {
   "cell_type": "code",
   "execution_count": 4,
   "metadata": {},
   "outputs": [
    {
     "name": "stdout",
     "output_type": "stream",
     "text": [
      "/Users/tino/Desktop/TA-Econometrics-II/Notebook_Stata\n"
     ]
    }
   ],
   "source": [
    "pwd // display your current working direction"
   ]
  },
  {
   "cell_type": "markdown",
   "metadata": {},
   "source": [
    "## Reading data into Stata\n",
    "After we assign the working direction, we can import data into Stata.  \n",
    "There are two ways to import your data."
   ]
  },
  {
   "cell_type": "code",
   "execution_count": null,
   "metadata": {},
   "outputs": [],
   "source": [
    "use // import .dta file"
   ]
  },
  {
   "cell_type": "code",
   "execution_count": 7,
   "metadata": {},
   "outputs": [
    {
     "name": "stdout",
     "output_type": "stream",
     "text": [
      "(34 vars, 9,822 obs)\n"
     ]
    }
   ],
   "source": [
    "insheet using \"alcohol.csv\", clear // import ASCII text file"
   ]
  },
  {
   "cell_type": "markdown",
   "metadata": {},
   "source": [
    "## Examining the data\n",
    "* list - in Observation, if Condition\n",
    "* describe\n",
    "* tab\n",
    "* summarize\n",
    "* inspect"
   ]
  },
  {
   "cell_type": "code",
   "execution_count": 11,
   "metadata": {},
   "outputs": [
    {
     "name": "stdout",
     "output_type": "stream",
     "text": [
      "\n",
      "      +-----------------------------+\n",
      "      | abuse   status   age   educ |\n",
      "      |-----------------------------|\n",
      "   1. |     1        1    50      4 |\n",
      "   2. |     0        3    37     12 |\n",
      "   3. |     0        3    53      9 |\n",
      "   4. |     0        3    59     11 |\n",
      "   5. |     0        3    43     10 |\n",
      "      |-----------------------------|\n",
      "   6. |     0        3    38     10 |\n",
      "   7. |     0        3    34     10 |\n",
      "   8. |     0        1    45      2 |\n",
      "   9. |     0        1    47      5 |\n",
      "  10. |     0        3    31     12 |\n",
      "      |-----------------------------|\n",
      "  11. |     0        3    43     18 |\n",
      "  12. |     1        3    46     12 |\n",
      "  13. |     0        3    36     12 |\n",
      "  14. |     0        3    29     16 |\n",
      "  15. |     0        3    32     15 |\n",
      "      |-----------------------------|\n",
      "  16. |     0        3    37     12 |\n",
      "  17. |     0        3    27     12 |\n",
      "  18. |     0        3    55     11 |\n",
      "  19. |     0        3    38     16 |\n",
      "  20. |     0        3    25     12 |\n",
      "      |-----------------------------|\n",
      "  21. |     0        3    33     12 |\n",
      "  22. |     0        1    36     12 |\n",
      "  23. |     0        3    46      7 |\n",
      "  24. |     0        3    53     16 |\n",
      "  25. |     0        3    56     18 |\n",
      "      |-----------------------------|\n",
      "  26. |     0        3    38     16 |\n",
      "  27. |     0        3    42     16 |\n",
      "  28. |     0        3    53     18 |\n",
      "  29. |     0        3    50     13 |\n",
      "  30. |     0        3    40     12 |\n",
      "      |-----------------------------|\n",
      "  31. |     0        3    56     18 |\n",
      "  32. |     0        3    42     16 |\n",
      "  33. |     0        3    43     16 |\n",
      "  34. |     0        3    28     12 |\n",
      "  35. |     0        3    32     16 |\n",
      "      |-----------------------------|\n",
      "  36. |     1        3    38     14 |\n",
      "  37. |     1        3    52     12 |\n",
      "  38. |     1        3    56     18 |\n",
      "  39. |     0        3    38     16 |\n",
      "  40. |     0        3    46     10 |\n",
      "      |-----------------------------|\n",
      "  41. |     0        1    46     10 |\n",
      "  42. |     0        1    39     10 |\n",
      "  43. |     1        3    25     12 |\n",
      "  44. |     0        3    57     12 |\n",
      "  45. |     0        3    41     13 |\n",
      "      |-----------------------------|\n",
      "  46. |     1        3    34     15 |\n",
      "  47. |     0        3    31     12 |\n",
      "  48. |     0        3    33     14 |\n",
      "  49. |     1        1    46     14 |\n",
      "  50. |     0        3    46      6 |\n",
      "      |-----------------------------|\n",
      "  51. |     0        3    47      8 |\n",
      "  52. |     0        3    48      6 |\n",
      "  53. |     0        3    32     13 |\n",
      "  54. |     0        3    54      4 |\n",
      "  55. |     0        3    57      6 |\n",
      "      |-----------------------------|\n",
      "  56. |     0        3    55     12 |\n",
      "  57. |     0        3    47     12 |\n",
      "  58. |     0        3    32     13 |\n",
      "  59. |     0        3    44     12 |\n",
      "  60. |     0        3    48      6 |\n",
      "      |-----------------------------|\n",
      "  61. |     0        3    29     12 |\n",
      "  62. |     1        3    47     12 |\n",
      "  63. |     0        3    36     15 |\n",
      "  64. |     0        3    48     12 |\n",
      "  65. |     0        3    56     12 |\n",
      "      |-----------------------------|\n",
      "  66. |     0        3    51     16 |\n",
      "  67. |     0        3    40     17 |\n",
      "  68. |     0        3    43     16 |\n",
      "  69. |     0        3    52     18 |\n",
      "  70. |     1        3    35     16 |\n",
      "      |-----------------------------|\n",
      "  71. |     0        3    47      9 |\n",
      "  72. |     0        3    54     12 |\n",
      "  73. |     0        3    33     12 |\n",
      "  74. |     0        1    48     10 |\n",
      "  75. |     0        3    37     11 |\n",
      "      |-----------------------------|\n",
      "  76. |     0        3    40     16 |\n",
      "  77. |     0        3    38     18 |\n",
      "  78. |     0        3    54      6 |\n",
      "  79. |     0        2    34     13 |\n",
      "  80. |     0        3    39     14 |\n",
      "      |-----------------------------|\n",
      "--more--\n"
     ]
    }
   ],
   "source": [
    "list abuse status age educ"
   ]
  },
  {
   "cell_type": "code",
   "execution_count": 13,
   "metadata": {},
   "outputs": [
    {
     "name": "stdout",
     "output_type": "stream",
     "text": [
      "\n",
      "     +-----------------------------+\n",
      "     | abuse   status   age   educ |\n",
      "     |-----------------------------|\n",
      "  1. |     1        1    50      4 |\n",
      "  2. |     0        3    37     12 |\n",
      "  3. |     0        3    53      9 |\n",
      "  4. |     0        3    59     11 |\n",
      "  5. |     0        3    43     10 |\n",
      "     |-----------------------------|\n",
      "  6. |     0        3    38     10 |\n",
      "  7. |     0        3    34     10 |\n",
      "  8. |     0        1    45      2 |\n",
      "  9. |     0        1    47      5 |\n",
      " 10. |     0        3    31     12 |\n",
      "     +-----------------------------+\n"
     ]
    }
   ],
   "source": [
    "list abuse status age educ in 1/10"
   ]
  },
  {
   "cell_type": "code",
   "execution_count": 14,
   "metadata": {},
   "outputs": [
    {
     "name": "stdout",
     "output_type": "stream",
     "text": [
      "\n",
      "      +-----------------------------+\n",
      "      | abuse   status   age   educ |\n",
      "      |-----------------------------|\n",
      "  14. |     0        3    29     16 |\n",
      "  17. |     0        3    27     12 |\n",
      "  20. |     0        3    25     12 |\n",
      "  34. |     0        3    28     12 |\n",
      "  43. |     1        3    25     12 |\n",
      "      |-----------------------------|\n",
      "  61. |     0        3    29     12 |\n",
      "  87. |     0        3    29     18 |\n",
      "  89. |     0        3    27     14 |\n",
      "  90. |     0        3    27     14 |\n",
      "  97. |     0        3    25     16 |\n",
      "      |-----------------------------|\n",
      " 101. |     0        1    25     13 |\n",
      " 111. |     0        3    27     12 |\n",
      " 132. |     0        3    25     12 |\n",
      " 149. |     0        1    28     12 |\n",
      " 153. |     0        3    25     12 |\n",
      "      |-----------------------------|\n",
      " 155. |     0        3    27     12 |\n",
      " 167. |     0        3    25     12 |\n",
      " 168. |     0        3    29     12 |\n",
      " 169. |     0        3    27     12 |\n",
      " 173. |     1        2    29     11 |\n",
      "      |-----------------------------|\n",
      " 175. |     0        3    27     16 |\n",
      " 176. |     0        1    27     11 |\n",
      " 185. |     0        3    27     11 |\n",
      " 194. |     0        3    28     16 |\n",
      " 195. |     0        3    26     13 |\n",
      "      |-----------------------------|\n",
      " 201. |     0        3    26     12 |\n",
      " 202. |     0        3    25     16 |\n",
      " 207. |     0        3    28     18 |\n",
      " 211. |     0        3    29     10 |\n",
      " 219. |     0        3    26     16 |\n",
      "      |-----------------------------|\n",
      " 221. |     0        3    28     11 |\n",
      " 224. |     0        3    28     18 |\n",
      " 227. |     0        3    26     16 |\n",
      " 243. |     0        3    27     16 |\n",
      " 245. |     0        3    28     16 |\n",
      "      |-----------------------------|\n",
      " 249. |     0        3    27     12 |\n",
      " 250. |     0        3    26      9 |\n",
      " 253. |     0        3    26     12 |\n",
      " 259. |     0        3    25     15 |\n",
      " 264. |     0        3    26     18 |\n",
      "      |-----------------------------|\n",
      " 265. |     0        3    29     16 |\n",
      " 271. |     1        3    26     16 |\n",
      " 274. |     0        3    28     16 |\n",
      " 275. |     0        3    26     17 |\n",
      " 277. |     0        3    26     16 |\n",
      "      |-----------------------------|\n",
      " 278. |     0        3    25     16 |\n",
      " 283. |     0        3    25     17 |\n",
      " 284. |     0        3    28     16 |\n",
      " 285. |     0        3    26     13 |\n",
      " 298. |     0        2    27     13 |\n",
      "      |-----------------------------|\n",
      " 301. |     0        3    28     12 |\n",
      " 304. |     1        1    27      9 |\n",
      " 305. |     0        3    26     12 |\n",
      " 312. |     0        3    25     16 |\n",
      " 313. |     0        3    28     12 |\n",
      "      |-----------------------------|\n",
      " 325. |     0        3    29      6 |\n",
      " 339. |     0        3    28     12 |\n",
      " 342. |     0        3    29     16 |\n",
      " 352. |     0        3    27     18 |\n",
      " 356. |     0        3    27     16 |\n",
      "      |-----------------------------|\n",
      " 357. |     0        3    25     14 |\n",
      " 359. |     0        3    28     16 |\n",
      " 365. |     0        1    28     10 |\n",
      " 366. |     0        3    27     12 |\n",
      " 372. |     0        3    28     18 |\n",
      "      |-----------------------------|\n",
      " 374. |     1        3    28     17 |\n",
      " 375. |     1        3    29     18 |\n",
      " 383. |     0        1    26     11 |\n",
      " 400. |     0        3    27     16 |\n",
      " 402. |     0        3    26     16 |\n",
      "      |-----------------------------|\n",
      " 416. |     1        3    26     12 |\n",
      " 417. |     0        3    28     13 |\n",
      " 418. |     1        2    28     12 |\n",
      " 427. |     1        3    26     18 |\n",
      " 434. |     0        3    29     16 |\n",
      "      |-----------------------------|\n",
      " 437. |     0        3    25     13 |\n",
      " 444. |     1        1    25      9 |\n",
      " 468. |     1        3    25     14 |\n",
      " 469. |     0        3    26     16 |\n",
      " 476. |     0        3    26     12 |\n",
      "      |-----------------------------|\n",
      "--more--\n"
     ]
    }
   ],
   "source": [
    "list abuse status age educ if age < 30"
   ]
  },
  {
   "cell_type": "code",
   "execution_count": 21,
   "metadata": {},
   "outputs": [
    {
     "name": "stdout",
     "output_type": "stream",
     "text": [
      "9,822 contradictions in 9,822 observations\n",
      "assertion is false\n"
     ]
    },
    {
     "name": "stderr",
     "output_type": "stream",
     "text": [
      "r(9);\n"
     ]
    },
    {
     "name": "stdout",
     "output_type": "stream",
     "text": [
      "\n"
     ]
    }
   ],
   "source": [
    "assert age < 0"
   ]
  },
  {
   "cell_type": "code",
   "execution_count": 22,
   "metadata": {},
   "outputs": [
    {
     "name": "stdout",
     "output_type": "stream",
     "text": [
      "\n",
      "Contains data\n",
      "  obs:         9,822                          \n",
      " vars:            34                          \n",
      " size:       569,676                          \n",
      "---------------------------------------------------------------------------------------------------------------------------------------------------------------------------------------------------------------------------------------------------------------\n",
      "              storage   display    value\n",
      "variable name   type    format     label      variable label\n",
      "---------------------------------------------------------------------------------------------------------------------------------------------------------------------------------------------------------------------------------------------------------------\n",
      "v1              int     %8.0g                 \n",
      "abuse           byte    %8.0g                 \n",
      "status          byte    %8.0g                 \n",
      "unemrate        float   %9.0g                 \n",
      "age             byte    %8.0g                 \n",
      "educ            byte    %8.0g                 \n",
      "married         byte    %8.0g                 \n",
      "famsize         byte    %8.0g                 \n",
      "white           byte    %8.0g                 \n",
      "exhealth        byte    %8.0g                 \n",
      "vghealth        byte    %8.0g                 \n",
      "goodhealth      byte    %8.0g                 \n",
      "fairhealth      byte    %8.0g                 \n",
      "northeast       byte    %8.0g                 \n",
      "midwest         byte    %8.0g                 \n",
      "south           byte    %8.0g                 \n",
      "centcity        byte    %8.0g                 \n",
      "outercity       byte    %8.0g                 \n",
      "qrt1            byte    %8.0g                 \n",
      "qrt2            byte    %8.0g                 \n",
      "qrt3            byte    %8.0g                 \n",
      "beertax         float   %9.0g                 \n",
      "cigtax          float   %9.0g                 \n",
      "ethanol         float   %9.0g                 \n",
      "mothalc         byte    %8.0g                 \n",
      "fathalc         byte    %8.0g                 \n",
      "livealc         byte    %8.0g                 \n",
      "inwf            byte    %8.0g                 \n",
      "employ          byte    %8.0g                 \n",
      "agesq           int     %8.0g                 \n",
      "beertaxsq       float   %9.0g                 \n",
      "cigtaxsq        float   %9.0g                 \n",
      "ethanolsq       float   %9.0g                 \n",
      "educsq          int     %8.0g                 \n",
      "---------------------------------------------------------------------------------------------------------------------------------------------------------------------------------------------------------------------------------------------------------------\n",
      "Sorted by: \n",
      "     Note: Dataset has changed since last saved.\n"
     ]
    }
   ],
   "source": [
    "describe"
   ]
  },
  {
   "cell_type": "code",
   "execution_count": 26,
   "metadata": {},
   "outputs": [
    {
     "name": "stdout",
     "output_type": "stream",
     "text": [
      "\n",
      "    Variable |        Obs        Mean    Std. Dev.       Min        Max\n",
      "-------------+---------------------------------------------------------\n",
      "          v1 |      9,822      4911.5    2835.512          1       9822\n",
      "       abuse |      9,822    .0991651    .2988988          0          1\n",
      "      status |      9,822    2.828548    .5304375          1          3\n",
      "    unemrate |      9,822    5.569212    1.505064        2.8       10.9\n",
      "         age |      9,822    39.17573    9.637618         25         59\n",
      "-------------+---------------------------------------------------------\n",
      "        educ |      9,822    13.30961    2.898751          0         19\n",
      "     married |      9,822    .8164325    .3871508          0          1\n",
      "     famsize |      9,822    2.741499    1.524022          1         13\n",
      "       white |      9,822    .8530849    .3540393          0          1\n",
      "    exhealth |      9,822    .4159031    .4929021          0          1\n",
      "-------------+---------------------------------------------------------\n",
      "    vghealth |      9,822    .3018733     .459094          0          1\n",
      "  goodhealth |      9,822    .2052535    .4039073          0          1\n",
      "  fairhealth |      9,822    .0534514    .2249434          0          1\n",
      "   northeast |      9,822    .2030136    .4022631          0          1\n",
      "     midwest |      9,822    .2656282    .4416896          0          1\n",
      "-------------+---------------------------------------------------------\n",
      "       south |      9,822    .3182651    .4658267          0          1\n",
      "    centcity |      9,822    .3332315    .4713925          0          1\n",
      "   outercity |      9,822     .434942    .4957746          0          1\n",
      "        qrt1 |      9,822    .2546325    .4356766          0          1\n",
      "        qrt2 |      9,822     .252698    .4345814          0          1\n",
      "-------------+---------------------------------------------------------\n",
      "        qrt3 |      9,822    .2428222    .4288104          0          1\n",
      "     beertax |      9,822    .4260433    .4437726       .045       2.37\n",
      "      cigtax |      9,822    17.96319    7.255378          2         38\n",
      "     ethanol |      9,822    2.035733    .3766722    1.03473    4.01676\n",
      "     mothalc |      9,822    .0404195     .196951          0          1\n",
      "-------------+---------------------------------------------------------\n",
      "     fathalc |      9,822    .1543474    .3612998          0          1\n",
      "     livealc |      9,822    .1881491     .390851          0          1\n",
      "        inwf |      9,822    .9303604    .2545516          0          1\n",
      "      employ |      9,822    .8981877    .3024167          0          1\n",
      "       agesq |      9,822    1627.612    797.4116        625       3481\n",
      "-------------+---------------------------------------------------------\n",
      "   beertaxsq |      9,822     .378427     .891617    .002025   5.616899\n",
      "    cigtaxsq |      9,822    375.3115     274.573          4       1444\n",
      "   ethanolsq |      9,822    4.286077    1.703576   1.070666   16.13436\n",
      "      educsq |      9,822    185.5476    74.35952          0        361\n"
     ]
    }
   ],
   "source": [
    "summarize"
   ]
  },
  {
   "cell_type": "code",
   "execution_count": 31,
   "metadata": {},
   "outputs": [
    {
     "name": "stdout",
     "output_type": "stream",
     "text": [
      "\n",
      "      abuse |      Freq.     Percent        Cum.\n",
      "------------+-----------------------------------\n",
      "          0 |      8,848       90.08       90.08\n",
      "          1 |        974        9.92      100.00\n",
      "------------+-----------------------------------\n",
      "      Total |      9,822      100.00\n"
     ]
    }
   ],
   "source": [
    "tab abuse"
   ]
  },
  {
   "cell_type": "code",
   "execution_count": 32,
   "metadata": {},
   "outputs": [
    {
     "name": "stdout",
     "output_type": "stream",
     "text": [
      "\n",
      "            |           Summary of educ\n",
      "      abuse |        Mean   Std. Dev.       Freq.\n",
      "------------+------------------------------------\n",
      "          0 |   13.343354   2.9101866       8,848\n",
      "          1 |    13.00308   2.7754227         974\n",
      "------------+------------------------------------\n",
      "      Total |   13.309611   2.8987509       9,822\n"
     ]
    }
   ],
   "source": [
    "tab abuse, sum(educ)"
   ]
  },
  {
   "cell_type": "code",
   "execution_count": 35,
   "metadata": {},
   "outputs": [
    {
     "name": "stdout",
     "output_type": "stream",
     "text": [
      "\n",
      "educ:                                           Number of Observations\n",
      "-------                                ---------------------------------------\n",
      "                                             Total      Integers   Nonintegers\n",
      "|              #             Negative            -             -             -\n",
      "|              #             Zero               13            13             -\n",
      "|              #             Positive        9,809         9,809             -\n",
      "|              #   #                   -----------   -----------   -----------\n",
      "|              #   #         Total           9,822         9,822             -\n",
      "|  .   .   #   #   #         Missing             -\n",
      "+----------------------                -----------\n",
      "0                    19                      9,822\n",
      "  (20 unique values)\n"
     ]
    }
   ],
   "source": [
    "inspect educ"
   ]
  },
  {
   "cell_type": "code",
   "execution_count": null,
   "metadata": {},
   "outputs": [],
   "source": [
    "save"
   ]
  },
  {
   "cell_type": "markdown",
   "metadata": {},
   "source": [
    "## Keeping track of things"
   ]
  },
  {
   "cell_type": "code",
   "execution_count": null,
   "metadata": {},
   "outputs": [],
   "source": [
    "do file and log file"
   ]
  },
  {
   "cell_type": "code",
   "execution_count": null,
   "metadata": {},
   "outputs": [],
   "source": [
    "capture log close\n",
    "log using test1.log, replace text\n",
    "log using test2.log, append text"
   ]
  },
  {
   "cell_type": "code",
   "execution_count": 36,
   "metadata": {},
   "outputs": [],
   "source": [
    "label data \"TA_session_data1\""
   ]
  },
  {
   "cell_type": "code",
   "execution_count": 40,
   "metadata": {},
   "outputs": [],
   "source": [
    "label variable abuse \"Whether abuse alcohol or not\"\n",
    "lab var status \"Employment == 1\""
   ]
  },
  {
   "cell_type": "code",
   "execution_count": 41,
   "metadata": {},
   "outputs": [
    {
     "name": "stdout",
     "output_type": "stream",
     "text": [
      "\n",
      "Contains data\n",
      "  obs:         9,822                          TA_session_data1\n",
      " vars:            34                          \n",
      " size:       569,676                          \n",
      "---------------------------------------------------------------------------------------------------------------------------------------------------------------------------------------------------------------------------------------------------------------\n",
      "              storage   display    value\n",
      "variable name   type    format     label      variable label\n",
      "---------------------------------------------------------------------------------------------------------------------------------------------------------------------------------------------------------------------------------------------------------------\n",
      "v1              int     %8.0g                 \n",
      "abuse           byte    %8.0g                 Whether abuse alcohol or not\n",
      "status          byte    %8.0g                 Employment == 1\n",
      "unemrate        float   %9.0g                 \n",
      "age             byte    %8.0g                 \n",
      "educ            byte    %8.0g                 \n",
      "married         byte    %8.0g                 \n",
      "famsize         byte    %8.0g                 \n",
      "white           byte    %8.0g                 \n",
      "exhealth        byte    %8.0g                 \n",
      "vghealth        byte    %8.0g                 \n",
      "goodhealth      byte    %8.0g                 \n",
      "fairhealth      byte    %8.0g                 \n",
      "northeast       byte    %8.0g                 \n",
      "midwest         byte    %8.0g                 \n",
      "south           byte    %8.0g                 \n",
      "centcity        byte    %8.0g                 \n",
      "outercity       byte    %8.0g                 \n",
      "qrt1            byte    %8.0g                 \n",
      "qrt2            byte    %8.0g                 \n",
      "qrt3            byte    %8.0g                 \n",
      "beertax         float   %9.0g                 \n",
      "cigtax          float   %9.0g                 \n",
      "ethanol         float   %9.0g                 \n",
      "mothalc         byte    %8.0g                 \n",
      "fathalc         byte    %8.0g                 \n",
      "livealc         byte    %8.0g                 \n",
      "inwf            byte    %8.0g                 \n",
      "employ          byte    %8.0g                 \n",
      "agesq           int     %8.0g                 \n",
      "beertaxsq       float   %9.0g                 \n",
      "cigtaxsq        float   %9.0g                 \n",
      "ethanolsq       float   %9.0g                 \n",
      "educsq          int     %8.0g                 \n",
      "---------------------------------------------------------------------------------------------------------------------------------------------------------------------------------------------------------------------------------------------------------------\n",
      "Sorted by: \n",
      "     Note: Dataset has changed since last saved.\n"
     ]
    }
   ],
   "source": [
    "describe"
   ]
  },
  {
   "cell_type": "code",
   "execution_count": 42,
   "metadata": {},
   "outputs": [
    {
     "name": "stdout",
     "output_type": "stream",
     "text": [
      "\n",
      " Employment |\n",
      "       == 1 |      Freq.     Percent        Cum.\n",
      "------------+-----------------------------------\n",
      "          1 |        684        6.96        6.96\n",
      "          2 |        316        3.22       10.18\n",
      "          3 |      8,822       89.82      100.00\n",
      "------------+-----------------------------------\n",
      "      Total |      9,822      100.00\n"
     ]
    }
   ],
   "source": [
    "tab status"
   ]
  },
  {
   "cell_type": "code",
   "execution_count": 47,
   "metadata": {},
   "outputs": [
    {
     "name": "stdout",
     "output_type": "stream",
     "text": [
      "label status already defined\n"
     ]
    },
    {
     "name": "stderr",
     "output_type": "stream",
     "text": [
      "r(110);\n"
     ]
    },
    {
     "name": "stdout",
     "output_type": "stream",
     "text": [
      "\n"
     ]
    }
   ],
   "source": [
    "lab de status 1 \"workforce\" 2 \"unemployed\" 3 \"employed\""
   ]
  },
  {
   "cell_type": "code",
   "execution_count": 48,
   "metadata": {},
   "outputs": [],
   "source": [
    "lab values status status"
   ]
  },
  {
   "cell_type": "code",
   "execution_count": 51,
   "metadata": {},
   "outputs": [
    {
     "name": "stdout",
     "output_type": "stream",
     "text": [
      "\n",
      " Employment |\n",
      "       == 1 |      Freq.     Percent        Cum.\n",
      "------------+-----------------------------------\n",
      "  workforce |        684      100.00      100.00\n",
      "------------+-----------------------------------\n",
      "      Total |        684      100.00\n"
     ]
    }
   ],
   "source": [
    "tab status if status == 1"
   ]
  },
  {
   "cell_type": "code",
   "execution_count": 52,
   "metadata": {},
   "outputs": [
    {
     "name": "stdout",
     "output_type": "stream",
     "text": [
      "status:\n",
      "           1 workforce\n",
      "           2 unemployed\n",
      "           3 employed\n"
     ]
    }
   ],
   "source": [
    "label list"
   ]
  },
  {
   "cell_type": "code",
   "execution_count": 56,
   "metadata": {},
   "outputs": [
    {
     "name": "stdout",
     "output_type": "stream",
     "text": [
      "\n",
      "     +------------------+\n",
      "     |    status   educ |\n",
      "     |------------------|\n",
      "  1. | workforce      4 |\n",
      "  8. | workforce      2 |\n",
      "  9. | workforce      5 |\n",
      "     +------------------+\n"
     ]
    }
   ],
   "source": [
    "list status educ if status == 1 in 1/10"
   ]
  },
  {
   "cell_type": "markdown",
   "metadata": {},
   "source": [
    "## Database Manipulation"
   ]
  },
  {
   "cell_type": "code",
   "execution_count": null,
   "metadata": {},
   "outputs": [],
   "source": [
    "ren"
   ]
  },
  {
   "cell_type": "code",
   "execution_count": null,
   "metadata": {},
   "outputs": [],
   "source": [
    "recode"
   ]
  },
  {
   "cell_type": "code",
   "execution_count": null,
   "metadata": {},
   "outputs": [],
   "source": [
    "keep\n",
    "drop"
   ]
  },
  {
   "cell_type": "code",
   "execution_count": null,
   "metadata": {},
   "outputs": [],
   "source": [
    "sort\n",
    "bysort"
   ]
  },
  {
   "cell_type": "code",
   "execution_count": null,
   "metadata": {},
   "outputs": [],
   "source": [
    "gen\n",
    "egen\n",
    "replace"
   ]
  }
 ],
 "metadata": {
  "kernelspec": {
   "display_name": "Stata",
   "language": "stata",
   "name": "stata"
  },
  "language_info": {
   "codemirror_mode": "stata",
   "file_extension": ".do",
   "mimetype": "text/x-stata",
   "name": "stata",
   "version": "15.1"
  }
 },
 "nbformat": 4,
 "nbformat_minor": 2
}
