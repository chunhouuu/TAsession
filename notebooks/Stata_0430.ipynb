{
 "cells": [
  {
   "cell_type": "markdown",
   "metadata": {},
   "source": [
    "Problem Set 3\n",
    "==="
   ]
  },
  {
   "cell_type": "code",
   "execution_count": 2,
   "metadata": {},
   "outputs": [
    {
     "name": "stdout",
     "output_type": "stream",
     "text": [
      "\n",
      "/Users/tino/Desktop/TA-Econometrics-II/datasets/0430\n",
      "\n",
      "(7 vars, 935 obs)\n"
     ]
    }
   ],
   "source": [
    "cd \"/Users/tino/Desktop/TA-Econometrics-II/datasets/0430\"\n",
    "insheet using \"wage2.csv\", clear"
   ]
  },
  {
   "cell_type": "code",
   "execution_count": 3,
   "metadata": {},
   "outputs": [
    {
     "name": "stdout",
     "output_type": "stream",
     "text": [
      "\n",
      "    Variable |        Obs        Mean    Std. Dev.       Min        Max\n",
      "-------------+---------------------------------------------------------\n",
      "          iq |        935    101.2824    15.05264         50        145\n",
      "        educ |        935    13.46845    2.196654          9         18\n",
      "       exper |        935    11.56364    4.374586          1         23\n",
      "         age |        935    33.08021    3.107803         28         38\n",
      "     married |        935    .8930481    .3092174          0          1\n",
      "-------------+---------------------------------------------------------\n",
      "       black |        935    .1283422    .3346495          0          1\n",
      "         ahe |        935    22.32186    9.876887        2.3      102.6\n"
     ]
    }
   ],
   "source": [
    "sum"
   ]
  },
  {
   "cell_type": "code",
   "execution_count": 4,
   "metadata": {},
   "outputs": [
    {
     "name": "stdout",
     "output_type": "stream",
     "text": [
      "\n",
      "Linear regression                               Number of obs     =        935\n",
      "                                                F(3, 931)         =      21.31\n",
      "                                                Prob > F          =     0.0000\n",
      "                                                R-squared         =     0.0514\n",
      "                                                Root MSE          =     9.6352\n",
      "\n",
      "------------------------------------------------------------------------------\n",
      "             |               Robust\n",
      "         ahe |      Coef.   Std. Err.      t    P>|t|     [95% Conf. Interval]\n",
      "-------------+----------------------------------------------------------------\n",
      "         age |   .3524633    .105689     3.33   0.001     .1450471    .5598795\n",
      "     married |   3.028001   .9744317     3.11   0.002     1.115664    4.940338\n",
      "       black |  -4.667742   .7851553    -5.94   0.000    -6.208621   -3.126862\n",
      "       _cons |   8.557219   3.564343     2.40   0.017     1.562142     15.5523\n",
      "------------------------------------------------------------------------------\n"
     ]
    }
   ],
   "source": [
    "// (a)\n",
    "reg ahe age married black, r"
   ]
  },
  {
   "cell_type": "code",
   "execution_count": 5,
   "metadata": {},
   "outputs": [
    {
     "name": "stdout",
     "output_type": "stream",
     "text": [
      "\n",
      "\n",
      "\n",
      "Linear regression                               Number of obs     =        935\n",
      "                                                F(3, 931)         =      21.04\n",
      "                                                Prob > F          =     0.0000\n",
      "                                                R-squared         =     0.0599\n",
      "                                                Root MSE          =     .44032\n",
      "\n",
      "------------------------------------------------------------------------------\n",
      "             |               Robust\n",
      "       lnahe |      Coef.   Std. Err.      t    P>|t|     [95% Conf. Interval]\n",
      "-------------+----------------------------------------------------------------\n",
      "         age |   .0182126    .004749     3.84   0.000     .0088927    .0275325\n",
      "     married |   .1530511   .0474702     3.22   0.001     .0598901    .2462121\n",
      "       black |  -.2238668   .0417205    -5.37   0.000    -.3057439   -.1419897\n",
      "       _cons |   2.298112   .1601239    14.35   0.000     1.983866    2.612357\n",
      "------------------------------------------------------------------------------\n"
     ]
    }
   ],
   "source": [
    "// (b) \n",
    "gen lnahe = ln(ahe)\n",
    "reg lnahe age married black, r"
   ]
  },
  {
   "cell_type": "code",
   "execution_count": 6,
   "metadata": {},
   "outputs": [
    {
     "name": "stdout",
     "output_type": "stream",
     "text": [
      "\n",
      "\n",
      "\n",
      "Linear regression                               Number of obs     =        935\n",
      "                                                F(3, 931)         =      21.08\n",
      "                                                Prob > F          =     0.0000\n",
      "                                                R-squared         =     0.0601\n",
      "                                                Root MSE          =     .44028\n",
      "\n",
      "------------------------------------------------------------------------------\n",
      "             |               Robust\n",
      "       lnahe |      Coef.   Std. Err.      t    P>|t|     [95% Conf. Interval]\n",
      "-------------+----------------------------------------------------------------\n",
      "       lnage |   .6060413    .156963     3.86   0.000      .297999    .9140836\n",
      "     married |   .1530448   .0474569     3.22   0.001     .0599099    .2461797\n",
      "       black |  -.2237518   .0417488    -5.36   0.000    -.3056845   -.1418191\n",
      "       _cons |   .7827538   .5469999     1.43   0.153    -.2907418    1.856249\n",
      "------------------------------------------------------------------------------\n"
     ]
    }
   ],
   "source": [
    "// (c)\n",
    "gen lnage = ln(age)\n",
    "reg lnahe lnage married black, r"
   ]
  },
  {
   "cell_type": "code",
   "execution_count": 7,
   "metadata": {},
   "outputs": [
    {
     "name": "stdout",
     "output_type": "stream",
     "text": [
      "\n",
      "\n",
      "\n",
      "Linear regression                               Number of obs     =        935\n",
      "                                                F(4, 930)         =      15.84\n",
      "                                                Prob > F          =     0.0000\n",
      "                                                R-squared         =     0.0606\n",
      "                                                Root MSE          =      .4404\n",
      "\n",
      "------------------------------------------------------------------------------\n",
      "             |               Robust\n",
      "       lnahe |      Coef.   Std. Err.      t    P>|t|     [95% Conf. Interval]\n",
      "-------------+----------------------------------------------------------------\n",
      "         age |   .1140151    .118629     0.96   0.337    -.1187964    .3468266\n",
      "        age2 |  -.0014401   .0017823    -0.81   0.419    -.0049378    .0020577\n",
      "     married |   .1535494   .0474801     3.23   0.001     .0603689      .24673\n",
      "       black |  -.2233096   .0418898    -5.33   0.000    -.3055191   -.1411002\n",
      "       _cons |   .7181878   1.962262     0.37   0.714    -3.132787    4.569163\n",
      "------------------------------------------------------------------------------\n"
     ]
    }
   ],
   "source": [
    "// (d)\n",
    "gen age2 = age^2\n",
    "reg lnahe age age2 married black, r"
   ]
  },
  {
   "cell_type": "code",
   "execution_count": 8,
   "metadata": {},
   "outputs": [
    {
     "name": "stdout",
     "output_type": "stream",
     "text": [
      "\n",
      "\n",
      "\n",
      "Linear regression                               Number of obs     =        935\n",
      "                                                F(5, 929)         =      12.76\n",
      "                                                Prob > F          =     0.0000\n",
      "                                                R-squared         =     0.0608\n",
      "                                                Root MSE          =     .44059\n",
      "\n",
      "------------------------------------------------------------------------------\n",
      "             |               Robust\n",
      "       lnahe |      Coef.   Std. Err.      t    P>|t|     [95% Conf. Interval]\n",
      "-------------+----------------------------------------------------------------\n",
      "         age |   .1165099   .1187382     0.98   0.327    -.1165163    .3495361\n",
      "        age2 |  -.0014761   .0017839    -0.83   0.408    -.0049771    .0020249\n",
      "     married |   .1439809   .0525422     2.74   0.006     .0408657     .247096\n",
      "       black |   -.270618   .1119468    -2.42   0.016     -.490316   -.0509201\n",
      "     marrblk |   .0551551   .1207534     0.46   0.648    -.1818259    .2921361\n",
      "       _cons |     .68402   1.963298     0.35   0.728    -3.168993    4.537033\n",
      "------------------------------------------------------------------------------\n"
     ]
    }
   ],
   "source": [
    "// (e)\n",
    "gen marrblk = married * black\n",
    "reg lnahe age age2 married black marrblk, r"
   ]
  },
  {
   "cell_type": "code",
   "execution_count": 11,
   "metadata": {},
   "outputs": [
    {
     "name": "stdout",
     "output_type": "stream",
     "text": [
      "\n",
      "\n",
      "\n",
      "Linear regression                               Number of obs     =        935\n",
      "                                                F(5, 929)         =      12.80\n",
      "                                                Prob > F          =     0.0000\n",
      "                                                R-squared         =     0.0610\n",
      "                                                Root MSE          =     .44053\n",
      "\n",
      "------------------------------------------------------------------------------\n",
      "             |               Robust\n",
      "       lnahe |      Coef.   Std. Err.      t    P>|t|     [95% Conf. Interval]\n",
      "-------------+----------------------------------------------------------------\n",
      "         age |   .1136683    .118747     0.96   0.339    -.1193751    .3467117\n",
      "        age2 |  -.0014161   .0017847    -0.79   0.428    -.0049188    .0020865\n",
      "     married |   .1522496   .0474003     3.21   0.001     .0592254    .2452737\n",
      "       black |   .0868749   .4541066     0.19   0.848    -.8043187    .9780686\n",
      "      ageblk |  -.0094489    .013762    -0.69   0.493    -.0364571    .0175593\n",
      "       _cons |   .7043704      1.964     0.36   0.720    -3.150021    4.558762\n",
      "------------------------------------------------------------------------------\n"
     ]
    }
   ],
   "source": [
    "// (g)\n",
    "gen ageblk = age * black\n",
    "reg lnahe age age2 married black ageblk, r"
   ]
  },
  {
   "cell_type": "code",
   "execution_count": null,
   "metadata": {},
   "outputs": [],
   "source": []
  }
 ],
 "metadata": {
  "kernelspec": {
   "display_name": "Stata",
   "language": "stata",
   "name": "stata"
  },
  "language_info": {
   "codemirror_mode": "stata",
   "file_extension": ".do",
   "mimetype": "text/x-stata",
   "name": "stata",
   "version": "15.1"
  }
 },
 "nbformat": 4,
 "nbformat_minor": 2
}
