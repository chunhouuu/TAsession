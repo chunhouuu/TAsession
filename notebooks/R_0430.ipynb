{
 "cells": [
  {
   "cell_type": "markdown",
   "metadata": {},
   "source": [
    "Problem Set 3\n",
    "==="
   ]
  },
  {
   "cell_type": "code",
   "execution_count": 1,
   "metadata": {
    "scrolled": true
   },
   "outputs": [
    {
     "name": "stderr",
     "output_type": "stream",
     "text": [
      "─ Attaching packages ──────────────────── tidyverse 1.2.1 ─\n",
      "✔ ggplot2 2.2.1     ✔ purrr   0.2.5\n",
      "✔ tibble  1.4.2     ✔ dplyr   0.7.6\n",
      "✔ tidyr   0.8.1     ✔ stringr 1.4.0\n",
      "✔ readr   1.1.1     ✔ forcats 0.3.0\n",
      "Warning message:\n",
      "“package ‘dplyr’ was built under R version 3.5.1”Warning message:\n",
      "“package ‘stringr’ was built under R version 3.5.2”─ Conflicts ───────────────────── tidyverse_conflicts() ─\n",
      "✖ dplyr::filter() masks stats::filter()\n",
      "✖ dplyr::lag()    masks stats::lag()\n"
     ]
    }
   ],
   "source": [
    "library(tidyverse)\n",
    "setwd(\"/Users/tino/Desktop/TA-Econometrics-II/datasets/0430\")\n",
    "wage2 <- read.csv(\"wage2.csv\")"
   ]
  },
  {
   "cell_type": "code",
   "execution_count": 2,
   "metadata": {},
   "outputs": [
    {
     "name": "stdout",
     "output_type": "stream",
     "text": [
      "'data.frame':\t935 obs. of  7 variables:\n",
      " $ iq     : int  93 119 108 96 74 116 91 114 111 95 ...\n",
      " $ educ   : int  12 18 14 12 11 16 10 18 15 12 ...\n",
      " $ exper  : int  11 11 11 13 14 14 13 8 13 16 ...\n",
      " $ age    : int  31 37 33 32 34 35 30 38 36 36 ...\n",
      " $ married: int  1 1 1 1 1 1 0 1 1 1 ...\n",
      " $ black  : int  0 0 0 0 0 1 0 0 0 0 ...\n",
      " $ ahe    : num  19.2 16.2 20.6 16.2 14.1 ...\n"
     ]
    }
   ],
   "source": [
    "str(wage2)"
   ]
  },
  {
   "cell_type": "code",
   "execution_count": 3,
   "metadata": {},
   "outputs": [
    {
     "name": "stderr",
     "output_type": "stream",
     "text": [
      "Loading required package: zoo\n",
      "\n",
      "Attaching package: ‘zoo’\n",
      "\n",
      "The following objects are masked from ‘package:base’:\n",
      "\n",
      "    as.Date, as.Date.numeric\n",
      "\n"
     ]
    }
   ],
   "source": [
    "library(lmtest)\n",
    "library(sandwich)"
   ]
  },
  {
   "cell_type": "code",
   "execution_count": 5,
   "metadata": {},
   "outputs": [
    {
     "data": {
      "text/plain": [
       "\n",
       "t test of coefficients:\n",
       "\n",
       "            Estimate Std. Error t value  Pr(>|t|)    \n",
       "(Intercept)  8.55722    3.56434  2.4008  0.016555 *  \n",
       "age          0.35246    0.10569  3.3349  0.000887 ***\n",
       "married      3.02800    0.97443  3.1075  0.001944 ** \n",
       "black       -4.66774    0.78516 -5.9450 3.906e-09 ***\n",
       "---\n",
       "Signif. codes:  0 ‘***’ 0.001 ‘**’ 0.01 ‘*’ 0.05 ‘.’ 0.1 ‘ ’ 1\n"
      ]
     },
     "metadata": {},
     "output_type": "display_data"
    }
   ],
   "source": [
    "# (a)\n",
    "reg_a <- lm(ahe ~ age + married + black, data = wage2)\n",
    "coeftest(reg_a, vcov = vcovHC(reg_a, type = \"HC1\"))"
   ]
  },
  {
   "cell_type": "code",
   "execution_count": 7,
   "metadata": {},
   "outputs": [
    {
     "data": {
      "text/plain": [
       "\n",
       "t test of coefficients:\n",
       "\n",
       "             Estimate Std. Error t value  Pr(>|t|)    \n",
       "(Intercept)  2.298112   0.160124 14.3521 < 2.2e-16 ***\n",
       "age          0.018213   0.004749  3.8351  0.000134 ***\n",
       "married      0.153051   0.047470  3.2242  0.001307 ** \n",
       "black       -0.223867   0.041721 -5.3659 1.017e-07 ***\n",
       "---\n",
       "Signif. codes:  0 ‘***’ 0.001 ‘**’ 0.01 ‘*’ 0.05 ‘.’ 0.1 ‘ ’ 1\n"
      ]
     },
     "metadata": {},
     "output_type": "display_data"
    }
   ],
   "source": [
    "# (b)\n",
    "wage2 <- mutate(wage2, lnahe = log(ahe))\n",
    "reg_b <- lm(lnahe ~ age + married + black, data = wage2)\n",
    "coeftest(reg_b, vcov = vcovHC(reg_b, type = \"HC1\"))"
   ]
  },
  {
   "cell_type": "code",
   "execution_count": 9,
   "metadata": {},
   "outputs": [
    {
     "data": {
      "text/plain": [
       "\n",
       "t test of coefficients:\n",
       "\n",
       "             Estimate Std. Error t value  Pr(>|t|)    \n",
       "(Intercept)  0.782754   0.547000  1.4310 0.1527672    \n",
       "lnage        0.606041   0.156963  3.8610 0.0001207 ***\n",
       "married      0.153045   0.047457  3.2249 0.0013040 ** \n",
       "black       -0.223752   0.041749 -5.3595 1.053e-07 ***\n",
       "---\n",
       "Signif. codes:  0 ‘***’ 0.001 ‘**’ 0.01 ‘*’ 0.05 ‘.’ 0.1 ‘ ’ 1\n"
      ]
     },
     "metadata": {},
     "output_type": "display_data"
    }
   ],
   "source": [
    "# (c)\n",
    "wage2 <- mutate(wage2, lnage = log(age))\n",
    "reg_c <- lm(lnahe ~ lnage + married + black, data = wage2)\n",
    "coeftest(reg_c, vcov = vcovHC(reg_c, type = \"HC1\"))"
   ]
  },
  {
   "cell_type": "code",
   "execution_count": 10,
   "metadata": {},
   "outputs": [
    {
     "data": {
      "text/plain": [
       "\n",
       "t test of coefficients:\n",
       "\n",
       "              Estimate Std. Error t value  Pr(>|t|)    \n",
       "(Intercept)  0.7181885  1.9622623  0.3660  0.714448    \n",
       "age          0.1140151  0.1186290  0.9611  0.336748    \n",
       "age2        -0.0014401  0.0017823 -0.8080  0.419303    \n",
       "married      0.1535494  0.0474801  3.2340  0.001264 ** \n",
       "black       -0.2233096  0.0418898 -5.3309 1.227e-07 ***\n",
       "---\n",
       "Signif. codes:  0 ‘***’ 0.001 ‘**’ 0.01 ‘*’ 0.05 ‘.’ 0.1 ‘ ’ 1\n"
      ]
     },
     "metadata": {},
     "output_type": "display_data"
    }
   ],
   "source": [
    "# (d)\n",
    "wage2 <- mutate(wage2, age2 = age^2)\n",
    "reg_d <- lm(lnahe ~ age + age2 + married + black, data = wage2)\n",
    "coeftest(reg_d, vcov = vcovHC(reg_d, type = \"HC1\"))"
   ]
  },
  {
   "cell_type": "code",
   "execution_count": 11,
   "metadata": {},
   "outputs": [
    {
     "data": {
      "text/plain": [
       "\n",
       "t test of coefficients:\n",
       "\n",
       "              Estimate Std. Error t value Pr(>|t|)   \n",
       "(Intercept)  0.6840207  1.9632978  0.3484 0.727616   \n",
       "age          0.1165098  0.1187382  0.9812 0.326733   \n",
       "age2        -0.0014761  0.0017839 -0.8274 0.408201   \n",
       "married      0.1439809  0.0525422  2.7403 0.006256 **\n",
       "black       -0.2706180  0.1119468 -2.4174 0.015824 * \n",
       "marrblk      0.0551551  0.1207534  0.4568 0.647952   \n",
       "---\n",
       "Signif. codes:  0 ‘***’ 0.001 ‘**’ 0.01 ‘*’ 0.05 ‘.’ 0.1 ‘ ’ 1\n"
      ]
     },
     "metadata": {},
     "output_type": "display_data"
    }
   ],
   "source": [
    "# (e)\n",
    "wage2 <- mutate(wage2, marrblk = married * black)\n",
    "reg_e <- lm(lnahe ~ age + age2 + married + black + marrblk, data = wage2)\n",
    "coeftest(reg_e, vcov = vcovHC(reg_e, type = \"HC1\"))"
   ]
  },
  {
   "cell_type": "code",
   "execution_count": null,
   "metadata": {},
   "outputs": [],
   "source": [
    "# (g)\n",
    "wage2 <- mutate(wage2, ageblk = age * black)\n",
    "reg_g <- lm(lnahe ~ age + age2 + married + black + ageblk, data = wage2)\n",
    "coeftest(reg_g, vcov = vcovHC(reg_g, type = \"HC1\"))"
   ]
  },
  {
   "cell_type": "code",
   "execution_count": null,
   "metadata": {},
   "outputs": [],
   "source": []
  }
 ],
 "metadata": {
  "kernelspec": {
   "display_name": "R",
   "language": "R",
   "name": "ir"
  },
  "language_info": {
   "codemirror_mode": "r",
   "file_extension": ".r",
   "mimetype": "text/x-r-source",
   "name": "R",
   "pygments_lexer": "r",
   "version": "3.5.0"
  }
 },
 "nbformat": 4,
 "nbformat_minor": 2
}
