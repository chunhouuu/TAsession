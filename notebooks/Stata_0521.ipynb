{
 "cells": [
  {
   "cell_type": "markdown",
   "metadata": {},
   "source": [
    "Instrumental Variables Regression\n",
    "===\n",
    "* Two Stage Least Squares\n",
    "* The Overidentifying Restrictions Test"
   ]
  },
  {
   "cell_type": "code",
   "execution_count": 8,
   "metadata": {
    "scrolled": true
   },
   "outputs": [
    {
     "name": "stdout",
     "output_type": "stream",
     "text": [
      "\n",
      "(17 vars, 663 obs)\n",
      "\n",
      "\n",
      "Contains data\n",
      "  obs:           663                          \n",
      " vars:            17                          \n",
      " size:        14,586                          \n",
      "---------------------------------------------------------------------------------------------------------------------------------------------------------------------------------------------------------------------------------------------------------------\n",
      "              storage   display    value\n",
      "variable name   type    format     label      variable label\n",
      "---------------------------------------------------------------------------------------------------------------------------------------------------------------------------------------------------------------------------------------------------------------\n",
      "wage            int     %8.0g                 \n",
      "hours           byte    %8.0g                 \n",
      "iq              int     %8.0g                 IQ\n",
      "kww             byte    %8.0g                 KWW\n",
      "educ            byte    %8.0g                 \n",
      "exper           byte    %8.0g                 \n",
      "tenure          byte    %8.0g                 \n",
      "age             byte    %8.0g                 \n",
      "married         byte    %8.0g                 \n",
      "black           byte    %8.0g                 \n",
      "south           byte    %8.0g                 \n",
      "urban           byte    %8.0g                 \n",
      "sibs            byte    %8.0g                 \n",
      "brthord         byte    %8.0g                 \n",
      "meduc           byte    %8.0g                 \n",
      "feduc           byte    %8.0g                 \n",
      "lwage           float   %9.0g                 \n",
      "---------------------------------------------------------------------------------------------------------------------------------------------------------------------------------------------------------------------------------------------------------------\n",
      "Sorted by: \n",
      "     Note: Dataset has changed since last saved.\n"
     ]
    }
   ],
   "source": [
    "insheet using \"/Users/tino/Desktop/TA-Econometrics-II/datasets/0521/wage2.csv\", clear\n",
    "des"
   ]
  },
  {
   "cell_type": "markdown",
   "metadata": {},
   "source": [
    "Data description:\n",
    "* lwage: natural log of wage.\n",
    "* educ: years of education.\n",
    "* sibs: number of siblings.\n",
    "* brthord: birth order.\n",
    "* meduc: mother's education.\n",
    "* feduc: father's education."
   ]
  },
  {
   "cell_type": "code",
   "execution_count": 13,
   "metadata": {
    "scrolled": true
   },
   "outputs": [
    {
     "name": "stdout",
     "output_type": "stream",
     "text": [
      "\n",
      "      Source |       SS           df       MS      Number of obs   =       663\n",
      "-------------+----------------------------------   F(2, 660)       =     40.42\n",
      "       Model |  12.2751515         2  6.13757576   Prob > F        =    0.0000\n",
      "    Residual |  100.208011       660  .151830319   R-squared       =    0.1091\n",
      "-------------+----------------------------------   Adj R-squared   =    0.1064\n",
      "       Total |  112.483162       662  .169914143   Root MSE        =    .38965\n",
      "\n",
      "------------------------------------------------------------------------------\n",
      "       lwage |      Coef.   Std. Err.      t    P>|t|     [95% Conf. Interval]\n",
      "-------------+----------------------------------------------------------------\n",
      "        educ |   .0568925   .0069228     8.22   0.000     .0432992    .0704858\n",
      "        sibs |  -.0134864   .0068935    -1.96   0.051    -.0270222    .0000493\n",
      "       _cons |   6.074378   .1015662    59.81   0.000     5.874946     6.27381\n",
      "------------------------------------------------------------------------------\n"
     ]
    }
   ],
   "source": [
    "// OLS model\n",
    "reg lwage educ sibs"
   ]
  },
  {
   "cell_type": "markdown",
   "metadata": {},
   "source": [
    "## First Stage\n",
    "* Endogenous variable: educ\n",
    "* Exogenous variable: sibs\n",
    "* Instrument: brthord"
   ]
  },
  {
   "cell_type": "code",
   "execution_count": 31,
   "metadata": {},
   "outputs": [
    {
     "name": "stdout",
     "output_type": "stream",
     "text": [
      "\n",
      "\n",
      "      Source |       SS           df       MS      Number of obs   =       663\n",
      "-------------+----------------------------------   F(2, 660)       =     15.44\n",
      "       Model |  147.293895         2  73.6469476   Prob > F        =    0.0000\n",
      "    Residual |  3148.91727       660  4.77108677   R-squared       =    0.0447\n",
      "-------------+----------------------------------   Adj R-squared   =    0.0418\n",
      "       Total |  3296.21116       662  4.97917094   Root MSE        =    2.1843\n",
      "\n",
      "------------------------------------------------------------------------------\n",
      "        educ |      Coef.   Std. Err.      t    P>|t|     [95% Conf. Interval]\n",
      "-------------+----------------------------------------------------------------\n",
      "     brthord |  -.1402304   .0699494    -2.00   0.045    -.2775805   -.0028803\n",
      "        sibs |  -.1424838   .0464357    -3.07   0.002    -.2336632   -.0513043\n",
      "       _cons |   14.39119   .1568005    91.78   0.000      14.0833    14.69908\n",
      "------------------------------------------------------------------------------\n",
      "\n",
      "\n",
      " ( 1)  brthord = 0\n",
      "\n",
      "       F(  1,   660) =    4.02\n",
      "            Prob > F =    0.0454\n"
     ]
    }
   ],
   "source": [
    "reg educ brthord sibs\n",
    "\n",
    "// checking for weak IV\n",
    "test brthord = 0"
   ]
  },
  {
   "cell_type": "code",
   "execution_count": 32,
   "metadata": {},
   "outputs": [
    {
     "name": "stdout",
     "output_type": "stream",
     "text": [
      "\n",
      "\n",
      "      Source |       SS           df       MS      Number of obs   =       663\n",
      "-------------+----------------------------------   F(4, 658)       =     43.75\n",
      "       Model |  692.455912         4  173.113978   Prob > F        =    0.0000\n",
      "    Residual |  2603.75525       658  3.95707485   R-squared       =    0.2101\n",
      "-------------+----------------------------------   Adj R-squared   =    0.2053\n",
      "       Total |  3296.21116       662  4.97917094   Root MSE        =    1.9892\n",
      "\n",
      "------------------------------------------------------------------------------\n",
      "        educ |      Coef.   Std. Err.      t    P>|t|     [95% Conf. Interval]\n",
      "-------------+----------------------------------------------------------------\n",
      "     brthord |  -.0122032   .0647301    -0.19   0.851    -.1393056    .1148992\n",
      "       meduc |   .1214772   .0343839     3.53   0.000     .0539617    .1889926\n",
      "       feduc |   .2152426   .0288683     7.46   0.000     .1585576    .2719277\n",
      "        sibs |  -.0910052   .0426604    -2.13   0.033    -.1747722   -.0072383\n",
      "       _cons |   10.43929    .392977    26.56   0.000     9.667645    11.21093\n",
      "------------------------------------------------------------------------------\n",
      "\n",
      "\n",
      " ( 1)  brthord - meduc = 0\n",
      " ( 2)  brthord - feduc = 0\n",
      " ( 3)  brthord = 0\n",
      "\n",
      "       F(  3,   658) =   47.54\n",
      "            Prob > F =    0.0000\n"
     ]
    }
   ],
   "source": [
    "reg educ brthord meduc feduc sibs\n",
    "\n",
    "// checking for weak IV\n",
    "test brthord = meduc = feduc = 0"
   ]
  },
  {
   "cell_type": "code",
   "execution_count": 11,
   "metadata": {
    "scrolled": true
   },
   "outputs": [
    {
     "name": "stdout",
     "output_type": "stream",
     "text": [
      "(option xb assumed; fitted values)\n"
     ]
    }
   ],
   "source": [
    "// calculate the fitted values for Second Stage\n",
    "predict educ_hat"
   ]
  },
  {
   "cell_type": "markdown",
   "metadata": {},
   "source": [
    "## Second Stage\n",
    "* regress lwage on **educ_hat** and sibs"
   ]
  },
  {
   "cell_type": "code",
   "execution_count": 12,
   "metadata": {
    "scrolled": true
   },
   "outputs": [
    {
     "name": "stdout",
     "output_type": "stream",
     "text": [
      "\n",
      "      Source |       SS           df       MS      Number of obs   =       663\n",
      "-------------+----------------------------------   F(2, 660)       =      8.89\n",
      "       Model |  2.95109716         2  1.47554858   Prob > F        =    0.0002\n",
      "    Residual |  109.532065       660  .165957675   R-squared       =    0.0262\n",
      "-------------+----------------------------------   Adj R-squared   =    0.0233\n",
      "       Total |  112.483162       662  .169914143   Root MSE        =    .40738\n",
      "\n",
      "------------------------------------------------------------------------------\n",
      "       lwage |      Coef.   Std. Err.      t    P>|t|     [95% Conf. Interval]\n",
      "-------------+----------------------------------------------------------------\n",
      "    educ_hat |   .2202644   .0930319     2.37   0.018     .0375903    .4029385\n",
      "        sibs |   .0185861   .0195827     0.95   0.343    -.0198658    .0570381\n",
      "       _cons |   3.748128   1.324927     2.83   0.005     1.146549    6.349707\n",
      "------------------------------------------------------------------------------\n"
     ]
    }
   ],
   "source": [
    "reg lwage educ_hat sibs"
   ]
  },
  {
   "cell_type": "markdown",
   "metadata": {},
   "source": [
    "## 2SLS command\n",
    "* ivregress 2sls"
   ]
  },
  {
   "cell_type": "code",
   "execution_count": 24,
   "metadata": {
    "scrolled": true
   },
   "outputs": [
    {
     "name": "stdout",
     "output_type": "stream",
     "text": [
      "\n",
      "Instrumental variables (2SLS) regression          Number of obs   =        663\n",
      "                                                  Wald chi2(2)    =      10.59\n",
      "                                                  Prob > chi2     =     0.0050\n",
      "                                                  R-squared       =          .\n",
      "                                                  Root MSE        =      .5279\n",
      "\n",
      "------------------------------------------------------------------------------\n",
      "       lwage |      Coef.   Std. Err.      z    P>|z|     [95% Conf. Interval]\n",
      "-------------+----------------------------------------------------------------\n",
      "        educ |   .2202644   .1205554     1.83   0.068    -.0160199    .4565487\n",
      "        sibs |   .0185861   .0253763     0.73   0.464    -.0311505    .0683228\n",
      "       _cons |   3.748128   1.716908     2.18   0.029     .3830506    7.113205\n",
      "------------------------------------------------------------------------------\n",
      "Instrumented:  educ\n",
      "Instruments:   sibs brthord\n"
     ]
    }
   ],
   "source": [
    "ivregress 2sls lwage sibs (educ = brthord)"
   ]
  },
  {
   "cell_type": "code",
   "execution_count": 25,
   "metadata": {
    "scrolled": true
   },
   "outputs": [
    {
     "name": "stdout",
     "output_type": "stream",
     "text": [
      "\n",
      "Instrumental variables (2SLS) regression          Number of obs   =        663\n",
      "                                                  Wald chi2(2)    =      52.16\n",
      "                                                  Prob > chi2     =     0.0000\n",
      "                                                  R-squared       =     0.0376\n",
      "                                                  Root MSE        =     .40408\n",
      "\n",
      "------------------------------------------------------------------------------\n",
      "       lwage |      Coef.   Std. Err.      z    P>|z|     [95% Conf. Interval]\n",
      "-------------+----------------------------------------------------------------\n",
      "        educ |   .1072892   .0170097     6.31   0.000     .0739508    .1406276\n",
      "        sibs |  -.0035927   .0077632    -0.46   0.644    -.0188084    .0116229\n",
      "       _cons |    5.35678   .2435271    22.00   0.000     4.879476    5.834085\n",
      "------------------------------------------------------------------------------\n",
      "Instrumented:  educ\n",
      "Instruments:   sibs brthord meduc feduc\n"
     ]
    }
   ],
   "source": [
    "// overidentified case\n",
    "ivregress 2sls lwage sibs (educ = brthord meduc feduc)"
   ]
  },
  {
   "cell_type": "markdown",
   "metadata": {},
   "source": [
    "## The Overidentifying Restrictions Test\n",
    "* Simple calculation\n",
    "* estat overid"
   ]
  },
  {
   "cell_type": "code",
   "execution_count": 27,
   "metadata": {},
   "outputs": [
    {
     "name": "stdout",
     "output_type": "stream",
     "text": [
      "\n",
      "\n",
      "\n",
      "Instrumental variables (2SLS) regression          Number of obs   =        663\n",
      "                                                  Wald chi2(2)    =      52.16\n",
      "                                                  Prob > chi2     =     0.0000\n",
      "                                                  R-squared       =     0.0376\n",
      "                                                  Root MSE        =     .40408\n",
      "\n",
      "------------------------------------------------------------------------------\n",
      "       lwage |      Coef.   Std. Err.      z    P>|z|     [95% Conf. Interval]\n",
      "-------------+----------------------------------------------------------------\n",
      "        educ |   .1072892   .0170097     6.31   0.000     .0739508    .1406276\n",
      "        sibs |  -.0035927   .0077632    -0.46   0.644    -.0188084    .0116229\n",
      "       _cons |    5.35678   .2435271    22.00   0.000     4.879476    5.834085\n",
      "------------------------------------------------------------------------------\n",
      "Instrumented:  educ\n",
      "Instruments:   sibs brthord meduc feduc\n",
      "\n",
      "(option xb assumed; fitted values)\n"
     ]
    }
   ],
   "source": [
    "ivregress 2sls lwage sibs (educ = brthord meduc feduc)\n",
    "predict lwage_hat"
   ]
  },
  {
   "cell_type": "code",
   "execution_count": 19,
   "metadata": {},
   "outputs": [
    {
     "name": "stdout",
     "output_type": "stream",
     "text": [
      "\n",
      "\n",
      "\n",
      "      Source |       SS           df       MS      Number of obs   =       663\n",
      "-------------+----------------------------------   F(4, 658)       =      0.63\n",
      "       Model |  .414923504         4  .103730876   Prob > F        =    0.6391\n",
      "    Residual |  107.839487       658  .163889798   R-squared       =    0.0038\n",
      "-------------+----------------------------------   Adj R-squared   =   -0.0022\n",
      "       Total |  108.254411       662    .1635263   Root MSE        =    .40483\n",
      "\n",
      "------------------------------------------------------------------------------\n",
      "      u_tsls |      Coef.   Std. Err.      t    P>|t|     [95% Conf. Interval]\n",
      "-------------+----------------------------------------------------------------\n",
      "     brthord |  -.0156258   .0131733    -1.19   0.236    -.0414925     .010241\n",
      "       meduc |   .0061431   .0069975     0.88   0.380    -.0075971    .0198832\n",
      "       feduc |  -.0053606    .005875    -0.91   0.362    -.0168966    .0061755\n",
      "        sibs |   .0065856   .0086819     0.76   0.448    -.0104619    .0236331\n",
      "       _cons |   .0038408   .0799753     0.05   0.962    -.1531968    .1608783\n",
      "------------------------------------------------------------------------------\n"
     ]
    }
   ],
   "source": [
    "gen u_tsls = lwage - lwage_hat\n",
    "reg u_tsls brthord meduc feduc sibs"
   ]
  },
  {
   "cell_type": "code",
   "execution_count": 20,
   "metadata": {},
   "outputs": [
    {
     "name": "stdout",
     "output_type": "stream",
     "text": [
      "\n",
      " ( 1)  brthord - meduc = 0\n",
      " ( 2)  brthord - feduc = 0\n",
      " ( 3)  brthord = 0\n",
      "\n",
      "       F(  3,   658) =    0.84\n",
      "            Prob > F =    0.4701\n"
     ]
    }
   ],
   "source": [
    "test brthord = meduc = feduc = 0\n",
    "// Thus, the J-statistic = mF = 3 * 0.84 = 2.52"
   ]
  },
  {
   "cell_type": "code",
   "execution_count": 28,
   "metadata": {},
   "outputs": [
    {
     "name": "stdout",
     "output_type": "stream",
     "text": [
      "\n",
      "\n",
      "Instrumental variables (2SLS) regression          Number of obs   =        663\n",
      "                                                  Wald chi2(2)    =      52.16\n",
      "                                                  Prob > chi2     =     0.0000\n",
      "                                                  R-squared       =     0.0376\n",
      "                                                  Root MSE        =     .40408\n",
      "\n",
      "------------------------------------------------------------------------------\n",
      "       lwage |      Coef.   Std. Err.      z    P>|z|     [95% Conf. Interval]\n",
      "-------------+----------------------------------------------------------------\n",
      "        educ |   .1072892   .0170097     6.31   0.000     .0739508    .1406276\n",
      "        sibs |  -.0035927   .0077632    -0.46   0.644    -.0188084    .0116229\n",
      "       _cons |    5.35678   .2435271    22.00   0.000     4.879476    5.834085\n",
      "------------------------------------------------------------------------------\n",
      "Instrumented:  educ\n",
      "Instruments:   sibs brthord meduc feduc\n",
      "\n",
      "\n",
      "  Tests of overidentifying restrictions:\n",
      "\n",
      "  Sargan (score) chi2(2) =  2.54118  (p = 0.2807)\n",
      "  Basmann chi2(2)        =  2.53172  (p = 0.2820)\n"
     ]
    }
   ],
   "source": [
    "// estat overid\n",
    "ivregress 2sls lwage sibs (educ = brthord meduc feduc)\n",
    "estat overid"
   ]
  }
 ],
 "metadata": {
  "kernelspec": {
   "display_name": "Stata",
   "language": "stata",
   "name": "stata"
  },
  "language_info": {
   "codemirror_mode": "stata",
   "file_extension": ".do",
   "mimetype": "text/x-stata",
   "name": "stata",
   "version": "15.1"
  }
 },
 "nbformat": 4,
 "nbformat_minor": 2
}
