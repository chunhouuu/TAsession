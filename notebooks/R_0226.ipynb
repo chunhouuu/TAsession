{
 "cells": [
  {
   "cell_type": "markdown",
   "metadata": {},
   "source": [
    "Introduction to R\n",
    "===\n",
    "---\n",
    "1. Working directory\n",
    "2. Reading data into R\n",
    "3. Examining data  \n",
    "4. Keeping track\n",
    "5. **Practice!**\n",
    "---"
   ]
  },
  {
   "cell_type": "markdown",
   "metadata": {},
   "source": [
    "## 1. Working directiory\n",
    "* setwd(  )\n",
    "* getwd(  )"
   ]
  },
  {
   "cell_type": "code",
   "execution_count": 3,
   "metadata": {},
   "outputs": [],
   "source": [
    "setwd(\"/Users/tino/Desktop/TA-Econometrics-II/notebooks_R\") # set working directory"
   ]
  },
  {
   "cell_type": "code",
   "execution_count": 4,
   "metadata": {},
   "outputs": [
    {
     "data": {
      "text/html": [
       "'/Users/tino/Desktop/TA-Econometrics-II/notebooks_R'"
      ],
      "text/latex": [
       "'/Users/tino/Desktop/TA-Econometrics-II/notebooks\\_R'"
      ],
      "text/markdown": [
       "'/Users/tino/Desktop/TA-Econometrics-II/notebooks_R'"
      ],
      "text/plain": [
       "[1] \"/Users/tino/Desktop/TA-Econometrics-II/notebooks_R\""
      ]
     },
     "metadata": {},
     "output_type": "display_data"
    }
   ],
   "source": [
    "getwd() # display working directory"
   ]
  },
  {
   "cell_type": "markdown",
   "metadata": {},
   "source": [
    "---\n",
    "## 2. Reading data into R\n",
    "* package - tidyverse\n",
    "* readr - read.csv( )\n",
    "* var_name <- read.csv(\"file_name.csv\")"
   ]
  },
  {
   "cell_type": "code",
   "execution_count": 6,
   "metadata": {},
   "outputs": [
    {
     "name": "stdout",
     "output_type": "stream",
     "text": [
      "\n",
      "The downloaded binary packages are in\n",
      "\t/var/folders/xj/2zqx0dxn52d5778tkr7r6rp00000gn/T//RtmpQpnmtJ/downloaded_packages\n"
     ]
    }
   ],
   "source": [
    "install.packages(\"tidyverse\") # install the package tidyverse"
   ]
  },
  {
   "cell_type": "code",
   "execution_count": 7,
   "metadata": {},
   "outputs": [
    {
     "name": "stderr",
     "output_type": "stream",
     "text": [
      "─ Attaching packages ──────────────────── tidyverse 1.2.1 ─\n",
      "✔ ggplot2 2.2.1     ✔ purrr   0.2.5\n",
      "✔ tibble  1.4.2     ✔ dplyr   0.7.6\n",
      "✔ tidyr   0.8.1     ✔ stringr 1.4.0\n",
      "✔ readr   1.1.1     ✔ forcats 0.3.0\n",
      "Warning message:\n",
      "“package ‘dplyr’ was built under R version 3.5.1”Warning message:\n",
      "“package ‘stringr’ was built under R version 3.5.2”─ Conflicts ───────────────────── tidyverse_conflicts() ─\n",
      "✖ dplyr::filter() masks stats::filter()\n",
      "✖ dplyr::lag()    masks stats::lag()\n"
     ]
    }
   ],
   "source": [
    "library(tidyverse) # import tidyverse"
   ]
  },
  {
   "cell_type": "code",
   "execution_count": 10,
   "metadata": {},
   "outputs": [
    {
     "data": {
      "text/html": [
       "<table>\n",
       "<thead><tr><th scope=col>id</th><th scope=col>male</th><th scope=col>age</th><th scope=col>yrsmarr</th><th scope=col>kids</th><th scope=col>relig</th><th scope=col>educ</th><th scope=col>occup</th><th scope=col>ratemarr</th><th scope=col>naffairs</th><th scope=col>affair</th></tr></thead>\n",
       "<tbody>\n",
       "\t<tr><td>  4   </td><td>1     </td><td>37    </td><td>10.000</td><td>0     </td><td>3     </td><td>18    </td><td>7     </td><td>4     </td><td> 0    </td><td>0     </td></tr>\n",
       "\t<tr><td>  5   </td><td>0     </td><td>27    </td><td> 4.000</td><td>0     </td><td>4     </td><td>14    </td><td>6     </td><td>4     </td><td> 0    </td><td>0     </td></tr>\n",
       "\t<tr><td>  6   </td><td>1     </td><td>27    </td><td> 1.500</td><td>0     </td><td>3     </td><td>18    </td><td>4     </td><td>4     </td><td> 3    </td><td>1     </td></tr>\n",
       "\t<tr><td> 11   </td><td>0     </td><td>32    </td><td>15.000</td><td>1     </td><td>1     </td><td>12    </td><td>1     </td><td>4     </td><td> 0    </td><td>0     </td></tr>\n",
       "\t<tr><td> 12   </td><td>0     </td><td>27    </td><td> 4.000</td><td>1     </td><td>3     </td><td>17    </td><td>1     </td><td>5     </td><td> 3    </td><td>1     </td></tr>\n",
       "\t<tr><td> 16   </td><td>1     </td><td>57    </td><td>15.000</td><td>1     </td><td>5     </td><td>18    </td><td>6     </td><td>5     </td><td> 0    </td><td>0     </td></tr>\n",
       "\t<tr><td> 23   </td><td>1     </td><td>22    </td><td> 0.750</td><td>0     </td><td>2     </td><td>17    </td><td>6     </td><td>3     </td><td> 0    </td><td>0     </td></tr>\n",
       "\t<tr><td> 29   </td><td>0     </td><td>32    </td><td> 1.500</td><td>0     </td><td>2     </td><td>17    </td><td>5     </td><td>5     </td><td> 0    </td><td>0     </td></tr>\n",
       "\t<tr><td> 43   </td><td>1     </td><td>37    </td><td>15.000</td><td>1     </td><td>5     </td><td>18    </td><td>6     </td><td>2     </td><td> 7    </td><td>1     </td></tr>\n",
       "\t<tr><td> 44   </td><td>0     </td><td>22    </td><td> 0.750</td><td>0     </td><td>2     </td><td>12    </td><td>1     </td><td>3     </td><td> 0    </td><td>0     </td></tr>\n",
       "\t<tr><td> 45   </td><td>1     </td><td>57    </td><td>15.000</td><td>1     </td><td>2     </td><td>14    </td><td>4     </td><td>4     </td><td> 0    </td><td>0     </td></tr>\n",
       "\t<tr><td> 47   </td><td>0     </td><td>32    </td><td>15.000</td><td>1     </td><td>4     </td><td>16    </td><td>1     </td><td>2     </td><td> 0    </td><td>0     </td></tr>\n",
       "\t<tr><td> 49   </td><td>1     </td><td>22    </td><td> 1.500</td><td>0     </td><td>4     </td><td>14    </td><td>4     </td><td>5     </td><td> 0    </td><td>0     </td></tr>\n",
       "\t<tr><td> 50   </td><td>1     </td><td>37    </td><td>15.000</td><td>1     </td><td>2     </td><td>20    </td><td>7     </td><td>2     </td><td> 0    </td><td>0     </td></tr>\n",
       "\t<tr><td> 53   </td><td>0     </td><td>32    </td><td>10.000</td><td>1     </td><td>3     </td><td>17    </td><td>5     </td><td>2     </td><td>12    </td><td>1     </td></tr>\n",
       "\t<tr><td> 55   </td><td>1     </td><td>27    </td><td> 4.000</td><td>1     </td><td>4     </td><td>18    </td><td>6     </td><td>4     </td><td> 0    </td><td>0     </td></tr>\n",
       "\t<tr><td> 64   </td><td>1     </td><td>47    </td><td>15.000</td><td>1     </td><td>5     </td><td>17    </td><td>6     </td><td>4     </td><td> 0    </td><td>0     </td></tr>\n",
       "\t<tr><td> 67   </td><td>1     </td><td>22    </td><td> 0.125</td><td>0     </td><td>4     </td><td>16    </td><td>5     </td><td>5     </td><td> 1    </td><td>1     </td></tr>\n",
       "\t<tr><td> 79   </td><td>0     </td><td>22    </td><td> 1.500</td><td>1     </td><td>2     </td><td>14    </td><td>1     </td><td>5     </td><td> 1    </td><td>1     </td></tr>\n",
       "\t<tr><td> 80   </td><td>0     </td><td>22    </td><td> 1.500</td><td>0     </td><td>2     </td><td>17    </td><td>5     </td><td>4     </td><td> 0    </td><td>0     </td></tr>\n",
       "\t<tr><td> 86   </td><td>0     </td><td>27    </td><td> 4.000</td><td>0     </td><td>4     </td><td>14    </td><td>5     </td><td>4     </td><td> 0    </td><td>0     </td></tr>\n",
       "\t<tr><td> 93   </td><td>0     </td><td>37    </td><td>15.000</td><td>1     </td><td>1     </td><td>17    </td><td>5     </td><td>5     </td><td> 0    </td><td>0     </td></tr>\n",
       "\t<tr><td>108   </td><td>0     </td><td>37    </td><td>15.000</td><td>1     </td><td>2     </td><td>18    </td><td>4     </td><td>3     </td><td> 0    </td><td>0     </td></tr>\n",
       "\t<tr><td>114   </td><td>0     </td><td>22    </td><td> 0.750</td><td>0     </td><td>3     </td><td>16    </td><td>5     </td><td>4     </td><td> 0    </td><td>0     </td></tr>\n",
       "\t<tr><td>115   </td><td>0     </td><td>22    </td><td> 1.500</td><td>0     </td><td>2     </td><td>16    </td><td>5     </td><td>5     </td><td> 0    </td><td>0     </td></tr>\n",
       "\t<tr><td>116   </td><td>0     </td><td>27    </td><td>10.000</td><td>1     </td><td>2     </td><td>14    </td><td>1     </td><td>5     </td><td> 0    </td><td>0     </td></tr>\n",
       "\t<tr><td>122   </td><td>1     </td><td>37    </td><td>15.000</td><td>1     </td><td>4     </td><td>14    </td><td>5     </td><td>2     </td><td>12    </td><td>1     </td></tr>\n",
       "\t<tr><td>123   </td><td>0     </td><td>22    </td><td> 1.500</td><td>0     </td><td>2     </td><td>16    </td><td>5     </td><td>5     </td><td> 0    </td><td>0     </td></tr>\n",
       "\t<tr><td>126   </td><td>0     </td><td>22    </td><td> 1.500</td><td>0     </td><td>2     </td><td>14    </td><td>3     </td><td>4     </td><td> 7    </td><td>1     </td></tr>\n",
       "\t<tr><td>127   </td><td>0     </td><td>22    </td><td> 1.500</td><td>0     </td><td>2     </td><td>16    </td><td>5     </td><td>5     </td><td> 0    </td><td>0     </td></tr>\n",
       "\t<tr><td>⋮</td><td>⋮</td><td>⋮</td><td>⋮</td><td>⋮</td><td>⋮</td><td>⋮</td><td>⋮</td><td>⋮</td><td>⋮</td><td>⋮</td></tr>\n",
       "\t<tr><td>1885</td><td>0   </td><td>32  </td><td>15.0</td><td>1   </td><td>5   </td><td>16  </td><td>5   </td><td>3   </td><td>0   </td><td>0   </td></tr>\n",
       "\t<tr><td>1892</td><td>1   </td><td>32  </td><td>10.0</td><td>1   </td><td>4   </td><td>18  </td><td>5   </td><td>4   </td><td>0   </td><td>0   </td></tr>\n",
       "\t<tr><td>1895</td><td>0   </td><td>32  </td><td>15.0</td><td>1   </td><td>2   </td><td>14  </td><td>3   </td><td>4   </td><td>0   </td><td>0   </td></tr>\n",
       "\t<tr><td>1896</td><td>0   </td><td>22  </td><td> 1.5</td><td>0   </td><td>3   </td><td>17  </td><td>5   </td><td>5   </td><td>0   </td><td>0   </td></tr>\n",
       "\t<tr><td>1897</td><td>1   </td><td>27  </td><td> 4.0</td><td>1   </td><td>4   </td><td>17  </td><td>4   </td><td>4   </td><td>0   </td><td>0   </td></tr>\n",
       "\t<tr><td>1899</td><td>0   </td><td>52  </td><td>15.0</td><td>1   </td><td>5   </td><td>14  </td><td>1   </td><td>5   </td><td>0   </td><td>0   </td></tr>\n",
       "\t<tr><td>1904</td><td>0   </td><td>27  </td><td> 7.0</td><td>1   </td><td>2   </td><td>12  </td><td>1   </td><td>2   </td><td>0   </td><td>0   </td></tr>\n",
       "\t<tr><td>1905</td><td>0   </td><td>27  </td><td> 7.0</td><td>1   </td><td>3   </td><td>12  </td><td>1   </td><td>4   </td><td>0   </td><td>0   </td></tr>\n",
       "\t<tr><td>1908</td><td>0   </td><td>42  </td><td>15.0</td><td>1   </td><td>2   </td><td>14  </td><td>1   </td><td>4   </td><td>0   </td><td>0   </td></tr>\n",
       "\t<tr><td>1916</td><td>0   </td><td>42  </td><td>15.0</td><td>1   </td><td>4   </td><td>14  </td><td>5   </td><td>4   </td><td>0   </td><td>0   </td></tr>\n",
       "\t<tr><td>1918</td><td>1   </td><td>27  </td><td> 7.0</td><td>1   </td><td>4   </td><td>14  </td><td>3   </td><td>3   </td><td>0   </td><td>0   </td></tr>\n",
       "\t<tr><td>1920</td><td>1   </td><td>27  </td><td> 7.0</td><td>1   </td><td>2   </td><td>20  </td><td>6   </td><td>2   </td><td>0   </td><td>0   </td></tr>\n",
       "\t<tr><td>1929</td><td>1   </td><td>32  </td><td>10.0</td><td>1   </td><td>4   </td><td>14  </td><td>4   </td><td>3   </td><td>3   </td><td>1   </td></tr>\n",
       "\t<tr><td>1930</td><td>0   </td><td>42  </td><td>15.0</td><td>1   </td><td>3   </td><td>12  </td><td>3   </td><td>3   </td><td>0   </td><td>0   </td></tr>\n",
       "\t<tr><td>1935</td><td>1   </td><td>47  </td><td>15.0</td><td>1   </td><td>3   </td><td>16  </td><td>4   </td><td>2   </td><td>7   </td><td>1   </td></tr>\n",
       "\t<tr><td>1938</td><td>1   </td><td>22  </td><td> 1.5</td><td>1   </td><td>1   </td><td>12  </td><td>2   </td><td>5   </td><td>1   </td><td>1   </td></tr>\n",
       "\t<tr><td>1940</td><td>1   </td><td>27  </td><td> 4.0</td><td>1   </td><td>3   </td><td>16  </td><td>3   </td><td>5   </td><td>0   </td><td>0   </td></tr>\n",
       "\t<tr><td>1941</td><td>0   </td><td>32  </td><td>10.0</td><td>1   </td><td>2   </td><td>18  </td><td>5   </td><td>4   </td><td>7   </td><td>1   </td></tr>\n",
       "\t<tr><td>1947</td><td>0   </td><td>27  </td><td> 7.0</td><td>1   </td><td>3   </td><td>14  </td><td>1   </td><td>4   </td><td>0   </td><td>0   </td></tr>\n",
       "\t<tr><td>1949</td><td>0   </td><td>22  </td><td> 1.5</td><td>0   </td><td>2   </td><td>14  </td><td>4   </td><td>5   </td><td>0   </td><td>0   </td></tr>\n",
       "\t<tr><td>1951</td><td>0   </td><td>27  </td><td> 4.0</td><td>1   </td><td>4   </td><td>14  </td><td>1   </td><td>4   </td><td>0   </td><td>0   </td></tr>\n",
       "\t<tr><td>1952</td><td>0   </td><td>22  </td><td> 4.0</td><td>0   </td><td>4   </td><td>14  </td><td>5   </td><td>5   </td><td>0   </td><td>0   </td></tr>\n",
       "\t<tr><td>1954</td><td>1   </td><td>32  </td><td>10.0</td><td>1   </td><td>2   </td><td>17  </td><td>6   </td><td>5   </td><td>2   </td><td>1   </td></tr>\n",
       "\t<tr><td>1959</td><td>1   </td><td>22  </td><td> 7.0</td><td>1   </td><td>3   </td><td>18  </td><td>6   </td><td>2   </td><td>2   </td><td>1   </td></tr>\n",
       "\t<tr><td>1960</td><td>0   </td><td>22  </td><td> 1.5</td><td>0   </td><td>2   </td><td>16  </td><td>4   </td><td>5   </td><td>0   </td><td>0   </td></tr>\n",
       "\t<tr><td>9001</td><td>1   </td><td>47  </td><td>15.0</td><td>0   </td><td>4   </td><td>14  </td><td>5   </td><td>4   </td><td>0   </td><td>0   </td></tr>\n",
       "\t<tr><td>9010</td><td>0   </td><td>32  </td><td>15.0</td><td>1   </td><td>3   </td><td>14  </td><td>1   </td><td>5   </td><td>1   </td><td>1   </td></tr>\n",
       "\t<tr><td>9012</td><td>1   </td><td>37  </td><td>10.0</td><td>1   </td><td>2   </td><td>18  </td><td>6   </td><td>2   </td><td>0   </td><td>0   </td></tr>\n",
       "\t<tr><td>9023</td><td>1   </td><td>37  </td><td>15.0</td><td>1   </td><td>3   </td><td>17  </td><td>5   </td><td>4   </td><td>0   </td><td>0   </td></tr>\n",
       "\t<tr><td>9029</td><td>0   </td><td>27  </td><td> 4.0</td><td>1   </td><td>2   </td><td>16  </td><td>1   </td><td>4   </td><td>0   </td><td>0   </td></tr>\n",
       "</tbody>\n",
       "</table>\n"
      ],
      "text/latex": [
       "\\begin{tabular}{r|lllllllllll}\n",
       " id & male & age & yrsmarr & kids & relig & educ & occup & ratemarr & naffairs & affair\\\\\n",
       "\\hline\n",
       "\t   4    & 1      & 37     & 10.000 & 0      & 3      & 18     & 7      & 4      &  0     & 0     \\\\\n",
       "\t   5    & 0      & 27     &  4.000 & 0      & 4      & 14     & 6      & 4      &  0     & 0     \\\\\n",
       "\t   6    & 1      & 27     &  1.500 & 0      & 3      & 18     & 4      & 4      &  3     & 1     \\\\\n",
       "\t  11    & 0      & 32     & 15.000 & 1      & 1      & 12     & 1      & 4      &  0     & 0     \\\\\n",
       "\t  12    & 0      & 27     &  4.000 & 1      & 3      & 17     & 1      & 5      &  3     & 1     \\\\\n",
       "\t  16    & 1      & 57     & 15.000 & 1      & 5      & 18     & 6      & 5      &  0     & 0     \\\\\n",
       "\t  23    & 1      & 22     &  0.750 & 0      & 2      & 17     & 6      & 3      &  0     & 0     \\\\\n",
       "\t  29    & 0      & 32     &  1.500 & 0      & 2      & 17     & 5      & 5      &  0     & 0     \\\\\n",
       "\t  43    & 1      & 37     & 15.000 & 1      & 5      & 18     & 6      & 2      &  7     & 1     \\\\\n",
       "\t  44    & 0      & 22     &  0.750 & 0      & 2      & 12     & 1      & 3      &  0     & 0     \\\\\n",
       "\t  45    & 1      & 57     & 15.000 & 1      & 2      & 14     & 4      & 4      &  0     & 0     \\\\\n",
       "\t  47    & 0      & 32     & 15.000 & 1      & 4      & 16     & 1      & 2      &  0     & 0     \\\\\n",
       "\t  49    & 1      & 22     &  1.500 & 0      & 4      & 14     & 4      & 5      &  0     & 0     \\\\\n",
       "\t  50    & 1      & 37     & 15.000 & 1      & 2      & 20     & 7      & 2      &  0     & 0     \\\\\n",
       "\t  53    & 0      & 32     & 10.000 & 1      & 3      & 17     & 5      & 2      & 12     & 1     \\\\\n",
       "\t  55    & 1      & 27     &  4.000 & 1      & 4      & 18     & 6      & 4      &  0     & 0     \\\\\n",
       "\t  64    & 1      & 47     & 15.000 & 1      & 5      & 17     & 6      & 4      &  0     & 0     \\\\\n",
       "\t  67    & 1      & 22     &  0.125 & 0      & 4      & 16     & 5      & 5      &  1     & 1     \\\\\n",
       "\t  79    & 0      & 22     &  1.500 & 1      & 2      & 14     & 1      & 5      &  1     & 1     \\\\\n",
       "\t  80    & 0      & 22     &  1.500 & 0      & 2      & 17     & 5      & 4      &  0     & 0     \\\\\n",
       "\t  86    & 0      & 27     &  4.000 & 0      & 4      & 14     & 5      & 4      &  0     & 0     \\\\\n",
       "\t  93    & 0      & 37     & 15.000 & 1      & 1      & 17     & 5      & 5      &  0     & 0     \\\\\n",
       "\t 108    & 0      & 37     & 15.000 & 1      & 2      & 18     & 4      & 3      &  0     & 0     \\\\\n",
       "\t 114    & 0      & 22     &  0.750 & 0      & 3      & 16     & 5      & 4      &  0     & 0     \\\\\n",
       "\t 115    & 0      & 22     &  1.500 & 0      & 2      & 16     & 5      & 5      &  0     & 0     \\\\\n",
       "\t 116    & 0      & 27     & 10.000 & 1      & 2      & 14     & 1      & 5      &  0     & 0     \\\\\n",
       "\t 122    & 1      & 37     & 15.000 & 1      & 4      & 14     & 5      & 2      & 12     & 1     \\\\\n",
       "\t 123    & 0      & 22     &  1.500 & 0      & 2      & 16     & 5      & 5      &  0     & 0     \\\\\n",
       "\t 126    & 0      & 22     &  1.500 & 0      & 2      & 14     & 3      & 4      &  7     & 1     \\\\\n",
       "\t 127    & 0      & 22     &  1.500 & 0      & 2      & 16     & 5      & 5      &  0     & 0     \\\\\n",
       "\t ⋮ & ⋮ & ⋮ & ⋮ & ⋮ & ⋮ & ⋮ & ⋮ & ⋮ & ⋮ & ⋮\\\\\n",
       "\t 1885 & 0    & 32   & 15.0 & 1    & 5    & 16   & 5    & 3    & 0    & 0   \\\\\n",
       "\t 1892 & 1    & 32   & 10.0 & 1    & 4    & 18   & 5    & 4    & 0    & 0   \\\\\n",
       "\t 1895 & 0    & 32   & 15.0 & 1    & 2    & 14   & 3    & 4    & 0    & 0   \\\\\n",
       "\t 1896 & 0    & 22   &  1.5 & 0    & 3    & 17   & 5    & 5    & 0    & 0   \\\\\n",
       "\t 1897 & 1    & 27   &  4.0 & 1    & 4    & 17   & 4    & 4    & 0    & 0   \\\\\n",
       "\t 1899 & 0    & 52   & 15.0 & 1    & 5    & 14   & 1    & 5    & 0    & 0   \\\\\n",
       "\t 1904 & 0    & 27   &  7.0 & 1    & 2    & 12   & 1    & 2    & 0    & 0   \\\\\n",
       "\t 1905 & 0    & 27   &  7.0 & 1    & 3    & 12   & 1    & 4    & 0    & 0   \\\\\n",
       "\t 1908 & 0    & 42   & 15.0 & 1    & 2    & 14   & 1    & 4    & 0    & 0   \\\\\n",
       "\t 1916 & 0    & 42   & 15.0 & 1    & 4    & 14   & 5    & 4    & 0    & 0   \\\\\n",
       "\t 1918 & 1    & 27   &  7.0 & 1    & 4    & 14   & 3    & 3    & 0    & 0   \\\\\n",
       "\t 1920 & 1    & 27   &  7.0 & 1    & 2    & 20   & 6    & 2    & 0    & 0   \\\\\n",
       "\t 1929 & 1    & 32   & 10.0 & 1    & 4    & 14   & 4    & 3    & 3    & 1   \\\\\n",
       "\t 1930 & 0    & 42   & 15.0 & 1    & 3    & 12   & 3    & 3    & 0    & 0   \\\\\n",
       "\t 1935 & 1    & 47   & 15.0 & 1    & 3    & 16   & 4    & 2    & 7    & 1   \\\\\n",
       "\t 1938 & 1    & 22   &  1.5 & 1    & 1    & 12   & 2    & 5    & 1    & 1   \\\\\n",
       "\t 1940 & 1    & 27   &  4.0 & 1    & 3    & 16   & 3    & 5    & 0    & 0   \\\\\n",
       "\t 1941 & 0    & 32   & 10.0 & 1    & 2    & 18   & 5    & 4    & 7    & 1   \\\\\n",
       "\t 1947 & 0    & 27   &  7.0 & 1    & 3    & 14   & 1    & 4    & 0    & 0   \\\\\n",
       "\t 1949 & 0    & 22   &  1.5 & 0    & 2    & 14   & 4    & 5    & 0    & 0   \\\\\n",
       "\t 1951 & 0    & 27   &  4.0 & 1    & 4    & 14   & 1    & 4    & 0    & 0   \\\\\n",
       "\t 1952 & 0    & 22   &  4.0 & 0    & 4    & 14   & 5    & 5    & 0    & 0   \\\\\n",
       "\t 1954 & 1    & 32   & 10.0 & 1    & 2    & 17   & 6    & 5    & 2    & 1   \\\\\n",
       "\t 1959 & 1    & 22   &  7.0 & 1    & 3    & 18   & 6    & 2    & 2    & 1   \\\\\n",
       "\t 1960 & 0    & 22   &  1.5 & 0    & 2    & 16   & 4    & 5    & 0    & 0   \\\\\n",
       "\t 9001 & 1    & 47   & 15.0 & 0    & 4    & 14   & 5    & 4    & 0    & 0   \\\\\n",
       "\t 9010 & 0    & 32   & 15.0 & 1    & 3    & 14   & 1    & 5    & 1    & 1   \\\\\n",
       "\t 9012 & 1    & 37   & 10.0 & 1    & 2    & 18   & 6    & 2    & 0    & 0   \\\\\n",
       "\t 9023 & 1    & 37   & 15.0 & 1    & 3    & 17   & 5    & 4    & 0    & 0   \\\\\n",
       "\t 9029 & 0    & 27   &  4.0 & 1    & 2    & 16   & 1    & 4    & 0    & 0   \\\\\n",
       "\\end{tabular}\n"
      ],
      "text/markdown": [
       "\n",
       "| id | male | age | yrsmarr | kids | relig | educ | occup | ratemarr | naffairs | affair |\n",
       "|---|---|---|---|---|---|---|---|---|---|---|\n",
       "|   4    | 1      | 37     | 10.000 | 0      | 3      | 18     | 7      | 4      |  0     | 0      |\n",
       "|   5    | 0      | 27     |  4.000 | 0      | 4      | 14     | 6      | 4      |  0     | 0      |\n",
       "|   6    | 1      | 27     |  1.500 | 0      | 3      | 18     | 4      | 4      |  3     | 1      |\n",
       "|  11    | 0      | 32     | 15.000 | 1      | 1      | 12     | 1      | 4      |  0     | 0      |\n",
       "|  12    | 0      | 27     |  4.000 | 1      | 3      | 17     | 1      | 5      |  3     | 1      |\n",
       "|  16    | 1      | 57     | 15.000 | 1      | 5      | 18     | 6      | 5      |  0     | 0      |\n",
       "|  23    | 1      | 22     |  0.750 | 0      | 2      | 17     | 6      | 3      |  0     | 0      |\n",
       "|  29    | 0      | 32     |  1.500 | 0      | 2      | 17     | 5      | 5      |  0     | 0      |\n",
       "|  43    | 1      | 37     | 15.000 | 1      | 5      | 18     | 6      | 2      |  7     | 1      |\n",
       "|  44    | 0      | 22     |  0.750 | 0      | 2      | 12     | 1      | 3      |  0     | 0      |\n",
       "|  45    | 1      | 57     | 15.000 | 1      | 2      | 14     | 4      | 4      |  0     | 0      |\n",
       "|  47    | 0      | 32     | 15.000 | 1      | 4      | 16     | 1      | 2      |  0     | 0      |\n",
       "|  49    | 1      | 22     |  1.500 | 0      | 4      | 14     | 4      | 5      |  0     | 0      |\n",
       "|  50    | 1      | 37     | 15.000 | 1      | 2      | 20     | 7      | 2      |  0     | 0      |\n",
       "|  53    | 0      | 32     | 10.000 | 1      | 3      | 17     | 5      | 2      | 12     | 1      |\n",
       "|  55    | 1      | 27     |  4.000 | 1      | 4      | 18     | 6      | 4      |  0     | 0      |\n",
       "|  64    | 1      | 47     | 15.000 | 1      | 5      | 17     | 6      | 4      |  0     | 0      |\n",
       "|  67    | 1      | 22     |  0.125 | 0      | 4      | 16     | 5      | 5      |  1     | 1      |\n",
       "|  79    | 0      | 22     |  1.500 | 1      | 2      | 14     | 1      | 5      |  1     | 1      |\n",
       "|  80    | 0      | 22     |  1.500 | 0      | 2      | 17     | 5      | 4      |  0     | 0      |\n",
       "|  86    | 0      | 27     |  4.000 | 0      | 4      | 14     | 5      | 4      |  0     | 0      |\n",
       "|  93    | 0      | 37     | 15.000 | 1      | 1      | 17     | 5      | 5      |  0     | 0      |\n",
       "| 108    | 0      | 37     | 15.000 | 1      | 2      | 18     | 4      | 3      |  0     | 0      |\n",
       "| 114    | 0      | 22     |  0.750 | 0      | 3      | 16     | 5      | 4      |  0     | 0      |\n",
       "| 115    | 0      | 22     |  1.500 | 0      | 2      | 16     | 5      | 5      |  0     | 0      |\n",
       "| 116    | 0      | 27     | 10.000 | 1      | 2      | 14     | 1      | 5      |  0     | 0      |\n",
       "| 122    | 1      | 37     | 15.000 | 1      | 4      | 14     | 5      | 2      | 12     | 1      |\n",
       "| 123    | 0      | 22     |  1.500 | 0      | 2      | 16     | 5      | 5      |  0     | 0      |\n",
       "| 126    | 0      | 22     |  1.500 | 0      | 2      | 14     | 3      | 4      |  7     | 1      |\n",
       "| 127    | 0      | 22     |  1.500 | 0      | 2      | 16     | 5      | 5      |  0     | 0      |\n",
       "| ⋮ | ⋮ | ⋮ | ⋮ | ⋮ | ⋮ | ⋮ | ⋮ | ⋮ | ⋮ | ⋮ |\n",
       "| 1885 | 0    | 32   | 15.0 | 1    | 5    | 16   | 5    | 3    | 0    | 0    |\n",
       "| 1892 | 1    | 32   | 10.0 | 1    | 4    | 18   | 5    | 4    | 0    | 0    |\n",
       "| 1895 | 0    | 32   | 15.0 | 1    | 2    | 14   | 3    | 4    | 0    | 0    |\n",
       "| 1896 | 0    | 22   |  1.5 | 0    | 3    | 17   | 5    | 5    | 0    | 0    |\n",
       "| 1897 | 1    | 27   |  4.0 | 1    | 4    | 17   | 4    | 4    | 0    | 0    |\n",
       "| 1899 | 0    | 52   | 15.0 | 1    | 5    | 14   | 1    | 5    | 0    | 0    |\n",
       "| 1904 | 0    | 27   |  7.0 | 1    | 2    | 12   | 1    | 2    | 0    | 0    |\n",
       "| 1905 | 0    | 27   |  7.0 | 1    | 3    | 12   | 1    | 4    | 0    | 0    |\n",
       "| 1908 | 0    | 42   | 15.0 | 1    | 2    | 14   | 1    | 4    | 0    | 0    |\n",
       "| 1916 | 0    | 42   | 15.0 | 1    | 4    | 14   | 5    | 4    | 0    | 0    |\n",
       "| 1918 | 1    | 27   |  7.0 | 1    | 4    | 14   | 3    | 3    | 0    | 0    |\n",
       "| 1920 | 1    | 27   |  7.0 | 1    | 2    | 20   | 6    | 2    | 0    | 0    |\n",
       "| 1929 | 1    | 32   | 10.0 | 1    | 4    | 14   | 4    | 3    | 3    | 1    |\n",
       "| 1930 | 0    | 42   | 15.0 | 1    | 3    | 12   | 3    | 3    | 0    | 0    |\n",
       "| 1935 | 1    | 47   | 15.0 | 1    | 3    | 16   | 4    | 2    | 7    | 1    |\n",
       "| 1938 | 1    | 22   |  1.5 | 1    | 1    | 12   | 2    | 5    | 1    | 1    |\n",
       "| 1940 | 1    | 27   |  4.0 | 1    | 3    | 16   | 3    | 5    | 0    | 0    |\n",
       "| 1941 | 0    | 32   | 10.0 | 1    | 2    | 18   | 5    | 4    | 7    | 1    |\n",
       "| 1947 | 0    | 27   |  7.0 | 1    | 3    | 14   | 1    | 4    | 0    | 0    |\n",
       "| 1949 | 0    | 22   |  1.5 | 0    | 2    | 14   | 4    | 5    | 0    | 0    |\n",
       "| 1951 | 0    | 27   |  4.0 | 1    | 4    | 14   | 1    | 4    | 0    | 0    |\n",
       "| 1952 | 0    | 22   |  4.0 | 0    | 4    | 14   | 5    | 5    | 0    | 0    |\n",
       "| 1954 | 1    | 32   | 10.0 | 1    | 2    | 17   | 6    | 5    | 2    | 1    |\n",
       "| 1959 | 1    | 22   |  7.0 | 1    | 3    | 18   | 6    | 2    | 2    | 1    |\n",
       "| 1960 | 0    | 22   |  1.5 | 0    | 2    | 16   | 4    | 5    | 0    | 0    |\n",
       "| 9001 | 1    | 47   | 15.0 | 0    | 4    | 14   | 5    | 4    | 0    | 0    |\n",
       "| 9010 | 0    | 32   | 15.0 | 1    | 3    | 14   | 1    | 5    | 1    | 1    |\n",
       "| 9012 | 1    | 37   | 10.0 | 1    | 2    | 18   | 6    | 2    | 0    | 0    |\n",
       "| 9023 | 1    | 37   | 15.0 | 1    | 3    | 17   | 5    | 4    | 0    | 0    |\n",
       "| 9029 | 0    | 27   |  4.0 | 1    | 2    | 16   | 1    | 4    | 0    | 0    |\n",
       "\n"
      ],
      "text/plain": [
       "    id   male age yrsmarr kids relig educ occup ratemarr naffairs affair\n",
       "1     4  1    37  10.000  0    3     18   7     4         0       0     \n",
       "2     5  0    27   4.000  0    4     14   6     4         0       0     \n",
       "3     6  1    27   1.500  0    3     18   4     4         3       1     \n",
       "4    11  0    32  15.000  1    1     12   1     4         0       0     \n",
       "5    12  0    27   4.000  1    3     17   1     5         3       1     \n",
       "6    16  1    57  15.000  1    5     18   6     5         0       0     \n",
       "7    23  1    22   0.750  0    2     17   6     3         0       0     \n",
       "8    29  0    32   1.500  0    2     17   5     5         0       0     \n",
       "9    43  1    37  15.000  1    5     18   6     2         7       1     \n",
       "10   44  0    22   0.750  0    2     12   1     3         0       0     \n",
       "11   45  1    57  15.000  1    2     14   4     4         0       0     \n",
       "12   47  0    32  15.000  1    4     16   1     2         0       0     \n",
       "13   49  1    22   1.500  0    4     14   4     5         0       0     \n",
       "14   50  1    37  15.000  1    2     20   7     2         0       0     \n",
       "15   53  0    32  10.000  1    3     17   5     2        12       1     \n",
       "16   55  1    27   4.000  1    4     18   6     4         0       0     \n",
       "17   64  1    47  15.000  1    5     17   6     4         0       0     \n",
       "18   67  1    22   0.125  0    4     16   5     5         1       1     \n",
       "19   79  0    22   1.500  1    2     14   1     5         1       1     \n",
       "20   80  0    22   1.500  0    2     17   5     4         0       0     \n",
       "21   86  0    27   4.000  0    4     14   5     4         0       0     \n",
       "22   93  0    37  15.000  1    1     17   5     5         0       0     \n",
       "23  108  0    37  15.000  1    2     18   4     3         0       0     \n",
       "24  114  0    22   0.750  0    3     16   5     4         0       0     \n",
       "25  115  0    22   1.500  0    2     16   5     5         0       0     \n",
       "26  116  0    27  10.000  1    2     14   1     5         0       0     \n",
       "27  122  1    37  15.000  1    4     14   5     2        12       1     \n",
       "28  123  0    22   1.500  0    2     16   5     5         0       0     \n",
       "29  126  0    22   1.500  0    2     14   3     4         7       1     \n",
       "30  127  0    22   1.500  0    2     16   5     5         0       0     \n",
       "⋮   ⋮    ⋮    ⋮   ⋮       ⋮    ⋮     ⋮    ⋮     ⋮        ⋮        ⋮     \n",
       "572 1885 0    32  15.0    1    5     16   5     3        0        0     \n",
       "573 1892 1    32  10.0    1    4     18   5     4        0        0     \n",
       "574 1895 0    32  15.0    1    2     14   3     4        0        0     \n",
       "575 1896 0    22   1.5    0    3     17   5     5        0        0     \n",
       "576 1897 1    27   4.0    1    4     17   4     4        0        0     \n",
       "577 1899 0    52  15.0    1    5     14   1     5        0        0     \n",
       "578 1904 0    27   7.0    1    2     12   1     2        0        0     \n",
       "579 1905 0    27   7.0    1    3     12   1     4        0        0     \n",
       "580 1908 0    42  15.0    1    2     14   1     4        0        0     \n",
       "581 1916 0    42  15.0    1    4     14   5     4        0        0     \n",
       "582 1918 1    27   7.0    1    4     14   3     3        0        0     \n",
       "583 1920 1    27   7.0    1    2     20   6     2        0        0     \n",
       "584 1929 1    32  10.0    1    4     14   4     3        3        1     \n",
       "585 1930 0    42  15.0    1    3     12   3     3        0        0     \n",
       "586 1935 1    47  15.0    1    3     16   4     2        7        1     \n",
       "587 1938 1    22   1.5    1    1     12   2     5        1        1     \n",
       "588 1940 1    27   4.0    1    3     16   3     5        0        0     \n",
       "589 1941 0    32  10.0    1    2     18   5     4        7        1     \n",
       "590 1947 0    27   7.0    1    3     14   1     4        0        0     \n",
       "591 1949 0    22   1.5    0    2     14   4     5        0        0     \n",
       "592 1951 0    27   4.0    1    4     14   1     4        0        0     \n",
       "593 1952 0    22   4.0    0    4     14   5     5        0        0     \n",
       "594 1954 1    32  10.0    1    2     17   6     5        2        1     \n",
       "595 1959 1    22   7.0    1    3     18   6     2        2        1     \n",
       "596 1960 0    22   1.5    0    2     16   4     5        0        0     \n",
       "597 9001 1    47  15.0    0    4     14   5     4        0        0     \n",
       "598 9010 0    32  15.0    1    3     14   1     5        1        1     \n",
       "599 9012 1    37  10.0    1    2     18   6     2        0        0     \n",
       "600 9023 1    37  15.0    1    3     17   5     4        0        0     \n",
       "601 9029 0    27   4.0    1    2     16   1     4        0        0     "
      ]
     },
     "metadata": {},
     "output_type": "display_data"
    }
   ],
   "source": [
    "read.csv(\"affairs.csv\") # read the data into R"
   ]
  },
  {
   "cell_type": "code",
   "execution_count": 7,
   "metadata": {},
   "outputs": [],
   "source": [
    "affairs <- read.csv(\"affairs.csv\") # assign this data to variable affairs"
   ]
  },
  {
   "cell_type": "code",
   "execution_count": 1,
   "metadata": {},
   "outputs": [
    {
     "data": {
      "text/html": [
       "2"
      ],
      "text/latex": [
       "2"
      ],
      "text/markdown": [
       "2"
      ],
      "text/plain": [
       "[1] 2"
      ]
     },
     "metadata": {},
     "output_type": "display_data"
    }
   ],
   "source": [
    "1 + 1 "
   ]
  },
  {
   "cell_type": "code",
   "execution_count": 3,
   "metadata": {},
   "outputs": [
    {
     "name": "stdout",
     "output_type": "stream",
     "text": [
      "[1] 2\n"
     ]
    }
   ],
   "source": [
    "addition <- 1 + 1\n",
    "print(addition)"
   ]
  },
  {
   "cell_type": "markdown",
   "metadata": {},
   "source": [
    "---\n",
    "## 3. Examining data\n",
    "* str( ) - # of observations and variables, type of variables\n",
    "* summary( ) - summary statistics of variables\n",
    "* **dataframe!** - data[ obs, var ]\n",
    "* table( ) - frequency of variables\n",
    "* View( ) - full dataset\n",
    "* head( ) - list the first 6 obs\n",
    "* class( ) - data structure of variable"
   ]
  },
  {
   "cell_type": "code",
   "execution_count": 35,
   "metadata": {},
   "outputs": [
    {
     "name": "stdout",
     "output_type": "stream",
     "text": [
      "'data.frame':\t601 obs. of  11 variables:\n",
      " $ id      : int  4 5 6 11 12 16 23 29 43 44 ...\n",
      " $ male    : int  1 0 1 0 0 1 1 0 1 0 ...\n",
      " $ age     : num  37 27 27 32 27 57 22 32 37 22 ...\n",
      " $ yrsmarr : num  10 4 1.5 15 4 15 0.75 1.5 15 0.75 ...\n",
      " $ kids    : int  0 0 0 1 1 1 0 0 1 0 ...\n",
      " $ relig   : int  3 4 3 1 3 5 2 2 5 2 ...\n",
      " $ educ    : int  18 14 18 12 17 18 17 17 18 12 ...\n",
      " $ occup   : int  7 6 4 1 1 6 6 5 6 1 ...\n",
      " $ ratemarr: int  4 4 4 4 5 5 3 5 2 3 ...\n",
      " $ naffairs: int  0 0 3 0 3 0 0 0 7 0 ...\n",
      " $ affair  : int  0 0 1 0 1 0 0 0 1 0 ...\n"
     ]
    }
   ],
   "source": [
    "str(affairs)"
   ]
  },
  {
   "cell_type": "code",
   "execution_count": 36,
   "metadata": {},
   "outputs": [
    {
     "data": {
      "text/plain": [
       "       id            male             age           yrsmarr      \n",
       " Min.   :   4   Min.   :0.0000   Min.   :17.50   Min.   : 0.125  \n",
       " 1st Qu.: 528   1st Qu.:0.0000   1st Qu.:27.00   1st Qu.: 4.000  \n",
       " Median :1009   Median :0.0000   Median :32.00   Median : 7.000  \n",
       " Mean   :1060   Mean   :0.4759   Mean   :32.49   Mean   : 8.178  \n",
       " 3rd Qu.:1453   3rd Qu.:1.0000   3rd Qu.:37.00   3rd Qu.:15.000  \n",
       " Max.   :9029   Max.   :1.0000   Max.   :57.00   Max.   :15.000  \n",
       "      kids            relig            educ           occup      \n",
       " Min.   :0.0000   Min.   :1.000   Min.   : 9.00   Min.   :1.000  \n",
       " 1st Qu.:0.0000   1st Qu.:2.000   1st Qu.:14.00   1st Qu.:3.000  \n",
       " Median :1.0000   Median :3.000   Median :16.00   Median :5.000  \n",
       " Mean   :0.7155   Mean   :3.116   Mean   :16.17   Mean   :4.195  \n",
       " 3rd Qu.:1.0000   3rd Qu.:4.000   3rd Qu.:18.00   3rd Qu.:6.000  \n",
       " Max.   :1.0000   Max.   :5.000   Max.   :20.00   Max.   :7.000  \n",
       "    ratemarr        naffairs          affair      \n",
       " Min.   :1.000   Min.   : 0.000   Min.   :0.0000  \n",
       " 1st Qu.:3.000   1st Qu.: 0.000   1st Qu.:0.0000  \n",
       " Median :4.000   Median : 0.000   Median :0.0000  \n",
       " Mean   :3.932   Mean   : 1.456   Mean   :0.2496  \n",
       " 3rd Qu.:5.000   3rd Qu.: 0.000   3rd Qu.:0.0000  \n",
       " Max.   :5.000   Max.   :12.000   Max.   :1.0000  "
      ]
     },
     "metadata": {},
     "output_type": "display_data"
    }
   ],
   "source": [
    "summary(affairs)"
   ]
  },
  {
   "cell_type": "code",
   "execution_count": 38,
   "metadata": {},
   "outputs": [
    {
     "data": {
      "text/html": [
       "<table>\n",
       "<thead><tr><th scope=col>id</th><th scope=col>male</th><th scope=col>age</th><th scope=col>yrsmarr</th><th scope=col>kids</th><th scope=col>relig</th><th scope=col>educ</th><th scope=col>occup</th><th scope=col>ratemarr</th><th scope=col>naffairs</th><th scope=col>affair</th></tr></thead>\n",
       "<tbody>\n",
       "\t<tr><td>  4   </td><td>1     </td><td>37    </td><td>10.000</td><td>0     </td><td>3     </td><td>18    </td><td>7     </td><td>4     </td><td> 0    </td><td>0     </td></tr>\n",
       "\t<tr><td>  5   </td><td>0     </td><td>27    </td><td> 4.000</td><td>0     </td><td>4     </td><td>14    </td><td>6     </td><td>4     </td><td> 0    </td><td>0     </td></tr>\n",
       "\t<tr><td>  6   </td><td>1     </td><td>27    </td><td> 1.500</td><td>0     </td><td>3     </td><td>18    </td><td>4     </td><td>4     </td><td> 3    </td><td>1     </td></tr>\n",
       "\t<tr><td> 11   </td><td>0     </td><td>32    </td><td>15.000</td><td>1     </td><td>1     </td><td>12    </td><td>1     </td><td>4     </td><td> 0    </td><td>0     </td></tr>\n",
       "\t<tr><td> 12   </td><td>0     </td><td>27    </td><td> 4.000</td><td>1     </td><td>3     </td><td>17    </td><td>1     </td><td>5     </td><td> 3    </td><td>1     </td></tr>\n",
       "\t<tr><td> 16   </td><td>1     </td><td>57    </td><td>15.000</td><td>1     </td><td>5     </td><td>18    </td><td>6     </td><td>5     </td><td> 0    </td><td>0     </td></tr>\n",
       "\t<tr><td> 23   </td><td>1     </td><td>22    </td><td> 0.750</td><td>0     </td><td>2     </td><td>17    </td><td>6     </td><td>3     </td><td> 0    </td><td>0     </td></tr>\n",
       "\t<tr><td> 29   </td><td>0     </td><td>32    </td><td> 1.500</td><td>0     </td><td>2     </td><td>17    </td><td>5     </td><td>5     </td><td> 0    </td><td>0     </td></tr>\n",
       "\t<tr><td> 43   </td><td>1     </td><td>37    </td><td>15.000</td><td>1     </td><td>5     </td><td>18    </td><td>6     </td><td>2     </td><td> 7    </td><td>1     </td></tr>\n",
       "\t<tr><td> 44   </td><td>0     </td><td>22    </td><td> 0.750</td><td>0     </td><td>2     </td><td>12    </td><td>1     </td><td>3     </td><td> 0    </td><td>0     </td></tr>\n",
       "\t<tr><td> 45   </td><td>1     </td><td>57    </td><td>15.000</td><td>1     </td><td>2     </td><td>14    </td><td>4     </td><td>4     </td><td> 0    </td><td>0     </td></tr>\n",
       "\t<tr><td> 47   </td><td>0     </td><td>32    </td><td>15.000</td><td>1     </td><td>4     </td><td>16    </td><td>1     </td><td>2     </td><td> 0    </td><td>0     </td></tr>\n",
       "\t<tr><td> 49   </td><td>1     </td><td>22    </td><td> 1.500</td><td>0     </td><td>4     </td><td>14    </td><td>4     </td><td>5     </td><td> 0    </td><td>0     </td></tr>\n",
       "\t<tr><td> 50   </td><td>1     </td><td>37    </td><td>15.000</td><td>1     </td><td>2     </td><td>20    </td><td>7     </td><td>2     </td><td> 0    </td><td>0     </td></tr>\n",
       "\t<tr><td> 53   </td><td>0     </td><td>32    </td><td>10.000</td><td>1     </td><td>3     </td><td>17    </td><td>5     </td><td>2     </td><td>12    </td><td>1     </td></tr>\n",
       "\t<tr><td> 55   </td><td>1     </td><td>27    </td><td> 4.000</td><td>1     </td><td>4     </td><td>18    </td><td>6     </td><td>4     </td><td> 0    </td><td>0     </td></tr>\n",
       "\t<tr><td> 64   </td><td>1     </td><td>47    </td><td>15.000</td><td>1     </td><td>5     </td><td>17    </td><td>6     </td><td>4     </td><td> 0    </td><td>0     </td></tr>\n",
       "\t<tr><td> 67   </td><td>1     </td><td>22    </td><td> 0.125</td><td>0     </td><td>4     </td><td>16    </td><td>5     </td><td>5     </td><td> 1    </td><td>1     </td></tr>\n",
       "\t<tr><td> 79   </td><td>0     </td><td>22    </td><td> 1.500</td><td>1     </td><td>2     </td><td>14    </td><td>1     </td><td>5     </td><td> 1    </td><td>1     </td></tr>\n",
       "\t<tr><td> 80   </td><td>0     </td><td>22    </td><td> 1.500</td><td>0     </td><td>2     </td><td>17    </td><td>5     </td><td>4     </td><td> 0    </td><td>0     </td></tr>\n",
       "\t<tr><td> 86   </td><td>0     </td><td>27    </td><td> 4.000</td><td>0     </td><td>4     </td><td>14    </td><td>5     </td><td>4     </td><td> 0    </td><td>0     </td></tr>\n",
       "\t<tr><td> 93   </td><td>0     </td><td>37    </td><td>15.000</td><td>1     </td><td>1     </td><td>17    </td><td>5     </td><td>5     </td><td> 0    </td><td>0     </td></tr>\n",
       "\t<tr><td>108   </td><td>0     </td><td>37    </td><td>15.000</td><td>1     </td><td>2     </td><td>18    </td><td>4     </td><td>3     </td><td> 0    </td><td>0     </td></tr>\n",
       "\t<tr><td>114   </td><td>0     </td><td>22    </td><td> 0.750</td><td>0     </td><td>3     </td><td>16    </td><td>5     </td><td>4     </td><td> 0    </td><td>0     </td></tr>\n",
       "\t<tr><td>115   </td><td>0     </td><td>22    </td><td> 1.500</td><td>0     </td><td>2     </td><td>16    </td><td>5     </td><td>5     </td><td> 0    </td><td>0     </td></tr>\n",
       "\t<tr><td>116   </td><td>0     </td><td>27    </td><td>10.000</td><td>1     </td><td>2     </td><td>14    </td><td>1     </td><td>5     </td><td> 0    </td><td>0     </td></tr>\n",
       "\t<tr><td>122   </td><td>1     </td><td>37    </td><td>15.000</td><td>1     </td><td>4     </td><td>14    </td><td>5     </td><td>2     </td><td>12    </td><td>1     </td></tr>\n",
       "\t<tr><td>123   </td><td>0     </td><td>22    </td><td> 1.500</td><td>0     </td><td>2     </td><td>16    </td><td>5     </td><td>5     </td><td> 0    </td><td>0     </td></tr>\n",
       "\t<tr><td>126   </td><td>0     </td><td>22    </td><td> 1.500</td><td>0     </td><td>2     </td><td>14    </td><td>3     </td><td>4     </td><td> 7    </td><td>1     </td></tr>\n",
       "\t<tr><td>127   </td><td>0     </td><td>22    </td><td> 1.500</td><td>0     </td><td>2     </td><td>16    </td><td>5     </td><td>5     </td><td> 0    </td><td>0     </td></tr>\n",
       "\t<tr><td>⋮</td><td>⋮</td><td>⋮</td><td>⋮</td><td>⋮</td><td>⋮</td><td>⋮</td><td>⋮</td><td>⋮</td><td>⋮</td><td>⋮</td></tr>\n",
       "\t<tr><td>1885</td><td>0   </td><td>32  </td><td>15.0</td><td>1   </td><td>5   </td><td>16  </td><td>5   </td><td>3   </td><td>0   </td><td>0   </td></tr>\n",
       "\t<tr><td>1892</td><td>1   </td><td>32  </td><td>10.0</td><td>1   </td><td>4   </td><td>18  </td><td>5   </td><td>4   </td><td>0   </td><td>0   </td></tr>\n",
       "\t<tr><td>1895</td><td>0   </td><td>32  </td><td>15.0</td><td>1   </td><td>2   </td><td>14  </td><td>3   </td><td>4   </td><td>0   </td><td>0   </td></tr>\n",
       "\t<tr><td>1896</td><td>0   </td><td>22  </td><td> 1.5</td><td>0   </td><td>3   </td><td>17  </td><td>5   </td><td>5   </td><td>0   </td><td>0   </td></tr>\n",
       "\t<tr><td>1897</td><td>1   </td><td>27  </td><td> 4.0</td><td>1   </td><td>4   </td><td>17  </td><td>4   </td><td>4   </td><td>0   </td><td>0   </td></tr>\n",
       "\t<tr><td>1899</td><td>0   </td><td>52  </td><td>15.0</td><td>1   </td><td>5   </td><td>14  </td><td>1   </td><td>5   </td><td>0   </td><td>0   </td></tr>\n",
       "\t<tr><td>1904</td><td>0   </td><td>27  </td><td> 7.0</td><td>1   </td><td>2   </td><td>12  </td><td>1   </td><td>2   </td><td>0   </td><td>0   </td></tr>\n",
       "\t<tr><td>1905</td><td>0   </td><td>27  </td><td> 7.0</td><td>1   </td><td>3   </td><td>12  </td><td>1   </td><td>4   </td><td>0   </td><td>0   </td></tr>\n",
       "\t<tr><td>1908</td><td>0   </td><td>42  </td><td>15.0</td><td>1   </td><td>2   </td><td>14  </td><td>1   </td><td>4   </td><td>0   </td><td>0   </td></tr>\n",
       "\t<tr><td>1916</td><td>0   </td><td>42  </td><td>15.0</td><td>1   </td><td>4   </td><td>14  </td><td>5   </td><td>4   </td><td>0   </td><td>0   </td></tr>\n",
       "\t<tr><td>1918</td><td>1   </td><td>27  </td><td> 7.0</td><td>1   </td><td>4   </td><td>14  </td><td>3   </td><td>3   </td><td>0   </td><td>0   </td></tr>\n",
       "\t<tr><td>1920</td><td>1   </td><td>27  </td><td> 7.0</td><td>1   </td><td>2   </td><td>20  </td><td>6   </td><td>2   </td><td>0   </td><td>0   </td></tr>\n",
       "\t<tr><td>1929</td><td>1   </td><td>32  </td><td>10.0</td><td>1   </td><td>4   </td><td>14  </td><td>4   </td><td>3   </td><td>3   </td><td>1   </td></tr>\n",
       "\t<tr><td>1930</td><td>0   </td><td>42  </td><td>15.0</td><td>1   </td><td>3   </td><td>12  </td><td>3   </td><td>3   </td><td>0   </td><td>0   </td></tr>\n",
       "\t<tr><td>1935</td><td>1   </td><td>47  </td><td>15.0</td><td>1   </td><td>3   </td><td>16  </td><td>4   </td><td>2   </td><td>7   </td><td>1   </td></tr>\n",
       "\t<tr><td>1938</td><td>1   </td><td>22  </td><td> 1.5</td><td>1   </td><td>1   </td><td>12  </td><td>2   </td><td>5   </td><td>1   </td><td>1   </td></tr>\n",
       "\t<tr><td>1940</td><td>1   </td><td>27  </td><td> 4.0</td><td>1   </td><td>3   </td><td>16  </td><td>3   </td><td>5   </td><td>0   </td><td>0   </td></tr>\n",
       "\t<tr><td>1941</td><td>0   </td><td>32  </td><td>10.0</td><td>1   </td><td>2   </td><td>18  </td><td>5   </td><td>4   </td><td>7   </td><td>1   </td></tr>\n",
       "\t<tr><td>1947</td><td>0   </td><td>27  </td><td> 7.0</td><td>1   </td><td>3   </td><td>14  </td><td>1   </td><td>4   </td><td>0   </td><td>0   </td></tr>\n",
       "\t<tr><td>1949</td><td>0   </td><td>22  </td><td> 1.5</td><td>0   </td><td>2   </td><td>14  </td><td>4   </td><td>5   </td><td>0   </td><td>0   </td></tr>\n",
       "\t<tr><td>1951</td><td>0   </td><td>27  </td><td> 4.0</td><td>1   </td><td>4   </td><td>14  </td><td>1   </td><td>4   </td><td>0   </td><td>0   </td></tr>\n",
       "\t<tr><td>1952</td><td>0   </td><td>22  </td><td> 4.0</td><td>0   </td><td>4   </td><td>14  </td><td>5   </td><td>5   </td><td>0   </td><td>0   </td></tr>\n",
       "\t<tr><td>1954</td><td>1   </td><td>32  </td><td>10.0</td><td>1   </td><td>2   </td><td>17  </td><td>6   </td><td>5   </td><td>2   </td><td>1   </td></tr>\n",
       "\t<tr><td>1959</td><td>1   </td><td>22  </td><td> 7.0</td><td>1   </td><td>3   </td><td>18  </td><td>6   </td><td>2   </td><td>2   </td><td>1   </td></tr>\n",
       "\t<tr><td>1960</td><td>0   </td><td>22  </td><td> 1.5</td><td>0   </td><td>2   </td><td>16  </td><td>4   </td><td>5   </td><td>0   </td><td>0   </td></tr>\n",
       "\t<tr><td>9001</td><td>1   </td><td>47  </td><td>15.0</td><td>0   </td><td>4   </td><td>14  </td><td>5   </td><td>4   </td><td>0   </td><td>0   </td></tr>\n",
       "\t<tr><td>9010</td><td>0   </td><td>32  </td><td>15.0</td><td>1   </td><td>3   </td><td>14  </td><td>1   </td><td>5   </td><td>1   </td><td>1   </td></tr>\n",
       "\t<tr><td>9012</td><td>1   </td><td>37  </td><td>10.0</td><td>1   </td><td>2   </td><td>18  </td><td>6   </td><td>2   </td><td>0   </td><td>0   </td></tr>\n",
       "\t<tr><td>9023</td><td>1   </td><td>37  </td><td>15.0</td><td>1   </td><td>3   </td><td>17  </td><td>5   </td><td>4   </td><td>0   </td><td>0   </td></tr>\n",
       "\t<tr><td>9029</td><td>0   </td><td>27  </td><td> 4.0</td><td>1   </td><td>2   </td><td>16  </td><td>1   </td><td>4   </td><td>0   </td><td>0   </td></tr>\n",
       "</tbody>\n",
       "</table>\n"
      ],
      "text/latex": [
       "\\begin{tabular}{r|lllllllllll}\n",
       " id & male & age & yrsmarr & kids & relig & educ & occup & ratemarr & naffairs & affair\\\\\n",
       "\\hline\n",
       "\t   4    & 1      & 37     & 10.000 & 0      & 3      & 18     & 7      & 4      &  0     & 0     \\\\\n",
       "\t   5    & 0      & 27     &  4.000 & 0      & 4      & 14     & 6      & 4      &  0     & 0     \\\\\n",
       "\t   6    & 1      & 27     &  1.500 & 0      & 3      & 18     & 4      & 4      &  3     & 1     \\\\\n",
       "\t  11    & 0      & 32     & 15.000 & 1      & 1      & 12     & 1      & 4      &  0     & 0     \\\\\n",
       "\t  12    & 0      & 27     &  4.000 & 1      & 3      & 17     & 1      & 5      &  3     & 1     \\\\\n",
       "\t  16    & 1      & 57     & 15.000 & 1      & 5      & 18     & 6      & 5      &  0     & 0     \\\\\n",
       "\t  23    & 1      & 22     &  0.750 & 0      & 2      & 17     & 6      & 3      &  0     & 0     \\\\\n",
       "\t  29    & 0      & 32     &  1.500 & 0      & 2      & 17     & 5      & 5      &  0     & 0     \\\\\n",
       "\t  43    & 1      & 37     & 15.000 & 1      & 5      & 18     & 6      & 2      &  7     & 1     \\\\\n",
       "\t  44    & 0      & 22     &  0.750 & 0      & 2      & 12     & 1      & 3      &  0     & 0     \\\\\n",
       "\t  45    & 1      & 57     & 15.000 & 1      & 2      & 14     & 4      & 4      &  0     & 0     \\\\\n",
       "\t  47    & 0      & 32     & 15.000 & 1      & 4      & 16     & 1      & 2      &  0     & 0     \\\\\n",
       "\t  49    & 1      & 22     &  1.500 & 0      & 4      & 14     & 4      & 5      &  0     & 0     \\\\\n",
       "\t  50    & 1      & 37     & 15.000 & 1      & 2      & 20     & 7      & 2      &  0     & 0     \\\\\n",
       "\t  53    & 0      & 32     & 10.000 & 1      & 3      & 17     & 5      & 2      & 12     & 1     \\\\\n",
       "\t  55    & 1      & 27     &  4.000 & 1      & 4      & 18     & 6      & 4      &  0     & 0     \\\\\n",
       "\t  64    & 1      & 47     & 15.000 & 1      & 5      & 17     & 6      & 4      &  0     & 0     \\\\\n",
       "\t  67    & 1      & 22     &  0.125 & 0      & 4      & 16     & 5      & 5      &  1     & 1     \\\\\n",
       "\t  79    & 0      & 22     &  1.500 & 1      & 2      & 14     & 1      & 5      &  1     & 1     \\\\\n",
       "\t  80    & 0      & 22     &  1.500 & 0      & 2      & 17     & 5      & 4      &  0     & 0     \\\\\n",
       "\t  86    & 0      & 27     &  4.000 & 0      & 4      & 14     & 5      & 4      &  0     & 0     \\\\\n",
       "\t  93    & 0      & 37     & 15.000 & 1      & 1      & 17     & 5      & 5      &  0     & 0     \\\\\n",
       "\t 108    & 0      & 37     & 15.000 & 1      & 2      & 18     & 4      & 3      &  0     & 0     \\\\\n",
       "\t 114    & 0      & 22     &  0.750 & 0      & 3      & 16     & 5      & 4      &  0     & 0     \\\\\n",
       "\t 115    & 0      & 22     &  1.500 & 0      & 2      & 16     & 5      & 5      &  0     & 0     \\\\\n",
       "\t 116    & 0      & 27     & 10.000 & 1      & 2      & 14     & 1      & 5      &  0     & 0     \\\\\n",
       "\t 122    & 1      & 37     & 15.000 & 1      & 4      & 14     & 5      & 2      & 12     & 1     \\\\\n",
       "\t 123    & 0      & 22     &  1.500 & 0      & 2      & 16     & 5      & 5      &  0     & 0     \\\\\n",
       "\t 126    & 0      & 22     &  1.500 & 0      & 2      & 14     & 3      & 4      &  7     & 1     \\\\\n",
       "\t 127    & 0      & 22     &  1.500 & 0      & 2      & 16     & 5      & 5      &  0     & 0     \\\\\n",
       "\t ⋮ & ⋮ & ⋮ & ⋮ & ⋮ & ⋮ & ⋮ & ⋮ & ⋮ & ⋮ & ⋮\\\\\n",
       "\t 1885 & 0    & 32   & 15.0 & 1    & 5    & 16   & 5    & 3    & 0    & 0   \\\\\n",
       "\t 1892 & 1    & 32   & 10.0 & 1    & 4    & 18   & 5    & 4    & 0    & 0   \\\\\n",
       "\t 1895 & 0    & 32   & 15.0 & 1    & 2    & 14   & 3    & 4    & 0    & 0   \\\\\n",
       "\t 1896 & 0    & 22   &  1.5 & 0    & 3    & 17   & 5    & 5    & 0    & 0   \\\\\n",
       "\t 1897 & 1    & 27   &  4.0 & 1    & 4    & 17   & 4    & 4    & 0    & 0   \\\\\n",
       "\t 1899 & 0    & 52   & 15.0 & 1    & 5    & 14   & 1    & 5    & 0    & 0   \\\\\n",
       "\t 1904 & 0    & 27   &  7.0 & 1    & 2    & 12   & 1    & 2    & 0    & 0   \\\\\n",
       "\t 1905 & 0    & 27   &  7.0 & 1    & 3    & 12   & 1    & 4    & 0    & 0   \\\\\n",
       "\t 1908 & 0    & 42   & 15.0 & 1    & 2    & 14   & 1    & 4    & 0    & 0   \\\\\n",
       "\t 1916 & 0    & 42   & 15.0 & 1    & 4    & 14   & 5    & 4    & 0    & 0   \\\\\n",
       "\t 1918 & 1    & 27   &  7.0 & 1    & 4    & 14   & 3    & 3    & 0    & 0   \\\\\n",
       "\t 1920 & 1    & 27   &  7.0 & 1    & 2    & 20   & 6    & 2    & 0    & 0   \\\\\n",
       "\t 1929 & 1    & 32   & 10.0 & 1    & 4    & 14   & 4    & 3    & 3    & 1   \\\\\n",
       "\t 1930 & 0    & 42   & 15.0 & 1    & 3    & 12   & 3    & 3    & 0    & 0   \\\\\n",
       "\t 1935 & 1    & 47   & 15.0 & 1    & 3    & 16   & 4    & 2    & 7    & 1   \\\\\n",
       "\t 1938 & 1    & 22   &  1.5 & 1    & 1    & 12   & 2    & 5    & 1    & 1   \\\\\n",
       "\t 1940 & 1    & 27   &  4.0 & 1    & 3    & 16   & 3    & 5    & 0    & 0   \\\\\n",
       "\t 1941 & 0    & 32   & 10.0 & 1    & 2    & 18   & 5    & 4    & 7    & 1   \\\\\n",
       "\t 1947 & 0    & 27   &  7.0 & 1    & 3    & 14   & 1    & 4    & 0    & 0   \\\\\n",
       "\t 1949 & 0    & 22   &  1.5 & 0    & 2    & 14   & 4    & 5    & 0    & 0   \\\\\n",
       "\t 1951 & 0    & 27   &  4.0 & 1    & 4    & 14   & 1    & 4    & 0    & 0   \\\\\n",
       "\t 1952 & 0    & 22   &  4.0 & 0    & 4    & 14   & 5    & 5    & 0    & 0   \\\\\n",
       "\t 1954 & 1    & 32   & 10.0 & 1    & 2    & 17   & 6    & 5    & 2    & 1   \\\\\n",
       "\t 1959 & 1    & 22   &  7.0 & 1    & 3    & 18   & 6    & 2    & 2    & 1   \\\\\n",
       "\t 1960 & 0    & 22   &  1.5 & 0    & 2    & 16   & 4    & 5    & 0    & 0   \\\\\n",
       "\t 9001 & 1    & 47   & 15.0 & 0    & 4    & 14   & 5    & 4    & 0    & 0   \\\\\n",
       "\t 9010 & 0    & 32   & 15.0 & 1    & 3    & 14   & 1    & 5    & 1    & 1   \\\\\n",
       "\t 9012 & 1    & 37   & 10.0 & 1    & 2    & 18   & 6    & 2    & 0    & 0   \\\\\n",
       "\t 9023 & 1    & 37   & 15.0 & 1    & 3    & 17   & 5    & 4    & 0    & 0   \\\\\n",
       "\t 9029 & 0    & 27   &  4.0 & 1    & 2    & 16   & 1    & 4    & 0    & 0   \\\\\n",
       "\\end{tabular}\n"
      ],
      "text/markdown": [
       "\n",
       "| id | male | age | yrsmarr | kids | relig | educ | occup | ratemarr | naffairs | affair |\n",
       "|---|---|---|---|---|---|---|---|---|---|---|\n",
       "|   4    | 1      | 37     | 10.000 | 0      | 3      | 18     | 7      | 4      |  0     | 0      |\n",
       "|   5    | 0      | 27     |  4.000 | 0      | 4      | 14     | 6      | 4      |  0     | 0      |\n",
       "|   6    | 1      | 27     |  1.500 | 0      | 3      | 18     | 4      | 4      |  3     | 1      |\n",
       "|  11    | 0      | 32     | 15.000 | 1      | 1      | 12     | 1      | 4      |  0     | 0      |\n",
       "|  12    | 0      | 27     |  4.000 | 1      | 3      | 17     | 1      | 5      |  3     | 1      |\n",
       "|  16    | 1      | 57     | 15.000 | 1      | 5      | 18     | 6      | 5      |  0     | 0      |\n",
       "|  23    | 1      | 22     |  0.750 | 0      | 2      | 17     | 6      | 3      |  0     | 0      |\n",
       "|  29    | 0      | 32     |  1.500 | 0      | 2      | 17     | 5      | 5      |  0     | 0      |\n",
       "|  43    | 1      | 37     | 15.000 | 1      | 5      | 18     | 6      | 2      |  7     | 1      |\n",
       "|  44    | 0      | 22     |  0.750 | 0      | 2      | 12     | 1      | 3      |  0     | 0      |\n",
       "|  45    | 1      | 57     | 15.000 | 1      | 2      | 14     | 4      | 4      |  0     | 0      |\n",
       "|  47    | 0      | 32     | 15.000 | 1      | 4      | 16     | 1      | 2      |  0     | 0      |\n",
       "|  49    | 1      | 22     |  1.500 | 0      | 4      | 14     | 4      | 5      |  0     | 0      |\n",
       "|  50    | 1      | 37     | 15.000 | 1      | 2      | 20     | 7      | 2      |  0     | 0      |\n",
       "|  53    | 0      | 32     | 10.000 | 1      | 3      | 17     | 5      | 2      | 12     | 1      |\n",
       "|  55    | 1      | 27     |  4.000 | 1      | 4      | 18     | 6      | 4      |  0     | 0      |\n",
       "|  64    | 1      | 47     | 15.000 | 1      | 5      | 17     | 6      | 4      |  0     | 0      |\n",
       "|  67    | 1      | 22     |  0.125 | 0      | 4      | 16     | 5      | 5      |  1     | 1      |\n",
       "|  79    | 0      | 22     |  1.500 | 1      | 2      | 14     | 1      | 5      |  1     | 1      |\n",
       "|  80    | 0      | 22     |  1.500 | 0      | 2      | 17     | 5      | 4      |  0     | 0      |\n",
       "|  86    | 0      | 27     |  4.000 | 0      | 4      | 14     | 5      | 4      |  0     | 0      |\n",
       "|  93    | 0      | 37     | 15.000 | 1      | 1      | 17     | 5      | 5      |  0     | 0      |\n",
       "| 108    | 0      | 37     | 15.000 | 1      | 2      | 18     | 4      | 3      |  0     | 0      |\n",
       "| 114    | 0      | 22     |  0.750 | 0      | 3      | 16     | 5      | 4      |  0     | 0      |\n",
       "| 115    | 0      | 22     |  1.500 | 0      | 2      | 16     | 5      | 5      |  0     | 0      |\n",
       "| 116    | 0      | 27     | 10.000 | 1      | 2      | 14     | 1      | 5      |  0     | 0      |\n",
       "| 122    | 1      | 37     | 15.000 | 1      | 4      | 14     | 5      | 2      | 12     | 1      |\n",
       "| 123    | 0      | 22     |  1.500 | 0      | 2      | 16     | 5      | 5      |  0     | 0      |\n",
       "| 126    | 0      | 22     |  1.500 | 0      | 2      | 14     | 3      | 4      |  7     | 1      |\n",
       "| 127    | 0      | 22     |  1.500 | 0      | 2      | 16     | 5      | 5      |  0     | 0      |\n",
       "| ⋮ | ⋮ | ⋮ | ⋮ | ⋮ | ⋮ | ⋮ | ⋮ | ⋮ | ⋮ | ⋮ |\n",
       "| 1885 | 0    | 32   | 15.0 | 1    | 5    | 16   | 5    | 3    | 0    | 0    |\n",
       "| 1892 | 1    | 32   | 10.0 | 1    | 4    | 18   | 5    | 4    | 0    | 0    |\n",
       "| 1895 | 0    | 32   | 15.0 | 1    | 2    | 14   | 3    | 4    | 0    | 0    |\n",
       "| 1896 | 0    | 22   |  1.5 | 0    | 3    | 17   | 5    | 5    | 0    | 0    |\n",
       "| 1897 | 1    | 27   |  4.0 | 1    | 4    | 17   | 4    | 4    | 0    | 0    |\n",
       "| 1899 | 0    | 52   | 15.0 | 1    | 5    | 14   | 1    | 5    | 0    | 0    |\n",
       "| 1904 | 0    | 27   |  7.0 | 1    | 2    | 12   | 1    | 2    | 0    | 0    |\n",
       "| 1905 | 0    | 27   |  7.0 | 1    | 3    | 12   | 1    | 4    | 0    | 0    |\n",
       "| 1908 | 0    | 42   | 15.0 | 1    | 2    | 14   | 1    | 4    | 0    | 0    |\n",
       "| 1916 | 0    | 42   | 15.0 | 1    | 4    | 14   | 5    | 4    | 0    | 0    |\n",
       "| 1918 | 1    | 27   |  7.0 | 1    | 4    | 14   | 3    | 3    | 0    | 0    |\n",
       "| 1920 | 1    | 27   |  7.0 | 1    | 2    | 20   | 6    | 2    | 0    | 0    |\n",
       "| 1929 | 1    | 32   | 10.0 | 1    | 4    | 14   | 4    | 3    | 3    | 1    |\n",
       "| 1930 | 0    | 42   | 15.0 | 1    | 3    | 12   | 3    | 3    | 0    | 0    |\n",
       "| 1935 | 1    | 47   | 15.0 | 1    | 3    | 16   | 4    | 2    | 7    | 1    |\n",
       "| 1938 | 1    | 22   |  1.5 | 1    | 1    | 12   | 2    | 5    | 1    | 1    |\n",
       "| 1940 | 1    | 27   |  4.0 | 1    | 3    | 16   | 3    | 5    | 0    | 0    |\n",
       "| 1941 | 0    | 32   | 10.0 | 1    | 2    | 18   | 5    | 4    | 7    | 1    |\n",
       "| 1947 | 0    | 27   |  7.0 | 1    | 3    | 14   | 1    | 4    | 0    | 0    |\n",
       "| 1949 | 0    | 22   |  1.5 | 0    | 2    | 14   | 4    | 5    | 0    | 0    |\n",
       "| 1951 | 0    | 27   |  4.0 | 1    | 4    | 14   | 1    | 4    | 0    | 0    |\n",
       "| 1952 | 0    | 22   |  4.0 | 0    | 4    | 14   | 5    | 5    | 0    | 0    |\n",
       "| 1954 | 1    | 32   | 10.0 | 1    | 2    | 17   | 6    | 5    | 2    | 1    |\n",
       "| 1959 | 1    | 22   |  7.0 | 1    | 3    | 18   | 6    | 2    | 2    | 1    |\n",
       "| 1960 | 0    | 22   |  1.5 | 0    | 2    | 16   | 4    | 5    | 0    | 0    |\n",
       "| 9001 | 1    | 47   | 15.0 | 0    | 4    | 14   | 5    | 4    | 0    | 0    |\n",
       "| 9010 | 0    | 32   | 15.0 | 1    | 3    | 14   | 1    | 5    | 1    | 1    |\n",
       "| 9012 | 1    | 37   | 10.0 | 1    | 2    | 18   | 6    | 2    | 0    | 0    |\n",
       "| 9023 | 1    | 37   | 15.0 | 1    | 3    | 17   | 5    | 4    | 0    | 0    |\n",
       "| 9029 | 0    | 27   |  4.0 | 1    | 2    | 16   | 1    | 4    | 0    | 0    |\n",
       "\n"
      ],
      "text/plain": [
       "    id   male age yrsmarr kids relig educ occup ratemarr naffairs affair\n",
       "1     4  1    37  10.000  0    3     18   7     4         0       0     \n",
       "2     5  0    27   4.000  0    4     14   6     4         0       0     \n",
       "3     6  1    27   1.500  0    3     18   4     4         3       1     \n",
       "4    11  0    32  15.000  1    1     12   1     4         0       0     \n",
       "5    12  0    27   4.000  1    3     17   1     5         3       1     \n",
       "6    16  1    57  15.000  1    5     18   6     5         0       0     \n",
       "7    23  1    22   0.750  0    2     17   6     3         0       0     \n",
       "8    29  0    32   1.500  0    2     17   5     5         0       0     \n",
       "9    43  1    37  15.000  1    5     18   6     2         7       1     \n",
       "10   44  0    22   0.750  0    2     12   1     3         0       0     \n",
       "11   45  1    57  15.000  1    2     14   4     4         0       0     \n",
       "12   47  0    32  15.000  1    4     16   1     2         0       0     \n",
       "13   49  1    22   1.500  0    4     14   4     5         0       0     \n",
       "14   50  1    37  15.000  1    2     20   7     2         0       0     \n",
       "15   53  0    32  10.000  1    3     17   5     2        12       1     \n",
       "16   55  1    27   4.000  1    4     18   6     4         0       0     \n",
       "17   64  1    47  15.000  1    5     17   6     4         0       0     \n",
       "18   67  1    22   0.125  0    4     16   5     5         1       1     \n",
       "19   79  0    22   1.500  1    2     14   1     5         1       1     \n",
       "20   80  0    22   1.500  0    2     17   5     4         0       0     \n",
       "21   86  0    27   4.000  0    4     14   5     4         0       0     \n",
       "22   93  0    37  15.000  1    1     17   5     5         0       0     \n",
       "23  108  0    37  15.000  1    2     18   4     3         0       0     \n",
       "24  114  0    22   0.750  0    3     16   5     4         0       0     \n",
       "25  115  0    22   1.500  0    2     16   5     5         0       0     \n",
       "26  116  0    27  10.000  1    2     14   1     5         0       0     \n",
       "27  122  1    37  15.000  1    4     14   5     2        12       1     \n",
       "28  123  0    22   1.500  0    2     16   5     5         0       0     \n",
       "29  126  0    22   1.500  0    2     14   3     4         7       1     \n",
       "30  127  0    22   1.500  0    2     16   5     5         0       0     \n",
       "⋮   ⋮    ⋮    ⋮   ⋮       ⋮    ⋮     ⋮    ⋮     ⋮        ⋮        ⋮     \n",
       "572 1885 0    32  15.0    1    5     16   5     3        0        0     \n",
       "573 1892 1    32  10.0    1    4     18   5     4        0        0     \n",
       "574 1895 0    32  15.0    1    2     14   3     4        0        0     \n",
       "575 1896 0    22   1.5    0    3     17   5     5        0        0     \n",
       "576 1897 1    27   4.0    1    4     17   4     4        0        0     \n",
       "577 1899 0    52  15.0    1    5     14   1     5        0        0     \n",
       "578 1904 0    27   7.0    1    2     12   1     2        0        0     \n",
       "579 1905 0    27   7.0    1    3     12   1     4        0        0     \n",
       "580 1908 0    42  15.0    1    2     14   1     4        0        0     \n",
       "581 1916 0    42  15.0    1    4     14   5     4        0        0     \n",
       "582 1918 1    27   7.0    1    4     14   3     3        0        0     \n",
       "583 1920 1    27   7.0    1    2     20   6     2        0        0     \n",
       "584 1929 1    32  10.0    1    4     14   4     3        3        1     \n",
       "585 1930 0    42  15.0    1    3     12   3     3        0        0     \n",
       "586 1935 1    47  15.0    1    3     16   4     2        7        1     \n",
       "587 1938 1    22   1.5    1    1     12   2     5        1        1     \n",
       "588 1940 1    27   4.0    1    3     16   3     5        0        0     \n",
       "589 1941 0    32  10.0    1    2     18   5     4        7        1     \n",
       "590 1947 0    27   7.0    1    3     14   1     4        0        0     \n",
       "591 1949 0    22   1.5    0    2     14   4     5        0        0     \n",
       "592 1951 0    27   4.0    1    4     14   1     4        0        0     \n",
       "593 1952 0    22   4.0    0    4     14   5     5        0        0     \n",
       "594 1954 1    32  10.0    1    2     17   6     5        2        1     \n",
       "595 1959 1    22   7.0    1    3     18   6     2        2        1     \n",
       "596 1960 0    22   1.5    0    2     16   4     5        0        0     \n",
       "597 9001 1    47  15.0    0    4     14   5     4        0        0     \n",
       "598 9010 0    32  15.0    1    3     14   1     5        1        1     \n",
       "599 9012 1    37  10.0    1    2     18   6     2        0        0     \n",
       "600 9023 1    37  15.0    1    3     17   5     4        0        0     \n",
       "601 9029 0    27   4.0    1    2     16   1     4        0        0     "
      ]
     },
     "metadata": {},
     "output_type": "display_data"
    }
   ],
   "source": [
    "affairs"
   ]
  },
  {
   "cell_type": "code",
   "execution_count": 39,
   "metadata": {},
   "outputs": [
    {
     "data": {
      "text/html": [
       "<table>\n",
       "<thead><tr><th scope=col>id</th><th scope=col>male</th><th scope=col>age</th><th scope=col>yrsmarr</th><th scope=col>kids</th><th scope=col>relig</th><th scope=col>educ</th><th scope=col>occup</th><th scope=col>ratemarr</th><th scope=col>naffairs</th><th scope=col>affair</th></tr></thead>\n",
       "<tbody>\n",
       "\t<tr><td> 4   </td><td>1    </td><td>37   </td><td>10.00</td><td>0    </td><td>3    </td><td>18   </td><td>7    </td><td>4    </td><td>0    </td><td>0    </td></tr>\n",
       "\t<tr><td> 5   </td><td>0    </td><td>27   </td><td> 4.00</td><td>0    </td><td>4    </td><td>14   </td><td>6    </td><td>4    </td><td>0    </td><td>0    </td></tr>\n",
       "\t<tr><td> 6   </td><td>1    </td><td>27   </td><td> 1.50</td><td>0    </td><td>3    </td><td>18   </td><td>4    </td><td>4    </td><td>3    </td><td>1    </td></tr>\n",
       "\t<tr><td>11   </td><td>0    </td><td>32   </td><td>15.00</td><td>1    </td><td>1    </td><td>12   </td><td>1    </td><td>4    </td><td>0    </td><td>0    </td></tr>\n",
       "\t<tr><td>12   </td><td>0    </td><td>27   </td><td> 4.00</td><td>1    </td><td>3    </td><td>17   </td><td>1    </td><td>5    </td><td>3    </td><td>1    </td></tr>\n",
       "\t<tr><td>16   </td><td>1    </td><td>57   </td><td>15.00</td><td>1    </td><td>5    </td><td>18   </td><td>6    </td><td>5    </td><td>0    </td><td>0    </td></tr>\n",
       "\t<tr><td>23   </td><td>1    </td><td>22   </td><td> 0.75</td><td>0    </td><td>2    </td><td>17   </td><td>6    </td><td>3    </td><td>0    </td><td>0    </td></tr>\n",
       "\t<tr><td>29   </td><td>0    </td><td>32   </td><td> 1.50</td><td>0    </td><td>2    </td><td>17   </td><td>5    </td><td>5    </td><td>0    </td><td>0    </td></tr>\n",
       "\t<tr><td>43   </td><td>1    </td><td>37   </td><td>15.00</td><td>1    </td><td>5    </td><td>18   </td><td>6    </td><td>2    </td><td>7    </td><td>1    </td></tr>\n",
       "\t<tr><td>44   </td><td>0    </td><td>22   </td><td> 0.75</td><td>0    </td><td>2    </td><td>12   </td><td>1    </td><td>3    </td><td>0    </td><td>0    </td></tr>\n",
       "</tbody>\n",
       "</table>\n"
      ],
      "text/latex": [
       "\\begin{tabular}{r|lllllllllll}\n",
       " id & male & age & yrsmarr & kids & relig & educ & occup & ratemarr & naffairs & affair\\\\\n",
       "\\hline\n",
       "\t  4    & 1     & 37    & 10.00 & 0     & 3     & 18    & 7     & 4     & 0     & 0    \\\\\n",
       "\t  5    & 0     & 27    &  4.00 & 0     & 4     & 14    & 6     & 4     & 0     & 0    \\\\\n",
       "\t  6    & 1     & 27    &  1.50 & 0     & 3     & 18    & 4     & 4     & 3     & 1    \\\\\n",
       "\t 11    & 0     & 32    & 15.00 & 1     & 1     & 12    & 1     & 4     & 0     & 0    \\\\\n",
       "\t 12    & 0     & 27    &  4.00 & 1     & 3     & 17    & 1     & 5     & 3     & 1    \\\\\n",
       "\t 16    & 1     & 57    & 15.00 & 1     & 5     & 18    & 6     & 5     & 0     & 0    \\\\\n",
       "\t 23    & 1     & 22    &  0.75 & 0     & 2     & 17    & 6     & 3     & 0     & 0    \\\\\n",
       "\t 29    & 0     & 32    &  1.50 & 0     & 2     & 17    & 5     & 5     & 0     & 0    \\\\\n",
       "\t 43    & 1     & 37    & 15.00 & 1     & 5     & 18    & 6     & 2     & 7     & 1    \\\\\n",
       "\t 44    & 0     & 22    &  0.75 & 0     & 2     & 12    & 1     & 3     & 0     & 0    \\\\\n",
       "\\end{tabular}\n"
      ],
      "text/markdown": [
       "\n",
       "| id | male | age | yrsmarr | kids | relig | educ | occup | ratemarr | naffairs | affair |\n",
       "|---|---|---|---|---|---|---|---|---|---|---|\n",
       "|  4    | 1     | 37    | 10.00 | 0     | 3     | 18    | 7     | 4     | 0     | 0     |\n",
       "|  5    | 0     | 27    |  4.00 | 0     | 4     | 14    | 6     | 4     | 0     | 0     |\n",
       "|  6    | 1     | 27    |  1.50 | 0     | 3     | 18    | 4     | 4     | 3     | 1     |\n",
       "| 11    | 0     | 32    | 15.00 | 1     | 1     | 12    | 1     | 4     | 0     | 0     |\n",
       "| 12    | 0     | 27    |  4.00 | 1     | 3     | 17    | 1     | 5     | 3     | 1     |\n",
       "| 16    | 1     | 57    | 15.00 | 1     | 5     | 18    | 6     | 5     | 0     | 0     |\n",
       "| 23    | 1     | 22    |  0.75 | 0     | 2     | 17    | 6     | 3     | 0     | 0     |\n",
       "| 29    | 0     | 32    |  1.50 | 0     | 2     | 17    | 5     | 5     | 0     | 0     |\n",
       "| 43    | 1     | 37    | 15.00 | 1     | 5     | 18    | 6     | 2     | 7     | 1     |\n",
       "| 44    | 0     | 22    |  0.75 | 0     | 2     | 12    | 1     | 3     | 0     | 0     |\n",
       "\n"
      ],
      "text/plain": [
       "   id male age yrsmarr kids relig educ occup ratemarr naffairs affair\n",
       "1   4 1    37  10.00   0    3     18   7     4        0        0     \n",
       "2   5 0    27   4.00   0    4     14   6     4        0        0     \n",
       "3   6 1    27   1.50   0    3     18   4     4        3        1     \n",
       "4  11 0    32  15.00   1    1     12   1     4        0        0     \n",
       "5  12 0    27   4.00   1    3     17   1     5        3        1     \n",
       "6  16 1    57  15.00   1    5     18   6     5        0        0     \n",
       "7  23 1    22   0.75   0    2     17   6     3        0        0     \n",
       "8  29 0    32   1.50   0    2     17   5     5        0        0     \n",
       "9  43 1    37  15.00   1    5     18   6     2        7        1     \n",
       "10 44 0    22   0.75   0    2     12   1     3        0        0     "
      ]
     },
     "metadata": {},
     "output_type": "display_data"
    }
   ],
   "source": [
    "affairs[1:10, ]"
   ]
  },
  {
   "cell_type": "code",
   "execution_count": 45,
   "metadata": {},
   "outputs": [
    {
     "data": {
      "text/html": [
       "<table>\n",
       "<thead><tr><th scope=col>id</th><th scope=col>male</th><th scope=col>age</th><th scope=col>yrsmarr</th><th scope=col>kids</th></tr></thead>\n",
       "<tbody>\n",
       "\t<tr><td> 4   </td><td>1    </td><td>37   </td><td>10.00</td><td>0    </td></tr>\n",
       "\t<tr><td> 5   </td><td>0    </td><td>27   </td><td> 4.00</td><td>0    </td></tr>\n",
       "\t<tr><td> 6   </td><td>1    </td><td>27   </td><td> 1.50</td><td>0    </td></tr>\n",
       "\t<tr><td>11   </td><td>0    </td><td>32   </td><td>15.00</td><td>1    </td></tr>\n",
       "\t<tr><td>12   </td><td>0    </td><td>27   </td><td> 4.00</td><td>1    </td></tr>\n",
       "\t<tr><td>16   </td><td>1    </td><td>57   </td><td>15.00</td><td>1    </td></tr>\n",
       "\t<tr><td>23   </td><td>1    </td><td>22   </td><td> 0.75</td><td>0    </td></tr>\n",
       "\t<tr><td>29   </td><td>0    </td><td>32   </td><td> 1.50</td><td>0    </td></tr>\n",
       "\t<tr><td>43   </td><td>1    </td><td>37   </td><td>15.00</td><td>1    </td></tr>\n",
       "\t<tr><td>44   </td><td>0    </td><td>22   </td><td> 0.75</td><td>0    </td></tr>\n",
       "</tbody>\n",
       "</table>\n"
      ],
      "text/latex": [
       "\\begin{tabular}{r|lllll}\n",
       " id & male & age & yrsmarr & kids\\\\\n",
       "\\hline\n",
       "\t  4    & 1     & 37    & 10.00 & 0    \\\\\n",
       "\t  5    & 0     & 27    &  4.00 & 0    \\\\\n",
       "\t  6    & 1     & 27    &  1.50 & 0    \\\\\n",
       "\t 11    & 0     & 32    & 15.00 & 1    \\\\\n",
       "\t 12    & 0     & 27    &  4.00 & 1    \\\\\n",
       "\t 16    & 1     & 57    & 15.00 & 1    \\\\\n",
       "\t 23    & 1     & 22    &  0.75 & 0    \\\\\n",
       "\t 29    & 0     & 32    &  1.50 & 0    \\\\\n",
       "\t 43    & 1     & 37    & 15.00 & 1    \\\\\n",
       "\t 44    & 0     & 22    &  0.75 & 0    \\\\\n",
       "\\end{tabular}\n"
      ],
      "text/markdown": [
       "\n",
       "| id | male | age | yrsmarr | kids |\n",
       "|---|---|---|---|---|\n",
       "|  4    | 1     | 37    | 10.00 | 0     |\n",
       "|  5    | 0     | 27    |  4.00 | 0     |\n",
       "|  6    | 1     | 27    |  1.50 | 0     |\n",
       "| 11    | 0     | 32    | 15.00 | 1     |\n",
       "| 12    | 0     | 27    |  4.00 | 1     |\n",
       "| 16    | 1     | 57    | 15.00 | 1     |\n",
       "| 23    | 1     | 22    |  0.75 | 0     |\n",
       "| 29    | 0     | 32    |  1.50 | 0     |\n",
       "| 43    | 1     | 37    | 15.00 | 1     |\n",
       "| 44    | 0     | 22    |  0.75 | 0     |\n",
       "\n"
      ],
      "text/plain": [
       "   id male age yrsmarr kids\n",
       "1   4 1    37  10.00   0   \n",
       "2   5 0    27   4.00   0   \n",
       "3   6 1    27   1.50   0   \n",
       "4  11 0    32  15.00   1   \n",
       "5  12 0    27   4.00   1   \n",
       "6  16 1    57  15.00   1   \n",
       "7  23 1    22   0.75   0   \n",
       "8  29 0    32   1.50   0   \n",
       "9  43 1    37  15.00   1   \n",
       "10 44 0    22   0.75   0   "
      ]
     },
     "metadata": {},
     "output_type": "display_data"
    }
   ],
   "source": [
    "affairs[1:10, 1:5]"
   ]
  },
  {
   "cell_type": "code",
   "execution_count": 46,
   "metadata": {},
   "outputs": [
    {
     "data": {
      "text/html": [
       "<table>\n",
       "<thead><tr><th scope=col>id</th><th scope=col>age</th><th scope=col>kids</th></tr></thead>\n",
       "<tbody>\n",
       "\t<tr><td> 4</td><td>37</td><td>0 </td></tr>\n",
       "\t<tr><td> 5</td><td>27</td><td>0 </td></tr>\n",
       "\t<tr><td> 6</td><td>27</td><td>0 </td></tr>\n",
       "\t<tr><td>11</td><td>32</td><td>1 </td></tr>\n",
       "\t<tr><td>12</td><td>27</td><td>1 </td></tr>\n",
       "\t<tr><td>16</td><td>57</td><td>1 </td></tr>\n",
       "\t<tr><td>23</td><td>22</td><td>0 </td></tr>\n",
       "\t<tr><td>29</td><td>32</td><td>0 </td></tr>\n",
       "\t<tr><td>43</td><td>37</td><td>1 </td></tr>\n",
       "\t<tr><td>44</td><td>22</td><td>0 </td></tr>\n",
       "</tbody>\n",
       "</table>\n"
      ],
      "text/latex": [
       "\\begin{tabular}{r|lll}\n",
       " id & age & kids\\\\\n",
       "\\hline\n",
       "\t  4 & 37 & 0 \\\\\n",
       "\t  5 & 27 & 0 \\\\\n",
       "\t  6 & 27 & 0 \\\\\n",
       "\t 11 & 32 & 1 \\\\\n",
       "\t 12 & 27 & 1 \\\\\n",
       "\t 16 & 57 & 1 \\\\\n",
       "\t 23 & 22 & 0 \\\\\n",
       "\t 29 & 32 & 0 \\\\\n",
       "\t 43 & 37 & 1 \\\\\n",
       "\t 44 & 22 & 0 \\\\\n",
       "\\end{tabular}\n"
      ],
      "text/markdown": [
       "\n",
       "| id | age | kids |\n",
       "|---|---|---|\n",
       "|  4 | 37 | 0  |\n",
       "|  5 | 27 | 0  |\n",
       "|  6 | 27 | 0  |\n",
       "| 11 | 32 | 1  |\n",
       "| 12 | 27 | 1  |\n",
       "| 16 | 57 | 1  |\n",
       "| 23 | 22 | 0  |\n",
       "| 29 | 32 | 0  |\n",
       "| 43 | 37 | 1  |\n",
       "| 44 | 22 | 0  |\n",
       "\n"
      ],
      "text/plain": [
       "   id age kids\n",
       "1   4 37  0   \n",
       "2   5 27  0   \n",
       "3   6 27  0   \n",
       "4  11 32  1   \n",
       "5  12 27  1   \n",
       "6  16 57  1   \n",
       "7  23 22  0   \n",
       "8  29 32  0   \n",
       "9  43 37  1   \n",
       "10 44 22  0   "
      ]
     },
     "metadata": {},
     "output_type": "display_data"
    }
   ],
   "source": [
    "affairs[1:10, c(1, 3, 5)]"
   ]
  },
  {
   "cell_type": "code",
   "execution_count": 50,
   "metadata": {},
   "outputs": [
    {
     "data": {
      "text/html": [
       "<table>\n",
       "<thead><tr><th scope=col>male</th><th scope=col>age</th><th scope=col>yrsmarr</th><th scope=col>kids</th><th scope=col>relig</th><th scope=col>educ</th><th scope=col>occup</th><th scope=col>ratemarr</th><th scope=col>naffairs</th></tr></thead>\n",
       "<tbody>\n",
       "\t<tr><td>1    </td><td>37   </td><td>10.00</td><td>0    </td><td>3    </td><td>18   </td><td>7    </td><td>4    </td><td>0    </td></tr>\n",
       "\t<tr><td>0    </td><td>27   </td><td> 4.00</td><td>0    </td><td>4    </td><td>14   </td><td>6    </td><td>4    </td><td>0    </td></tr>\n",
       "\t<tr><td>1    </td><td>27   </td><td> 1.50</td><td>0    </td><td>3    </td><td>18   </td><td>4    </td><td>4    </td><td>3    </td></tr>\n",
       "\t<tr><td>0    </td><td>32   </td><td>15.00</td><td>1    </td><td>1    </td><td>12   </td><td>1    </td><td>4    </td><td>0    </td></tr>\n",
       "\t<tr><td>0    </td><td>27   </td><td> 4.00</td><td>1    </td><td>3    </td><td>17   </td><td>1    </td><td>5    </td><td>3    </td></tr>\n",
       "\t<tr><td>1    </td><td>57   </td><td>15.00</td><td>1    </td><td>5    </td><td>18   </td><td>6    </td><td>5    </td><td>0    </td></tr>\n",
       "\t<tr><td>1    </td><td>22   </td><td> 0.75</td><td>0    </td><td>2    </td><td>17   </td><td>6    </td><td>3    </td><td>0    </td></tr>\n",
       "\t<tr><td>0    </td><td>32   </td><td> 1.50</td><td>0    </td><td>2    </td><td>17   </td><td>5    </td><td>5    </td><td>0    </td></tr>\n",
       "\t<tr><td>1    </td><td>37   </td><td>15.00</td><td>1    </td><td>5    </td><td>18   </td><td>6    </td><td>2    </td><td>7    </td></tr>\n",
       "\t<tr><td>0    </td><td>22   </td><td> 0.75</td><td>0    </td><td>2    </td><td>12   </td><td>1    </td><td>3    </td><td>0    </td></tr>\n",
       "</tbody>\n",
       "</table>\n"
      ],
      "text/latex": [
       "\\begin{tabular}{r|lllllllll}\n",
       " male & age & yrsmarr & kids & relig & educ & occup & ratemarr & naffairs\\\\\n",
       "\\hline\n",
       "\t 1     & 37    & 10.00 & 0     & 3     & 18    & 7     & 4     & 0    \\\\\n",
       "\t 0     & 27    &  4.00 & 0     & 4     & 14    & 6     & 4     & 0    \\\\\n",
       "\t 1     & 27    &  1.50 & 0     & 3     & 18    & 4     & 4     & 3    \\\\\n",
       "\t 0     & 32    & 15.00 & 1     & 1     & 12    & 1     & 4     & 0    \\\\\n",
       "\t 0     & 27    &  4.00 & 1     & 3     & 17    & 1     & 5     & 3    \\\\\n",
       "\t 1     & 57    & 15.00 & 1     & 5     & 18    & 6     & 5     & 0    \\\\\n",
       "\t 1     & 22    &  0.75 & 0     & 2     & 17    & 6     & 3     & 0    \\\\\n",
       "\t 0     & 32    &  1.50 & 0     & 2     & 17    & 5     & 5     & 0    \\\\\n",
       "\t 1     & 37    & 15.00 & 1     & 5     & 18    & 6     & 2     & 7    \\\\\n",
       "\t 0     & 22    &  0.75 & 0     & 2     & 12    & 1     & 3     & 0    \\\\\n",
       "\\end{tabular}\n"
      ],
      "text/markdown": [
       "\n",
       "| male | age | yrsmarr | kids | relig | educ | occup | ratemarr | naffairs |\n",
       "|---|---|---|---|---|---|---|---|---|\n",
       "| 1     | 37    | 10.00 | 0     | 3     | 18    | 7     | 4     | 0     |\n",
       "| 0     | 27    |  4.00 | 0     | 4     | 14    | 6     | 4     | 0     |\n",
       "| 1     | 27    |  1.50 | 0     | 3     | 18    | 4     | 4     | 3     |\n",
       "| 0     | 32    | 15.00 | 1     | 1     | 12    | 1     | 4     | 0     |\n",
       "| 0     | 27    |  4.00 | 1     | 3     | 17    | 1     | 5     | 3     |\n",
       "| 1     | 57    | 15.00 | 1     | 5     | 18    | 6     | 5     | 0     |\n",
       "| 1     | 22    |  0.75 | 0     | 2     | 17    | 6     | 3     | 0     |\n",
       "| 0     | 32    |  1.50 | 0     | 2     | 17    | 5     | 5     | 0     |\n",
       "| 1     | 37    | 15.00 | 1     | 5     | 18    | 6     | 2     | 7     |\n",
       "| 0     | 22    |  0.75 | 0     | 2     | 12    | 1     | 3     | 0     |\n",
       "\n"
      ],
      "text/plain": [
       "   male age yrsmarr kids relig educ occup ratemarr naffairs\n",
       "1  1    37  10.00   0    3     18   7     4        0       \n",
       "2  0    27   4.00   0    4     14   6     4        0       \n",
       "3  1    27   1.50   0    3     18   4     4        3       \n",
       "4  0    32  15.00   1    1     12   1     4        0       \n",
       "5  0    27   4.00   1    3     17   1     5        3       \n",
       "6  1    57  15.00   1    5     18   6     5        0       \n",
       "7  1    22   0.75   0    2     17   6     3        0       \n",
       "8  0    32   1.50   0    2     17   5     5        0       \n",
       "9  1    37  15.00   1    5     18   6     2        7       \n",
       "10 0    22   0.75   0    2     12   1     3        0       "
      ]
     },
     "metadata": {},
     "output_type": "display_data"
    }
   ],
   "source": [
    "affairs[1:10, c(-1, -11)]"
   ]
  },
  {
   "cell_type": "code",
   "execution_count": 21,
   "metadata": {},
   "outputs": [
    {
     "data": {
      "text/html": [
       "<table>\n",
       "<thead><tr><th></th><th scope=col>male</th><th scope=col>ratemarr</th></tr></thead>\n",
       "<tbody>\n",
       "\t<tr><th scope=row>1</th><td>1</td><td>4</td></tr>\n",
       "\t<tr><th scope=row>6</th><td>1</td><td>5</td></tr>\n",
       "\t<tr><th scope=row>9</th><td>1</td><td>2</td></tr>\n",
       "\t<tr><th scope=row>11</th><td>1</td><td>4</td></tr>\n",
       "\t<tr><th scope=row>14</th><td>1</td><td>2</td></tr>\n",
       "\t<tr><th scope=row>17</th><td>1</td><td>4</td></tr>\n",
       "\t<tr><th scope=row>22</th><td>0</td><td>5</td></tr>\n",
       "\t<tr><th scope=row>23</th><td>0</td><td>3</td></tr>\n",
       "\t<tr><th scope=row>27</th><td>1</td><td>2</td></tr>\n",
       "\t<tr><th scope=row>32</th><td>1</td><td>4</td></tr>\n",
       "\t<tr><th scope=row>34</th><td>1</td><td>4</td></tr>\n",
       "\t<tr><th scope=row>38</th><td>1</td><td>4</td></tr>\n",
       "\t<tr><th scope=row>40</th><td>0</td><td>2</td></tr>\n",
       "\t<tr><th scope=row>42</th><td>0</td><td>4</td></tr>\n",
       "\t<tr><th scope=row>43</th><td>1</td><td>3</td></tr>\n",
       "\t<tr><th scope=row>46</th><td>0</td><td>4</td></tr>\n",
       "\t<tr><th scope=row>49</th><td>0</td><td>1</td></tr>\n",
       "\t<tr><th scope=row>50</th><td>1</td><td>2</td></tr>\n",
       "\t<tr><th scope=row>53</th><td>0</td><td>4</td></tr>\n",
       "\t<tr><th scope=row>54</th><td>1</td><td>3</td></tr>\n",
       "\t<tr><th scope=row>59</th><td>1</td><td>5</td></tr>\n",
       "\t<tr><th scope=row>61</th><td>0</td><td>5</td></tr>\n",
       "\t<tr><th scope=row>62</th><td>1</td><td>3</td></tr>\n",
       "\t<tr><th scope=row>70</th><td>0</td><td>4</td></tr>\n",
       "\t<tr><th scope=row>72</th><td>1</td><td>4</td></tr>\n",
       "\t<tr><th scope=row>80</th><td>0</td><td>4</td></tr>\n",
       "\t<tr><th scope=row>82</th><td>0</td><td>1</td></tr>\n",
       "\t<tr><th scope=row>86</th><td>0</td><td>5</td></tr>\n",
       "\t<tr><th scope=row>89</th><td>0</td><td>2</td></tr>\n",
       "\t<tr><th scope=row>90</th><td>1</td><td>4</td></tr>\n",
       "\t<tr><th scope=row>⋮</th><td>⋮</td><td>⋮</td></tr>\n",
       "\t<tr><th scope=row>516</th><td>1</td><td>4</td></tr>\n",
       "\t<tr><th scope=row>517</th><td>0</td><td>2</td></tr>\n",
       "\t<tr><th scope=row>518</th><td>1</td><td>2</td></tr>\n",
       "\t<tr><th scope=row>524</th><td>0</td><td>4</td></tr>\n",
       "\t<tr><th scope=row>526</th><td>1</td><td>2</td></tr>\n",
       "\t<tr><th scope=row>527</th><td>1</td><td>3</td></tr>\n",
       "\t<tr><th scope=row>532</th><td>1</td><td>3</td></tr>\n",
       "\t<tr><th scope=row>534</th><td>1</td><td>4</td></tr>\n",
       "\t<tr><th scope=row>535</th><td>1</td><td>4</td></tr>\n",
       "\t<tr><th scope=row>539</th><td>1</td><td>1</td></tr>\n",
       "\t<tr><th scope=row>541</th><td>0</td><td>5</td></tr>\n",
       "\t<tr><th scope=row>542</th><td>1</td><td>5</td></tr>\n",
       "\t<tr><th scope=row>543</th><td>1</td><td>5</td></tr>\n",
       "\t<tr><th scope=row>545</th><td>1</td><td>4</td></tr>\n",
       "\t<tr><th scope=row>546</th><td>1</td><td>5</td></tr>\n",
       "\t<tr><th scope=row>550</th><td>1</td><td>5</td></tr>\n",
       "\t<tr><th scope=row>552</th><td>1</td><td>4</td></tr>\n",
       "\t<tr><th scope=row>556</th><td>0</td><td>5</td></tr>\n",
       "\t<tr><th scope=row>557</th><td>1</td><td>3</td></tr>\n",
       "\t<tr><th scope=row>560</th><td>1</td><td>2</td></tr>\n",
       "\t<tr><th scope=row>564</th><td>0</td><td>1</td></tr>\n",
       "\t<tr><th scope=row>565</th><td>0</td><td>2</td></tr>\n",
       "\t<tr><th scope=row>577</th><td>0</td><td>5</td></tr>\n",
       "\t<tr><th scope=row>580</th><td>0</td><td>4</td></tr>\n",
       "\t<tr><th scope=row>581</th><td>0</td><td>4</td></tr>\n",
       "\t<tr><th scope=row>585</th><td>0</td><td>3</td></tr>\n",
       "\t<tr><th scope=row>586</th><td>1</td><td>2</td></tr>\n",
       "\t<tr><th scope=row>597</th><td>1</td><td>4</td></tr>\n",
       "\t<tr><th scope=row>599</th><td>1</td><td>2</td></tr>\n",
       "\t<tr><th scope=row>600</th><td>1</td><td>4</td></tr>\n",
       "</tbody>\n",
       "</table>\n"
      ],
      "text/latex": [
       "\\begin{tabular}{r|ll}\n",
       "  & male & ratemarr\\\\\n",
       "\\hline\n",
       "\t1 & 1 & 4\\\\\n",
       "\t6 & 1 & 5\\\\\n",
       "\t9 & 1 & 2\\\\\n",
       "\t11 & 1 & 4\\\\\n",
       "\t14 & 1 & 2\\\\\n",
       "\t17 & 1 & 4\\\\\n",
       "\t22 & 0 & 5\\\\\n",
       "\t23 & 0 & 3\\\\\n",
       "\t27 & 1 & 2\\\\\n",
       "\t32 & 1 & 4\\\\\n",
       "\t34 & 1 & 4\\\\\n",
       "\t38 & 1 & 4\\\\\n",
       "\t40 & 0 & 2\\\\\n",
       "\t42 & 0 & 4\\\\\n",
       "\t43 & 1 & 3\\\\\n",
       "\t46 & 0 & 4\\\\\n",
       "\t49 & 0 & 1\\\\\n",
       "\t50 & 1 & 2\\\\\n",
       "\t53 & 0 & 4\\\\\n",
       "\t54 & 1 & 3\\\\\n",
       "\t59 & 1 & 5\\\\\n",
       "\t61 & 0 & 5\\\\\n",
       "\t62 & 1 & 3\\\\\n",
       "\t70 & 0 & 4\\\\\n",
       "\t72 & 1 & 4\\\\\n",
       "\t80 & 0 & 4\\\\\n",
       "\t82 & 0 & 1\\\\\n",
       "\t86 & 0 & 5\\\\\n",
       "\t89 & 0 & 2\\\\\n",
       "\t90 & 1 & 4\\\\\n",
       "\t⋮ & ⋮ & ⋮\\\\\n",
       "\t516 & 1 & 4\\\\\n",
       "\t517 & 0 & 2\\\\\n",
       "\t518 & 1 & 2\\\\\n",
       "\t524 & 0 & 4\\\\\n",
       "\t526 & 1 & 2\\\\\n",
       "\t527 & 1 & 3\\\\\n",
       "\t532 & 1 & 3\\\\\n",
       "\t534 & 1 & 4\\\\\n",
       "\t535 & 1 & 4\\\\\n",
       "\t539 & 1 & 1\\\\\n",
       "\t541 & 0 & 5\\\\\n",
       "\t542 & 1 & 5\\\\\n",
       "\t543 & 1 & 5\\\\\n",
       "\t545 & 1 & 4\\\\\n",
       "\t546 & 1 & 5\\\\\n",
       "\t550 & 1 & 5\\\\\n",
       "\t552 & 1 & 4\\\\\n",
       "\t556 & 0 & 5\\\\\n",
       "\t557 & 1 & 3\\\\\n",
       "\t560 & 1 & 2\\\\\n",
       "\t564 & 0 & 1\\\\\n",
       "\t565 & 0 & 2\\\\\n",
       "\t577 & 0 & 5\\\\\n",
       "\t580 & 0 & 4\\\\\n",
       "\t581 & 0 & 4\\\\\n",
       "\t585 & 0 & 3\\\\\n",
       "\t586 & 1 & 2\\\\\n",
       "\t597 & 1 & 4\\\\\n",
       "\t599 & 1 & 2\\\\\n",
       "\t600 & 1 & 4\\\\\n",
       "\\end{tabular}\n"
      ],
      "text/markdown": [
       "\n",
       "| <!--/--> | male | ratemarr |\n",
       "|---|---|---|\n",
       "| 1 | 1 | 4 |\n",
       "| 6 | 1 | 5 |\n",
       "| 9 | 1 | 2 |\n",
       "| 11 | 1 | 4 |\n",
       "| 14 | 1 | 2 |\n",
       "| 17 | 1 | 4 |\n",
       "| 22 | 0 | 5 |\n",
       "| 23 | 0 | 3 |\n",
       "| 27 | 1 | 2 |\n",
       "| 32 | 1 | 4 |\n",
       "| 34 | 1 | 4 |\n",
       "| 38 | 1 | 4 |\n",
       "| 40 | 0 | 2 |\n",
       "| 42 | 0 | 4 |\n",
       "| 43 | 1 | 3 |\n",
       "| 46 | 0 | 4 |\n",
       "| 49 | 0 | 1 |\n",
       "| 50 | 1 | 2 |\n",
       "| 53 | 0 | 4 |\n",
       "| 54 | 1 | 3 |\n",
       "| 59 | 1 | 5 |\n",
       "| 61 | 0 | 5 |\n",
       "| 62 | 1 | 3 |\n",
       "| 70 | 0 | 4 |\n",
       "| 72 | 1 | 4 |\n",
       "| 80 | 0 | 4 |\n",
       "| 82 | 0 | 1 |\n",
       "| 86 | 0 | 5 |\n",
       "| 89 | 0 | 2 |\n",
       "| 90 | 1 | 4 |\n",
       "| ⋮ | ⋮ | ⋮ |\n",
       "| 516 | 1 | 4 |\n",
       "| 517 | 0 | 2 |\n",
       "| 518 | 1 | 2 |\n",
       "| 524 | 0 | 4 |\n",
       "| 526 | 1 | 2 |\n",
       "| 527 | 1 | 3 |\n",
       "| 532 | 1 | 3 |\n",
       "| 534 | 1 | 4 |\n",
       "| 535 | 1 | 4 |\n",
       "| 539 | 1 | 1 |\n",
       "| 541 | 0 | 5 |\n",
       "| 542 | 1 | 5 |\n",
       "| 543 | 1 | 5 |\n",
       "| 545 | 1 | 4 |\n",
       "| 546 | 1 | 5 |\n",
       "| 550 | 1 | 5 |\n",
       "| 552 | 1 | 4 |\n",
       "| 556 | 0 | 5 |\n",
       "| 557 | 1 | 3 |\n",
       "| 560 | 1 | 2 |\n",
       "| 564 | 0 | 1 |\n",
       "| 565 | 0 | 2 |\n",
       "| 577 | 0 | 5 |\n",
       "| 580 | 0 | 4 |\n",
       "| 581 | 0 | 4 |\n",
       "| 585 | 0 | 3 |\n",
       "| 586 | 1 | 2 |\n",
       "| 597 | 1 | 4 |\n",
       "| 599 | 1 | 2 |\n",
       "| 600 | 1 | 4 |\n",
       "\n"
      ],
      "text/plain": [
       "    male ratemarr\n",
       "1   1    4       \n",
       "6   1    5       \n",
       "9   1    2       \n",
       "11  1    4       \n",
       "14  1    2       \n",
       "17  1    4       \n",
       "22  0    5       \n",
       "23  0    3       \n",
       "27  1    2       \n",
       "32  1    4       \n",
       "34  1    4       \n",
       "38  1    4       \n",
       "40  0    2       \n",
       "42  0    4       \n",
       "43  1    3       \n",
       "46  0    4       \n",
       "49  0    1       \n",
       "50  1    2       \n",
       "53  0    4       \n",
       "54  1    3       \n",
       "59  1    5       \n",
       "61  0    5       \n",
       "62  1    3       \n",
       "70  0    4       \n",
       "72  1    4       \n",
       "80  0    4       \n",
       "82  0    1       \n",
       "86  0    5       \n",
       "89  0    2       \n",
       "90  1    4       \n",
       "⋮   ⋮    ⋮       \n",
       "516 1    4       \n",
       "517 0    2       \n",
       "518 1    2       \n",
       "524 0    4       \n",
       "526 1    2       \n",
       "527 1    3       \n",
       "532 1    3       \n",
       "534 1    4       \n",
       "535 1    4       \n",
       "539 1    1       \n",
       "541 0    5       \n",
       "542 1    5       \n",
       "543 1    5       \n",
       "545 1    4       \n",
       "546 1    5       \n",
       "550 1    5       \n",
       "552 1    4       \n",
       "556 0    5       \n",
       "557 1    3       \n",
       "560 1    2       \n",
       "564 0    1       \n",
       "565 0    2       \n",
       "577 0    5       \n",
       "580 0    4       \n",
       "581 0    4       \n",
       "585 0    3       \n",
       "586 1    2       \n",
       "597 1    4       \n",
       "599 1    2       \n",
       "600 1    4       "
      ]
     },
     "metadata": {},
     "output_type": "display_data"
    }
   ],
   "source": [
    "affairs[affairs$age > 35, c(\"male\", \"ratemarr\")]"
   ]
  },
  {
   "cell_type": "code",
   "execution_count": 27,
   "metadata": {},
   "outputs": [
    {
     "data": {
      "text/plain": [
       "   Min. 1st Qu.  Median    Mean 3rd Qu.    Max. \n",
       "  1.000   3.000   4.000   3.629   4.000   5.000 "
      ]
     },
     "metadata": {},
     "output_type": "display_data"
    }
   ],
   "source": [
    "summary(affairs[affairs$age > 35, c(\"ratemarr\")])"
   ]
  },
  {
   "cell_type": "code",
   "execution_count": 54,
   "metadata": {},
   "outputs": [
    {
     "data": {
      "text/plain": [
       "\n",
       "  0   1 \n",
       "315 286 "
      ]
     },
     "metadata": {},
     "output_type": "display_data"
    }
   ],
   "source": [
    "table(affairs$male)"
   ]
  },
  {
   "cell_type": "code",
   "execution_count": 55,
   "metadata": {},
   "outputs": [
    {
     "data": {
      "text/plain": [
       "   \n",
       "      1   2   3   4   5\n",
       "  0  11  35  46  93 130\n",
       "  1   5  31  47 101 102"
      ]
     },
     "metadata": {},
     "output_type": "display_data"
    }
   ],
   "source": [
    "table(affairs$male, affairs$ratemarr)"
   ]
  },
  {
   "cell_type": "code",
   "execution_count": null,
   "metadata": {},
   "outputs": [],
   "source": [
    "View(affairs)"
   ]
  },
  {
   "cell_type": "code",
   "execution_count": 57,
   "metadata": {},
   "outputs": [
    {
     "data": {
      "text/html": [
       "<table>\n",
       "<thead><tr><th scope=col>id</th><th scope=col>male</th><th scope=col>age</th><th scope=col>yrsmarr</th><th scope=col>kids</th><th scope=col>relig</th><th scope=col>educ</th><th scope=col>occup</th><th scope=col>ratemarr</th><th scope=col>naffairs</th><th scope=col>affair</th></tr></thead>\n",
       "<tbody>\n",
       "\t<tr><td> 4  </td><td>1   </td><td>37  </td><td>10.0</td><td>0   </td><td>3   </td><td>18  </td><td>7   </td><td>4   </td><td>0   </td><td>0   </td></tr>\n",
       "\t<tr><td> 5  </td><td>0   </td><td>27  </td><td> 4.0</td><td>0   </td><td>4   </td><td>14  </td><td>6   </td><td>4   </td><td>0   </td><td>0   </td></tr>\n",
       "\t<tr><td> 6  </td><td>1   </td><td>27  </td><td> 1.5</td><td>0   </td><td>3   </td><td>18  </td><td>4   </td><td>4   </td><td>3   </td><td>1   </td></tr>\n",
       "\t<tr><td>11  </td><td>0   </td><td>32  </td><td>15.0</td><td>1   </td><td>1   </td><td>12  </td><td>1   </td><td>4   </td><td>0   </td><td>0   </td></tr>\n",
       "\t<tr><td>12  </td><td>0   </td><td>27  </td><td> 4.0</td><td>1   </td><td>3   </td><td>17  </td><td>1   </td><td>5   </td><td>3   </td><td>1   </td></tr>\n",
       "\t<tr><td>16  </td><td>1   </td><td>57  </td><td>15.0</td><td>1   </td><td>5   </td><td>18  </td><td>6   </td><td>5   </td><td>0   </td><td>0   </td></tr>\n",
       "</tbody>\n",
       "</table>\n"
      ],
      "text/latex": [
       "\\begin{tabular}{r|lllllllllll}\n",
       " id & male & age & yrsmarr & kids & relig & educ & occup & ratemarr & naffairs & affair\\\\\n",
       "\\hline\n",
       "\t  4   & 1    & 37   & 10.0 & 0    & 3    & 18   & 7    & 4    & 0    & 0   \\\\\n",
       "\t  5   & 0    & 27   &  4.0 & 0    & 4    & 14   & 6    & 4    & 0    & 0   \\\\\n",
       "\t  6   & 1    & 27   &  1.5 & 0    & 3    & 18   & 4    & 4    & 3    & 1   \\\\\n",
       "\t 11   & 0    & 32   & 15.0 & 1    & 1    & 12   & 1    & 4    & 0    & 0   \\\\\n",
       "\t 12   & 0    & 27   &  4.0 & 1    & 3    & 17   & 1    & 5    & 3    & 1   \\\\\n",
       "\t 16   & 1    & 57   & 15.0 & 1    & 5    & 18   & 6    & 5    & 0    & 0   \\\\\n",
       "\\end{tabular}\n"
      ],
      "text/markdown": [
       "\n",
       "| id | male | age | yrsmarr | kids | relig | educ | occup | ratemarr | naffairs | affair |\n",
       "|---|---|---|---|---|---|---|---|---|---|---|\n",
       "|  4   | 1    | 37   | 10.0 | 0    | 3    | 18   | 7    | 4    | 0    | 0    |\n",
       "|  5   | 0    | 27   |  4.0 | 0    | 4    | 14   | 6    | 4    | 0    | 0    |\n",
       "|  6   | 1    | 27   |  1.5 | 0    | 3    | 18   | 4    | 4    | 3    | 1    |\n",
       "| 11   | 0    | 32   | 15.0 | 1    | 1    | 12   | 1    | 4    | 0    | 0    |\n",
       "| 12   | 0    | 27   |  4.0 | 1    | 3    | 17   | 1    | 5    | 3    | 1    |\n",
       "| 16   | 1    | 57   | 15.0 | 1    | 5    | 18   | 6    | 5    | 0    | 0    |\n",
       "\n"
      ],
      "text/plain": [
       "  id male age yrsmarr kids relig educ occup ratemarr naffairs affair\n",
       "1  4 1    37  10.0    0    3     18   7     4        0        0     \n",
       "2  5 0    27   4.0    0    4     14   6     4        0        0     \n",
       "3  6 1    27   1.5    0    3     18   4     4        3        1     \n",
       "4 11 0    32  15.0    1    1     12   1     4        0        0     \n",
       "5 12 0    27   4.0    1    3     17   1     5        3        1     \n",
       "6 16 1    57  15.0    1    5     18   6     5        0        0     "
      ]
     },
     "metadata": {},
     "output_type": "display_data"
    }
   ],
   "source": [
    "head(affairs)"
   ]
  },
  {
   "cell_type": "code",
   "execution_count": 58,
   "metadata": {},
   "outputs": [
    {
     "data": {
      "text/html": [
       "'data.frame'"
      ],
      "text/latex": [
       "'data.frame'"
      ],
      "text/markdown": [
       "'data.frame'"
      ],
      "text/plain": [
       "[1] \"data.frame\""
      ]
     },
     "metadata": {},
     "output_type": "display_data"
    }
   ],
   "source": [
    "class(affairs)"
   ]
  },
  {
   "cell_type": "markdown",
   "metadata": {},
   "source": [
    "---\n",
    "## 4. Keeping track\n",
    "* R Markdown - save your code and results.\n",
    "  * Open an R Markdown file."
   ]
  },
  {
   "cell_type": "markdown",
   "metadata": {},
   "source": [
    "![Step 1](img/markdown_step1.png)"
   ]
  },
  {
   "cell_type": "markdown",
   "metadata": {},
   "source": [
    "* R Markdown\n",
    "  * Clike OK! "
   ]
  },
  {
   "cell_type": "markdown",
   "metadata": {},
   "source": [
    "![Step 2](img/markdown_step2.png)"
   ]
  },
  {
   "cell_type": "markdown",
   "metadata": {},
   "source": [
    "* R Markdown\n",
    "  * Created an R Markdwon surface. "
   ]
  },
  {
   "cell_type": "markdown",
   "metadata": {},
   "source": [
    "![Step 3](img/markdown_step3.png)"
   ]
  },
  {
   "cell_type": "markdown",
   "metadata": {},
   "source": [
    "* R Markdown\n",
    "  * Demo"
   ]
  },
  {
   "cell_type": "markdown",
   "metadata": {},
   "source": [
    "![Markdwon_demo](img/markdown_demo.png)"
   ]
  },
  {
   "cell_type": "markdown",
   "metadata": {},
   "source": [
    "---\n",
    "## 5. Practice\n",
    "* Create a folder name \"Your_Studuent_ID_R\" on desktop, and set the working directory to this folder.\n",
    "* Import three dataset: \"crime3.csv\". \n",
    "* Compare the mean of var crime in year 72 and year 78."
   ]
  }
 ],
 "metadata": {
  "kernelspec": {
   "display_name": "R",
   "language": "R",
   "name": "ir"
  },
  "language_info": {
   "codemirror_mode": "r",
   "file_extension": ".r",
   "mimetype": "text/x-r-source",
   "name": "R",
   "pygments_lexer": "r",
   "version": "3.5.0"
  }
 },
 "nbformat": 4,
 "nbformat_minor": 2
}
