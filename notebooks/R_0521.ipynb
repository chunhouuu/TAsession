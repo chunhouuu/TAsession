{
 "cells": [
  {
   "cell_type": "markdown",
   "metadata": {},
   "source": [
    "Instrumental Variables Regression\n",
    "===\n",
    "* Two Stage Least Squares\n",
    "* The Overidentifying Restrictions Test"
   ]
  },
  {
   "cell_type": "code",
   "execution_count": 1,
   "metadata": {
    "scrolled": true
   },
   "outputs": [
    {
     "name": "stderr",
     "output_type": "stream",
     "text": [
      "─ Attaching packages ──────────────────── tidyverse 1.2.1 ─\n",
      "✔ ggplot2 2.2.1     ✔ purrr   0.2.5\n",
      "✔ tibble  1.4.2     ✔ dplyr   0.7.6\n",
      "✔ tidyr   0.8.1     ✔ stringr 1.4.0\n",
      "✔ readr   1.1.1     ✔ forcats 0.3.0\n",
      "Warning message:\n",
      "“package ‘dplyr’ was built under R version 3.5.1”Warning message:\n",
      "“package ‘stringr’ was built under R version 3.5.2”─ Conflicts ───────────────────── tidyverse_conflicts() ─\n",
      "✖ dplyr::filter() masks stats::filter()\n",
      "✖ dplyr::lag()    masks stats::lag()\n",
      "\n",
      "Please cite as: \n",
      "\n",
      " Hlavac, Marek (2018). stargazer: Well-Formatted Regression and Summary Statistics Tables.\n",
      " R package version 5.2.2. https://CRAN.R-project.org/package=stargazer \n",
      "\n"
     ]
    }
   ],
   "source": [
    "library(tidyverse)\n",
    "library(stargazer)"
   ]
  },
  {
   "cell_type": "code",
   "execution_count": 2,
   "metadata": {},
   "outputs": [
    {
     "name": "stdout",
     "output_type": "stream",
     "text": [
      "'data.frame':\t663 obs. of  17 variables:\n",
      " $ wage   : int  769 825 650 562 600 1154 1000 930 1318 1792 ...\n",
      " $ hours  : int  40 40 40 40 40 45 40 43 38 40 ...\n",
      " $ IQ     : int  93 108 96 74 91 111 95 132 119 118 ...\n",
      " $ KWW    : int  35 46 32 27 24 37 44 44 24 47 ...\n",
      " $ educ   : int  12 14 12 11 10 15 12 18 16 16 ...\n",
      " $ exper  : int  11 11 13 14 13 13 16 8 7 9 ...\n",
      " $ tenure : int  2 9 7 5 0 1 16 13 2 9 ...\n",
      " $ age    : int  31 33 32 34 30 36 36 38 28 34 ...\n",
      " $ married: int  1 1 1 1 0 1 1 1 1 1 ...\n",
      " $ black  : int  0 0 0 0 0 0 0 0 0 0 ...\n",
      " $ south  : int  0 0 0 0 0 0 0 0 0 0 ...\n",
      " $ urban  : int  1 1 1 1 1 0 1 0 1 1 ...\n",
      " $ sibs   : int  1 1 4 10 1 2 1 1 3 1 ...\n",
      " $ brthord: int  2 2 3 6 2 3 1 1 1 1 ...\n",
      " $ meduc  : int  8 14 12 6 8 14 12 13 10 12 ...\n",
      " $ feduc  : int  8 14 12 11 8 5 11 14 10 12 ...\n",
      " $ lwage  : num  6.65 6.72 6.48 6.33 6.4 ...\n"
     ]
    }
   ],
   "source": [
    "wage2 <- read.csv(\"/Users/tino/Desktop/TA-Econometrics-II/datasets/0521/wage2.csv\")\n",
    "str(wage2)"
   ]
  },
  {
   "cell_type": "markdown",
   "metadata": {},
   "source": [
    "Data description:\n",
    "* lwage: natural log of wage.\n",
    "* educ: years of education.\n",
    "* sibs: number of siblings.\n",
    "* brthord: birth order.\n",
    "* meduc: mother's education.\n",
    "* feduc: father's education."
   ]
  },
  {
   "cell_type": "code",
   "execution_count": 20,
   "metadata": {},
   "outputs": [
    {
     "name": "stdout",
     "output_type": "stream",
     "text": [
      "\n",
      "===============================================\n",
      "                        Dependent variable:    \n",
      "                    ---------------------------\n",
      "                               lwage           \n",
      "-----------------------------------------------\n",
      "educ                         0.057***          \n",
      "                              (0.007)          \n",
      "                                               \n",
      "sibs                          -0.013*          \n",
      "                              (0.007)          \n",
      "                                               \n",
      "Constant                     6.074***          \n",
      "                              (0.102)          \n",
      "                                               \n",
      "-----------------------------------------------\n",
      "Observations                    663            \n",
      "R2                             0.109           \n",
      "Adjusted R2                    0.106           \n",
      "Residual Std. Error      0.390 (df = 660)      \n",
      "F Statistic           40.424*** (df = 2; 660)  \n",
      "===============================================\n",
      "Note:               *p<0.1; **p<0.05; ***p<0.01\n"
     ]
    }
   ],
   "source": [
    "# OLS model\n",
    "ols <- lm(lwage ~ educ + sibs, data = wage2)\n",
    "stargazer(ols, type = \"text\")"
   ]
  },
  {
   "cell_type": "markdown",
   "metadata": {},
   "source": [
    "## First Stage\n",
    "* Endogenous variable: educ\n",
    "* Exogenous variable: sibs\n",
    "* Instrument: brthord"
   ]
  },
  {
   "cell_type": "code",
   "execution_count": 26,
   "metadata": {},
   "outputs": [
    {
     "name": "stdout",
     "output_type": "stream",
     "text": [
      "\n",
      "===============================================\n",
      "                        Dependent variable:    \n",
      "                    ---------------------------\n",
      "                               educ            \n",
      "-----------------------------------------------\n",
      "brthord                      -0.140**          \n",
      "                              (0.070)          \n",
      "                                               \n",
      "sibs                         -0.142***         \n",
      "                              (0.046)          \n",
      "                                               \n",
      "Constant                     14.391***         \n",
      "                              (0.157)          \n",
      "                                               \n",
      "-----------------------------------------------\n",
      "Observations                    663            \n",
      "R2                             0.045           \n",
      "Adjusted R2                    0.042           \n",
      "Residual Std. Error      2.184 (df = 660)      \n",
      "F Statistic           15.436*** (df = 2; 660)  \n",
      "===============================================\n",
      "Note:               *p<0.1; **p<0.05; ***p<0.01\n"
     ]
    },
    {
     "data": {
      "text/html": [
       "<table>\n",
       "<thead><tr><th scope=col>Res.Df</th><th scope=col>RSS</th><th scope=col>Df</th><th scope=col>Sum of Sq</th><th scope=col>F</th><th scope=col>Pr(&gt;F)</th></tr></thead>\n",
       "<tbody>\n",
       "\t<tr><td>661       </td><td>3168.092  </td><td>NA        </td><td>      NA  </td><td>      NA  </td><td>        NA</td></tr>\n",
       "\t<tr><td>660       </td><td>3148.917  </td><td> 1        </td><td>19.17494  </td><td>4.018987  </td><td>0.04539868</td></tr>\n",
       "</tbody>\n",
       "</table>\n"
      ],
      "text/latex": [
       "\\begin{tabular}{r|llllll}\n",
       " Res.Df & RSS & Df & Sum of Sq & F & Pr(>F)\\\\\n",
       "\\hline\n",
       "\t 661        & 3168.092   & NA         &       NA   &       NA   &         NA\\\\\n",
       "\t 660        & 3148.917   &  1         & 19.17494   & 4.018987   & 0.04539868\\\\\n",
       "\\end{tabular}\n"
      ],
      "text/markdown": [
       "\n",
       "| Res.Df | RSS | Df | Sum of Sq | F | Pr(>F) |\n",
       "|---|---|---|---|---|---|\n",
       "| 661        | 3168.092   | NA         |       NA   |       NA   |         NA |\n",
       "| 660        | 3148.917   |  1         | 19.17494   | 4.018987   | 0.04539868 |\n",
       "\n"
      ],
      "text/plain": [
       "  Res.Df RSS      Df Sum of Sq F        Pr(>F)    \n",
       "1 661    3168.092 NA       NA        NA         NA\n",
       "2 660    3148.917  1 19.17494  4.018987 0.04539868"
      ]
     },
     "metadata": {},
     "output_type": "display_data"
    }
   ],
   "source": [
    "fstage <- lm(educ ~ brthord + sibs, data = wage2)\n",
    "stargazer(fstage, type = \"text\")\n",
    "\n",
    "# Checking for weak IV\n",
    "library(car)\n",
    "linearHypothesis(fstage, c(\"brthord = 0\"))"
   ]
  },
  {
   "cell_type": "code",
   "execution_count": 28,
   "metadata": {},
   "outputs": [
    {
     "name": "stdout",
     "output_type": "stream",
     "text": [
      "\n",
      "===============================================\n",
      "                        Dependent variable:    \n",
      "                    ---------------------------\n",
      "                               educ            \n",
      "-----------------------------------------------\n",
      "brthord                       -0.012           \n",
      "                              (0.065)          \n",
      "                                               \n",
      "meduc                        0.121***          \n",
      "                              (0.034)          \n",
      "                                               \n",
      "feduc                        0.215***          \n",
      "                              (0.029)          \n",
      "                                               \n",
      "sibs                         -0.091**          \n",
      "                              (0.043)          \n",
      "                                               \n",
      "Constant                     10.439***         \n",
      "                              (0.393)          \n",
      "                                               \n",
      "-----------------------------------------------\n",
      "Observations                    663            \n",
      "R2                             0.210           \n",
      "Adjusted R2                    0.205           \n",
      "Residual Std. Error      1.989 (df = 658)      \n",
      "F Statistic           43.748*** (df = 4; 658)  \n",
      "===============================================\n",
      "Note:               *p<0.1; **p<0.05; ***p<0.01\n"
     ]
    },
    {
     "data": {
      "text/html": [
       "<table>\n",
       "<thead><tr><th scope=col>Res.Df</th><th scope=col>RSS</th><th scope=col>Df</th><th scope=col>Sum of Sq</th><th scope=col>F</th><th scope=col>Pr(&gt;F)</th></tr></thead>\n",
       "<tbody>\n",
       "\t<tr><td>661         </td><td>3168.092    </td><td>NA          </td><td>     NA     </td><td>      NA    </td><td>          NA</td></tr>\n",
       "\t<tr><td>658         </td><td>2603.755    </td><td> 3          </td><td>564.337     </td><td>47.53823    </td><td>8.126331e-28</td></tr>\n",
       "</tbody>\n",
       "</table>\n"
      ],
      "text/latex": [
       "\\begin{tabular}{r|llllll}\n",
       " Res.Df & RSS & Df & Sum of Sq & F & Pr(>F)\\\\\n",
       "\\hline\n",
       "\t 661          & 3168.092     & NA           &      NA      &       NA     &           NA\\\\\n",
       "\t 658          & 2603.755     &  3           & 564.337      & 47.53823     & 8.126331e-28\\\\\n",
       "\\end{tabular}\n"
      ],
      "text/markdown": [
       "\n",
       "| Res.Df | RSS | Df | Sum of Sq | F | Pr(>F) |\n",
       "|---|---|---|---|---|---|\n",
       "| 661          | 3168.092     | NA           |      NA      |       NA     |           NA |\n",
       "| 658          | 2603.755     |  3           | 564.337      | 47.53823     | 8.126331e-28 |\n",
       "\n"
      ],
      "text/plain": [
       "  Res.Df RSS      Df Sum of Sq F        Pr(>F)      \n",
       "1 661    3168.092 NA      NA         NA           NA\n",
       "2 658    2603.755  3 564.337   47.53823 8.126331e-28"
      ]
     },
     "metadata": {},
     "output_type": "display_data"
    }
   ],
   "source": [
    "fstage_m <- lm(educ ~ brthord + meduc + feduc + sibs, data = wage2)\n",
    "stargazer(fstage_m, type = \"text\")\n",
    "\n",
    "# Checking for weak IV\n",
    "linearHypothesis(fstage_m, c(\"brthord = 0\", \"meduc = 0\", \"feduc = 0\"))"
   ]
  },
  {
   "cell_type": "code",
   "execution_count": 31,
   "metadata": {},
   "outputs": [],
   "source": [
    "# calculate the fitted values for Second Stage\n",
    "wage2$educ_hat <- fitted(fstage)"
   ]
  },
  {
   "cell_type": "code",
   "execution_count": 32,
   "metadata": {},
   "outputs": [
    {
     "data": {
      "text/html": [
       "<table>\n",
       "<thead><tr><th scope=col>wage</th><th scope=col>hours</th><th scope=col>IQ</th><th scope=col>KWW</th><th scope=col>educ</th><th scope=col>exper</th><th scope=col>tenure</th><th scope=col>age</th><th scope=col>married</th><th scope=col>black</th><th scope=col>south</th><th scope=col>urban</th><th scope=col>sibs</th><th scope=col>brthord</th><th scope=col>meduc</th><th scope=col>feduc</th><th scope=col>lwage</th><th scope=col>educ_hat</th></tr></thead>\n",
       "<tbody>\n",
       "\t<tr><td> 769    </td><td>40      </td><td> 93     </td><td>35      </td><td>12      </td><td>11      </td><td>2       </td><td>31      </td><td>1       </td><td>0       </td><td>0       </td><td>1       </td><td> 1      </td><td>2       </td><td> 8      </td><td> 8      </td><td>6.645091</td><td>13.96825</td></tr>\n",
       "\t<tr><td> 825    </td><td>40      </td><td>108     </td><td>46      </td><td>14      </td><td>11      </td><td>9       </td><td>33      </td><td>1       </td><td>0       </td><td>0       </td><td>1       </td><td> 1      </td><td>2       </td><td>14      </td><td>14      </td><td>6.715384</td><td>13.96825</td></tr>\n",
       "\t<tr><td> 650    </td><td>40      </td><td> 96     </td><td>32      </td><td>12      </td><td>13      </td><td>7       </td><td>32      </td><td>1       </td><td>0       </td><td>0       </td><td>1       </td><td> 4      </td><td>3       </td><td>12      </td><td>12      </td><td>6.476973</td><td>13.40056</td></tr>\n",
       "\t<tr><td> 562    </td><td>40      </td><td> 74     </td><td>27      </td><td>11      </td><td>14      </td><td>5       </td><td>34      </td><td>1       </td><td>0       </td><td>0       </td><td>1       </td><td>10      </td><td>6       </td><td> 6      </td><td>11      </td><td>6.331502</td><td>12.12497</td></tr>\n",
       "\t<tr><td> 600    </td><td>40      </td><td> 91     </td><td>24      </td><td>10      </td><td>13      </td><td>0       </td><td>30      </td><td>0       </td><td>0       </td><td>0       </td><td>1       </td><td> 1      </td><td>2       </td><td> 8      </td><td> 8      </td><td>6.396930</td><td>13.96825</td></tr>\n",
       "\t<tr><td>1154    </td><td>45      </td><td>111     </td><td>37      </td><td>15      </td><td>13      </td><td>1       </td><td>36      </td><td>1       </td><td>0       </td><td>0       </td><td>0       </td><td> 2      </td><td>3       </td><td>14      </td><td> 5      </td><td>7.050990</td><td>13.68553</td></tr>\n",
       "</tbody>\n",
       "</table>\n"
      ],
      "text/latex": [
       "\\begin{tabular}{r|llllllllllllllllll}\n",
       " wage & hours & IQ & KWW & educ & exper & tenure & age & married & black & south & urban & sibs & brthord & meduc & feduc & lwage & educ\\_hat\\\\\n",
       "\\hline\n",
       "\t  769     & 40       &  93      & 35       & 12       & 11       & 2        & 31       & 1        & 0        & 0        & 1        &  1       & 2        &  8       &  8       & 6.645091 & 13.96825\\\\\n",
       "\t  825     & 40       & 108      & 46       & 14       & 11       & 9        & 33       & 1        & 0        & 0        & 1        &  1       & 2        & 14       & 14       & 6.715384 & 13.96825\\\\\n",
       "\t  650     & 40       &  96      & 32       & 12       & 13       & 7        & 32       & 1        & 0        & 0        & 1        &  4       & 3        & 12       & 12       & 6.476973 & 13.40056\\\\\n",
       "\t  562     & 40       &  74      & 27       & 11       & 14       & 5        & 34       & 1        & 0        & 0        & 1        & 10       & 6        &  6       & 11       & 6.331502 & 12.12497\\\\\n",
       "\t  600     & 40       &  91      & 24       & 10       & 13       & 0        & 30       & 0        & 0        & 0        & 1        &  1       & 2        &  8       &  8       & 6.396930 & 13.96825\\\\\n",
       "\t 1154     & 45       & 111      & 37       & 15       & 13       & 1        & 36       & 1        & 0        & 0        & 0        &  2       & 3        & 14       &  5       & 7.050990 & 13.68553\\\\\n",
       "\\end{tabular}\n"
      ],
      "text/markdown": [
       "\n",
       "| wage | hours | IQ | KWW | educ | exper | tenure | age | married | black | south | urban | sibs | brthord | meduc | feduc | lwage | educ_hat |\n",
       "|---|---|---|---|---|---|---|---|---|---|---|---|---|---|---|---|---|---|\n",
       "|  769     | 40       |  93      | 35       | 12       | 11       | 2        | 31       | 1        | 0        | 0        | 1        |  1       | 2        |  8       |  8       | 6.645091 | 13.96825 |\n",
       "|  825     | 40       | 108      | 46       | 14       | 11       | 9        | 33       | 1        | 0        | 0        | 1        |  1       | 2        | 14       | 14       | 6.715384 | 13.96825 |\n",
       "|  650     | 40       |  96      | 32       | 12       | 13       | 7        | 32       | 1        | 0        | 0        | 1        |  4       | 3        | 12       | 12       | 6.476973 | 13.40056 |\n",
       "|  562     | 40       |  74      | 27       | 11       | 14       | 5        | 34       | 1        | 0        | 0        | 1        | 10       | 6        |  6       | 11       | 6.331502 | 12.12497 |\n",
       "|  600     | 40       |  91      | 24       | 10       | 13       | 0        | 30       | 0        | 0        | 0        | 1        |  1       | 2        |  8       |  8       | 6.396930 | 13.96825 |\n",
       "| 1154     | 45       | 111      | 37       | 15       | 13       | 1        | 36       | 1        | 0        | 0        | 0        |  2       | 3        | 14       |  5       | 7.050990 | 13.68553 |\n",
       "\n"
      ],
      "text/plain": [
       "  wage hours IQ  KWW educ exper tenure age married black south urban sibs\n",
       "1  769 40     93 35  12   11    2      31  1       0     0     1      1  \n",
       "2  825 40    108 46  14   11    9      33  1       0     0     1      1  \n",
       "3  650 40     96 32  12   13    7      32  1       0     0     1      4  \n",
       "4  562 40     74 27  11   14    5      34  1       0     0     1     10  \n",
       "5  600 40     91 24  10   13    0      30  0       0     0     1      1  \n",
       "6 1154 45    111 37  15   13    1      36  1       0     0     0      2  \n",
       "  brthord meduc feduc lwage    educ_hat\n",
       "1 2        8     8    6.645091 13.96825\n",
       "2 2       14    14    6.715384 13.96825\n",
       "3 3       12    12    6.476973 13.40056\n",
       "4 6        6    11    6.331502 12.12497\n",
       "5 2        8     8    6.396930 13.96825\n",
       "6 3       14     5    7.050990 13.68553"
      ]
     },
     "metadata": {},
     "output_type": "display_data"
    }
   ],
   "source": [
    "head(wage2)"
   ]
  },
  {
   "cell_type": "markdown",
   "metadata": {},
   "source": [
    "## Second Stage\n",
    "* regress lwage on **educ_hat** and sibs"
   ]
  },
  {
   "cell_type": "code",
   "execution_count": 33,
   "metadata": {},
   "outputs": [
    {
     "name": "stdout",
     "output_type": "stream",
     "text": [
      "\n",
      "===============================================\n",
      "                        Dependent variable:    \n",
      "                    ---------------------------\n",
      "                               lwage           \n",
      "-----------------------------------------------\n",
      "educ_hat                      0.220**          \n",
      "                              (0.093)          \n",
      "                                               \n",
      "sibs                           0.019           \n",
      "                              (0.020)          \n",
      "                                               \n",
      "Constant                     3.748***          \n",
      "                              (1.325)          \n",
      "                                               \n",
      "-----------------------------------------------\n",
      "Observations                    663            \n",
      "R2                             0.026           \n",
      "Adjusted R2                    0.023           \n",
      "Residual Std. Error      0.407 (df = 660)      \n",
      "F Statistic           8.891*** (df = 2; 660)   \n",
      "===============================================\n",
      "Note:               *p<0.1; **p<0.05; ***p<0.01\n"
     ]
    }
   ],
   "source": [
    "sstage <- lm(lwage ~ educ_hat + sibs, data = wage2)\n",
    "stargazer(sstage, type = \"text\")"
   ]
  },
  {
   "cell_type": "markdown",
   "metadata": {},
   "source": [
    "## 2SLS command\n",
    "* library(AER)\n",
    "* ivreg(Y ~ X + W | Z + W, data = \"data_name\")"
   ]
  },
  {
   "cell_type": "code",
   "execution_count": 4,
   "metadata": {},
   "outputs": [
    {
     "name": "stdout",
     "output_type": "stream",
     "text": [
      "\n",
      "The downloaded binary packages are in\n",
      "\t/var/folders/xj/2zqx0dxn52d5778tkr7r6rp00000gn/T//RtmpbQq7QK/downloaded_packages\n"
     ]
    },
    {
     "name": "stderr",
     "output_type": "stream",
     "text": [
      "Warning message:\n",
      "“package ‘AER’ was built under R version 3.5.2”Loading required package: car\n",
      "Loading required package: carData\n",
      "Loading required package: lmtest\n",
      "Loading required package: zoo\n",
      "\n",
      "Attaching package: ‘zoo’\n",
      "\n",
      "The following objects are masked from ‘package:base’:\n",
      "\n",
      "    as.Date, as.Date.numeric\n",
      "\n",
      "Loading required package: sandwich\n",
      "Loading required package: survival\n"
     ]
    }
   ],
   "source": [
    "install.packages(\"AER\")\n",
    "library(AER)"
   ]
  },
  {
   "cell_type": "code",
   "execution_count": 14,
   "metadata": {},
   "outputs": [
    {
     "name": "stdout",
     "output_type": "stream",
     "text": [
      "\n",
      "===============================================\n",
      "                        Dependent variable:    \n",
      "                    ---------------------------\n",
      "                               lwage           \n",
      "-----------------------------------------------\n",
      "educ                          0.220*           \n",
      "                              (0.121)          \n",
      "                                               \n",
      "sibs                           0.019           \n",
      "                              (0.025)          \n",
      "                                               \n",
      "Constant                      3.748**          \n",
      "                              (1.721)          \n",
      "                                               \n",
      "-----------------------------------------------\n",
      "Observations                    663            \n",
      "R2                            -0.643           \n",
      "Adjusted R2                   -0.648           \n",
      "Residual Std. Error      0.529 (df = 660)      \n",
      "===============================================\n",
      "Note:               *p<0.1; **p<0.05; ***p<0.01\n"
     ]
    }
   ],
   "source": [
    "tsls <- ivreg(lwage ~ educ + sibs | brthord + sibs, data = wage2)\n",
    "stargazer(tsls, type = \"text\")"
   ]
  },
  {
   "cell_type": "code",
   "execution_count": 29,
   "metadata": {},
   "outputs": [
    {
     "name": "stdout",
     "output_type": "stream",
     "text": [
      "\n",
      "===============================================\n",
      "                        Dependent variable:    \n",
      "                    ---------------------------\n",
      "                               lwage           \n",
      "-----------------------------------------------\n",
      "educ                         0.107***          \n",
      "                              (0.017)          \n",
      "                                               \n",
      "sibs                          -0.004           \n",
      "                              (0.008)          \n",
      "                                               \n",
      "Constant                     5.357***          \n",
      "                              (0.244)          \n",
      "                                               \n",
      "-----------------------------------------------\n",
      "Observations                    663            \n",
      "R2                             0.038           \n",
      "Adjusted R2                    0.035           \n",
      "Residual Std. Error      0.405 (df = 660)      \n",
      "===============================================\n",
      "Note:               *p<0.1; **p<0.05; ***p<0.01\n"
     ]
    }
   ],
   "source": [
    "# overidentified case\n",
    "tsls_overid <- ivreg(lwage ~ educ + sibs | brthord + meduc + feduc + sibs, data = wage2)\n",
    "stargazer(tsls_overid, type = \"text\")"
   ]
  },
  {
   "cell_type": "markdown",
   "metadata": {},
   "source": [
    "## The Overidentifying Restrictions Test\n",
    "* linearHypothesis(overid_test, c(\"brthord = 0\", \"meduc = 0\", \"feduc = 0\"), test = \"Chisq\")"
   ]
  },
  {
   "cell_type": "code",
   "execution_count": 6,
   "metadata": {},
   "outputs": [],
   "source": [
    "tsls_overid <- ivreg(lwage ~ educ + sibs | brthord + meduc + feduc + sibs, data = wage2)\n",
    "wage2$lwage_hat <- fitted(tsls_overid)\n",
    "wage2$u_tsls <- wage2$lwage_hat - wage2$lwage"
   ]
  },
  {
   "cell_type": "code",
   "execution_count": 37,
   "metadata": {},
   "outputs": [
    {
     "data": {
      "text/html": [
       "<table>\n",
       "<thead><tr><th scope=col>wage</th><th scope=col>hours</th><th scope=col>IQ</th><th scope=col>KWW</th><th scope=col>educ</th><th scope=col>exper</th><th scope=col>tenure</th><th scope=col>age</th><th scope=col>married</th><th scope=col>black</th><th scope=col>south</th><th scope=col>urban</th><th scope=col>sibs</th><th scope=col>brthord</th><th scope=col>meduc</th><th scope=col>feduc</th><th scope=col>lwage</th><th scope=col>educ_hat</th><th scope=col>lwage_hat</th><th scope=col>u_tsls</th></tr></thead>\n",
       "<tbody>\n",
       "\t<tr><td> 769        </td><td>40          </td><td> 93         </td><td>35          </td><td>12          </td><td>11          </td><td>2           </td><td>31          </td><td>1           </td><td>0           </td><td>0           </td><td>1           </td><td> 1          </td><td>2           </td><td> 8          </td><td> 8          </td><td>6.645091    </td><td>13.96825    </td><td>6.640658    </td><td>-0.004433041</td></tr>\n",
       "\t<tr><td> 825        </td><td>40          </td><td>108         </td><td>46          </td><td>14          </td><td>11          </td><td>9           </td><td>33          </td><td>1           </td><td>0           </td><td>0           </td><td>1           </td><td> 1          </td><td>2           </td><td>14          </td><td>14          </td><td>6.715384    </td><td>13.96825    </td><td>6.855236    </td><td> 0.139852915</td></tr>\n",
       "\t<tr><td> 650        </td><td>40          </td><td> 96         </td><td>32          </td><td>12          </td><td>13          </td><td>7           </td><td>32          </td><td>1           </td><td>0           </td><td>0           </td><td>1           </td><td> 4          </td><td>3           </td><td>12          </td><td>12          </td><td>6.476973    </td><td>13.40056    </td><td>6.629880    </td><td> 0.152907265</td></tr>\n",
       "\t<tr><td> 562        </td><td>40          </td><td> 74         </td><td>27          </td><td>11          </td><td>14          </td><td>5           </td><td>34          </td><td>1           </td><td>0           </td><td>0           </td><td>1           </td><td>10          </td><td>6           </td><td> 6          </td><td>11          </td><td>6.331502    </td><td>12.12497    </td><td>6.501034    </td><td> 0.169532326</td></tr>\n",
       "\t<tr><td> 600        </td><td>40          </td><td> 91         </td><td>24          </td><td>10          </td><td>13          </td><td>0           </td><td>30          </td><td>0           </td><td>0           </td><td>0           </td><td>1           </td><td> 1          </td><td>2           </td><td> 8          </td><td> 8          </td><td>6.396930    </td><td>13.96825    </td><td>6.426080    </td><td> 0.029149847</td></tr>\n",
       "\t<tr><td>1154        </td><td>45          </td><td>111         </td><td>37          </td><td>15          </td><td>13          </td><td>1           </td><td>36          </td><td>1           </td><td>0           </td><td>0           </td><td>0           </td><td> 2          </td><td>3           </td><td>14          </td><td> 5          </td><td>7.050990    </td><td>13.68553    </td><td>6.958933    </td><td>-0.092056693</td></tr>\n",
       "</tbody>\n",
       "</table>\n"
      ],
      "text/latex": [
       "\\begin{tabular}{r|llllllllllllllllllll}\n",
       " wage & hours & IQ & KWW & educ & exper & tenure & age & married & black & south & urban & sibs & brthord & meduc & feduc & lwage & educ\\_hat & lwage\\_hat & u\\_tsls\\\\\n",
       "\\hline\n",
       "\t  769         & 40           &  93          & 35           & 12           & 11           & 2            & 31           & 1            & 0            & 0            & 1            &  1           & 2            &  8           &  8           & 6.645091     & 13.96825     & 6.640658     & -0.004433041\\\\\n",
       "\t  825         & 40           & 108          & 46           & 14           & 11           & 9            & 33           & 1            & 0            & 0            & 1            &  1           & 2            & 14           & 14           & 6.715384     & 13.96825     & 6.855236     &  0.139852915\\\\\n",
       "\t  650         & 40           &  96          & 32           & 12           & 13           & 7            & 32           & 1            & 0            & 0            & 1            &  4           & 3            & 12           & 12           & 6.476973     & 13.40056     & 6.629880     &  0.152907265\\\\\n",
       "\t  562         & 40           &  74          & 27           & 11           & 14           & 5            & 34           & 1            & 0            & 0            & 1            & 10           & 6            &  6           & 11           & 6.331502     & 12.12497     & 6.501034     &  0.169532326\\\\\n",
       "\t  600         & 40           &  91          & 24           & 10           & 13           & 0            & 30           & 0            & 0            & 0            & 1            &  1           & 2            &  8           &  8           & 6.396930     & 13.96825     & 6.426080     &  0.029149847\\\\\n",
       "\t 1154         & 45           & 111          & 37           & 15           & 13           & 1            & 36           & 1            & 0            & 0            & 0            &  2           & 3            & 14           &  5           & 7.050990     & 13.68553     & 6.958933     & -0.092056693\\\\\n",
       "\\end{tabular}\n"
      ],
      "text/markdown": [
       "\n",
       "| wage | hours | IQ | KWW | educ | exper | tenure | age | married | black | south | urban | sibs | brthord | meduc | feduc | lwage | educ_hat | lwage_hat | u_tsls |\n",
       "|---|---|---|---|---|---|---|---|---|---|---|---|---|---|---|---|---|---|---|---|\n",
       "|  769         | 40           |  93          | 35           | 12           | 11           | 2            | 31           | 1            | 0            | 0            | 1            |  1           | 2            |  8           |  8           | 6.645091     | 13.96825     | 6.640658     | -0.004433041 |\n",
       "|  825         | 40           | 108          | 46           | 14           | 11           | 9            | 33           | 1            | 0            | 0            | 1            |  1           | 2            | 14           | 14           | 6.715384     | 13.96825     | 6.855236     |  0.139852915 |\n",
       "|  650         | 40           |  96          | 32           | 12           | 13           | 7            | 32           | 1            | 0            | 0            | 1            |  4           | 3            | 12           | 12           | 6.476973     | 13.40056     | 6.629880     |  0.152907265 |\n",
       "|  562         | 40           |  74          | 27           | 11           | 14           | 5            | 34           | 1            | 0            | 0            | 1            | 10           | 6            |  6           | 11           | 6.331502     | 12.12497     | 6.501034     |  0.169532326 |\n",
       "|  600         | 40           |  91          | 24           | 10           | 13           | 0            | 30           | 0            | 0            | 0            | 1            |  1           | 2            |  8           |  8           | 6.396930     | 13.96825     | 6.426080     |  0.029149847 |\n",
       "| 1154         | 45           | 111          | 37           | 15           | 13           | 1            | 36           | 1            | 0            | 0            | 0            |  2           | 3            | 14           |  5           | 7.050990     | 13.68553     | 6.958933     | -0.092056693 |\n",
       "\n"
      ],
      "text/plain": [
       "  wage hours IQ  KWW educ exper tenure age married black south urban sibs\n",
       "1  769 40     93 35  12   11    2      31  1       0     0     1      1  \n",
       "2  825 40    108 46  14   11    9      33  1       0     0     1      1  \n",
       "3  650 40     96 32  12   13    7      32  1       0     0     1      4  \n",
       "4  562 40     74 27  11   14    5      34  1       0     0     1     10  \n",
       "5  600 40     91 24  10   13    0      30  0       0     0     1      1  \n",
       "6 1154 45    111 37  15   13    1      36  1       0     0     0      2  \n",
       "  brthord meduc feduc lwage    educ_hat lwage_hat u_tsls      \n",
       "1 2        8     8    6.645091 13.96825 6.640658  -0.004433041\n",
       "2 2       14    14    6.715384 13.96825 6.855236   0.139852915\n",
       "3 3       12    12    6.476973 13.40056 6.629880   0.152907265\n",
       "4 6        6    11    6.331502 12.12497 6.501034   0.169532326\n",
       "5 2        8     8    6.396930 13.96825 6.426080   0.029149847\n",
       "6 3       14     5    7.050990 13.68553 6.958933  -0.092056693"
      ]
     },
     "metadata": {},
     "output_type": "display_data"
    }
   ],
   "source": [
    "head(wage2)"
   ]
  },
  {
   "cell_type": "code",
   "execution_count": 7,
   "metadata": {},
   "outputs": [
    {
     "data": {
      "text/html": [
       "<table>\n",
       "<thead><tr><th scope=col>Res.Df</th><th scope=col>RSS</th><th scope=col>Df</th><th scope=col>Sum of Sq</th><th scope=col>Chisq</th><th scope=col>Pr(&gt;Chisq)</th></tr></thead>\n",
       "<tbody>\n",
       "\t<tr><td>661      </td><td>108.2544 </td><td>NA       </td><td>       NA</td><td>      NA </td><td>       NA</td></tr>\n",
       "\t<tr><td>658      </td><td>107.8395 </td><td> 3       </td><td>0.4149235</td><td>2.531723 </td><td>0.4695853</td></tr>\n",
       "</tbody>\n",
       "</table>\n"
      ],
      "text/latex": [
       "\\begin{tabular}{r|llllll}\n",
       " Res.Df & RSS & Df & Sum of Sq & Chisq & Pr(>Chisq)\\\\\n",
       "\\hline\n",
       "\t 661       & 108.2544  & NA        &        NA &       NA  &        NA\\\\\n",
       "\t 658       & 107.8395  &  3        & 0.4149235 & 2.531723  & 0.4695853\\\\\n",
       "\\end{tabular}\n"
      ],
      "text/markdown": [
       "\n",
       "| Res.Df | RSS | Df | Sum of Sq | Chisq | Pr(>Chisq) |\n",
       "|---|---|---|---|---|---|\n",
       "| 661       | 108.2544  | NA        |        NA |       NA  |        NA |\n",
       "| 658       | 107.8395  |  3        | 0.4149235 | 2.531723  | 0.4695853 |\n",
       "\n"
      ],
      "text/plain": [
       "  Res.Df RSS      Df Sum of Sq Chisq    Pr(>Chisq)\n",
       "1 661    108.2544 NA        NA       NA        NA \n",
       "2 658    107.8395  3 0.4149235 2.531723 0.4695853 "
      ]
     },
     "metadata": {},
     "output_type": "display_data"
    }
   ],
   "source": [
    "overid_test <- lm(u_tsls ~ brthord + meduc + feduc + sibs, data = wage2)\n",
    "linearHypothesis(overid_test, c(\"brthord = 0\", \"meduc = 0\", \"feduc = 0\"), test = \"Chisq\")\n",
    "\n",
    "# J-statistic = 2.53"
   ]
  }
 ],
 "metadata": {
  "kernelspec": {
   "display_name": "R",
   "language": "R",
   "name": "ir"
  },
  "language_info": {
   "codemirror_mode": "r",
   "file_extension": ".r",
   "mimetype": "text/x-r-source",
   "name": "R",
   "pygments_lexer": "r",
   "version": "3.5.0"
  }
 },
 "nbformat": 4,
 "nbformat_minor": 2
}
