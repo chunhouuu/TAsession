{
 "cells": [
  {
   "cell_type": "markdown",
   "metadata": {},
   "source": [
    "Data Visualization\n",
    "===\n",
    "---\n",
    "1. Problem Set 2: Hypothesis testing\n",
    "2. AEA chart of the week - March 19, 2019: Replication \n",
    "---"
   ]
  },
  {
   "cell_type": "code",
   "execution_count": 2,
   "metadata": {},
   "outputs": [
    {
     "name": "stdout",
     "output_type": "stream",
     "text": [
      "\n",
      "/Users/tino/Desktop/TA-Econometrics-II/notebooks_Stata\n",
      "\n",
      "(6 vars, 101 obs)\n",
      "\n",
      "\n",
      "Contains data\n",
      "  obs:           101                          \n",
      " vars:             6                          \n",
      " size:         1,414                          \n",
      "---------------------------------------------------------------------------------------------------------------------------------------------------------------------------------------------------------------------------------------------------------------\n",
      "              storage   display    value\n",
      "variable name   type    format     label      variable label\n",
      "---------------------------------------------------------------------------------------------------------------------------------------------------------------------------------------------------------------------------------------------------------------\n",
      "id              int     %8.0g                 \n",
      "price           float   %9.0g                 \n",
      "bdrms           byte    %8.0g                 \n",
      "lotsize         long    %12.0g                \n",
      "sqrft           int     %8.0g                 \n",
      "colonial        byte    %8.0g                 \n",
      "---------------------------------------------------------------------------------------------------------------------------------------------------------------------------------------------------------------------------------------------------------------\n",
      "Sorted by: \n",
      "     Note: Dataset has changed since last saved.\n"
     ]
    }
   ],
   "source": [
    "cd \"/Users/tino/Desktop/TA-Econometrics-II/notebooks_Stata\"\n",
    "insheet using \"hprice.csv\", clear\n",
    "describe"
   ]
  },
  {
   "cell_type": "markdown",
   "metadata": {},
   "source": [
    "---\n",
    "## 1. Hypothesis testing\n",
    "* reg , robust\n",
    "* test beta = 0\n",
    "* test beta_1 - beta_2 = 0"
   ]
  },
  {
   "cell_type": "code",
   "execution_count": 9,
   "metadata": {},
   "outputs": [
    {
     "name": "stdout",
     "output_type": "stream",
     "text": [
      "\n",
      "Linear regression                               Number of obs     =        101\n",
      "                                                F(4, 96)          =      19.34\n",
      "                                                Prob > F          =     0.0000\n",
      "                                                R-squared         =     0.6725\n",
      "                                                Root MSE          =     57.105\n",
      "\n",
      "------------------------------------------------------------------------------\n",
      "             |               Robust\n",
      "       price |      Coef.   Std. Err.      t    P>|t|     [95% Conf. Interval]\n",
      "-------------+----------------------------------------------------------------\n",
      "       bdrms |   11.37493    8.59185     1.32   0.189    -5.679753    28.42962\n",
      "     lotsize |   .0021426   .0013185     1.62   0.107    -.0004747    .0047599\n",
      "       sqrft |   .1231859   .0170893     7.21   0.000     .0892638    .1571079\n",
      "    colonial |   11.00161    14.7671     0.75   0.458    -18.31085    40.31407\n",
      "       _cons |   -22.4824   35.86855    -0.63   0.532    -93.68092    48.71612\n",
      "------------------------------------------------------------------------------\n"
     ]
    }
   ],
   "source": [
    "reg price bdrms lotsize sqrft colonial, robust"
   ]
  },
  {
   "cell_type": "code",
   "execution_count": 15,
   "metadata": {},
   "outputs": [
    {
     "name": "stdout",
     "output_type": "stream",
     "text": [
      "\n",
      " ( 1)  bdrms = 0\n",
      "\n",
      "       F(  1,    96) =    1.75\n",
      "            Prob > F =    0.1887\n"
     ]
    }
   ],
   "source": [
    "test bdrms = 0"
   ]
  },
  {
   "cell_type": "code",
   "execution_count": 5,
   "metadata": {},
   "outputs": [
    {
     "name": "stdout",
     "output_type": "stream",
     "text": [
      "\n",
      " ( 1)  lotsize = 0\n",
      "\n",
      "       F(  1,    96) =    2.64\n",
      "            Prob > F =    0.1075\n"
     ]
    }
   ],
   "source": [
    "test lotsize = 0"
   ]
  },
  {
   "cell_type": "code",
   "execution_count": 17,
   "metadata": {},
   "outputs": [
    {
     "name": "stdout",
     "output_type": "stream",
     "text": [
      "\n",
      " ( 1)  bdrms - colonial = 0\n",
      "\n",
      "       F(  1,    96) =    0.00\n",
      "            Prob > F =    0.9849\n"
     ]
    }
   ],
   "source": [
    "test bdrms - colonial = 0"
   ]
  },
  {
   "cell_type": "markdown",
   "metadata": {},
   "source": [
    "---\n",
    "## 2. AEA chart of the week - March 19, 2019\n",
    "* The following Stata code is provided by author.\n",
    "* You can access the dataset and do.file in [HERE](https://www.aeaweb.org/articles?id=10.1257/aer.20180044)."
   ]
  },
  {
   "cell_type": "code",
   "execution_count": null,
   "metadata": {},
   "outputs": [],
   "source": [
    "// Demand curve for discrimination: Figure 7\n",
    "use dataDiscriminationExperiment.dta, clear\n",
    "collapse (mean) mean_Discriminated = Discriminated (sd) sd_Discriminated = Discriminated (count) n=Discriminated, by(treatedClassroom Prize)\n",
    "generate hi_Discriminated = mean_Discriminated + invttail(n-1,0.025)*(sd_Discriminated / sqrt(n))\n",
    "generate lo_Discriminated = mean_Discriminated - invttail(n-1,0.025)*(sd_Discriminated / sqrt(n))\n",
    "twoway (connected mean_Discriminated Prize if treatedClassroom==0, mcolor(green) clcolor(green) m(X) clpattern(solid) ) ///\n",
    "       (rcap hi_Discriminated lo_Discriminated Prize if treatedClassroom==0, lcolor(green))  ///\n",
    "\t   (connected mean_Discriminated Prize if treatedClassroom==1, mcolor(maroon) clcolor(maroon) m(D) clpattern(dash)) ///\n",
    "\t   (rcap hi_Discriminated lo_Discriminated Prize if treatedClassroom==1, lcolor(maroon)) , ///\n",
    "\t   graphregion(fcolor(white)) plotregion(fcolor(white)) ///\n",
    "\t   title(\"Poor Classmates & Incentives Reduce Discrimination\" ) note(Note: 95% confidence intervals around mean.) ///\n",
    "\t   ylabel(0(.10).50) ytitle(\"Share Discriminating Against Poor\", margin(right))  ///\n",
    "\t   xscale(range(0 550))  xlabel(50 200 500) xtitle(\"Prize for Winning the Relay Race\", margin(top)) ///\n",
    "\t   legend(order(1 \"Untreated Classrooms\" 3 \"Treated Classrooms\" ))  \n",
    "graph export \"$figures_dir/Figure_7.eps\" , replace\t   \n",
    "graph export \"$figures_dir/Figure_7.pdf\" , replace"
   ]
  }
 ],
 "metadata": {
  "kernelspec": {
   "display_name": "Stata",
   "language": "stata",
   "name": "stata"
  },
  "language_info": {
   "codemirror_mode": "stata",
   "file_extension": ".do",
   "mimetype": "text/x-stata",
   "name": "stata",
   "version": "15.1"
  }
 },
 "nbformat": 4,
 "nbformat_minor": 2
}
