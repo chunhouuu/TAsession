{
 "cells": [
  {
   "cell_type": "markdown",
   "metadata": {},
   "source": [
    "Regression with Panel Data\n",
    "===\n",
    "---\n",
    "* First-Differend Estimator\n",
    "* Reshape Data \n",
    "* Fixed Effects Regression\n",
    "* Standard Errors for Fixed Effects Regression\n",
    "---"
   ]
  },
  {
   "cell_type": "code",
   "execution_count": 1,
   "metadata": {
    "scrolled": true
   },
   "outputs": [
    {
     "name": "stdout",
     "output_type": "stream",
     "text": [
      "\n",
      "(5 vars, 51 obs)\n",
      "\n",
      "\n",
      "    Variable |        Obs        Mean    Std. Dev.       Min        Max\n",
      "-------------+---------------------------------------------------------\n",
      "       state |          0\n",
      "      open90 |         51    .4313725     .500196          0          1\n",
      "      open85 |         51     .372549    .4882944          0          1\n",
      "    dthrte90 |         51    2.154902    .5150976        1.3        3.6\n",
      "    dthrte85 |         51         2.7    .6033241        1.9        4.4\n"
     ]
    }
   ],
   "source": [
    "insheet using \"/Users/tino/Desktop/TA-Econometrics-II/datasets/0507/traffic1.csv\", clear\n",
    "sum"
   ]
  },
  {
   "cell_type": "code",
   "execution_count": 3,
   "metadata": {},
   "outputs": [
    {
     "name": "stdout",
     "output_type": "stream",
     "text": [
      "\n",
      "Contains data\n",
      "  obs:            51                          \n",
      " vars:             5                          \n",
      " size:           612                          \n",
      "---------------------------------------------------------------------------------------------------------------------------------------------------------------------------------------------------------------------------------------------------------------\n",
      "              storage   display    value\n",
      "variable name   type    format     label      variable label\n",
      "---------------------------------------------------------------------------------------------------------------------------------------------------------------------------------------------------------------------------------------------------------------\n",
      "state           str2    %9s                   \n",
      "open90          byte    %8.0g                 \n",
      "open85          byte    %8.0g                 \n",
      "dthrte90        float   %9.0g                 \n",
      "dthrte85        float   %9.0g                 \n",
      "---------------------------------------------------------------------------------------------------------------------------------------------------------------------------------------------------------------------------------------------------------------\n",
      "Sorted by: \n",
      "     Note: Dataset has changed since last saved.\n"
     ]
    }
   ],
   "source": [
    "describe // notice that the \"storage type\" of state is \"string\""
   ]
  },
  {
   "cell_type": "code",
   "execution_count": 6,
   "metadata": {},
   "outputs": [
    {
     "name": "stdout",
     "output_type": "stream",
     "text": [
      "\n",
      "     +-----------------------------------------------+\n",
      "     | state   open90   open85   dthrte90   dthrte85 |\n",
      "     |-----------------------------------------------|\n",
      "  1. |    AL        0        0        2.6        2.9 |\n",
      "  2. |    AK        1        0        2.1        3.2 |\n",
      "  3. |    AZ        0        0        2.5        4.4 |\n",
      "  4. |    AR        0        0        2.9        3.4 |\n",
      "  5. |    CA        1        1          2        2.6 |\n",
      "     |-----------------------------------------------|\n",
      "  6. |    CO        0        0        1.9        2.4 |\n",
      "  7. |    CT        0        0        1.5          2 |\n",
      "  8. |    DE        0        0        2.2        2.2 |\n",
      "  9. |    DC        0        0        1.6          3 |\n",
      " 10. |    FL        1        0        2.7        3.4 |\n",
      "     |-----------------------------------------------|\n",
      " 11. |    GA        0        0          2        2.7 |\n",
      " 12. |    HI        1        1        2.3          2 |\n",
      " 13. |    ID        1        1        2.9        3.5 |\n",
      " 14. |    IL        1        1        1.9        2.3 |\n",
      " 15. |    IN        0        0        1.8        2.6 |\n",
      "     |-----------------------------------------------|\n",
      " 16. |    IA        1        1        2.1        2.4 |\n",
      " 17. |    KS        1        1        2.1        2.6 |\n",
      " 18. |    KY        0        0        2.6        2.6 |\n",
      " 19. |    LA        0        0        2.5          3 |\n",
      " 20. |    ME        0        0        1.8        2.4 |\n",
      "     |-----------------------------------------------|\n",
      " 21. |    MD        1        1        1.9        2.3 |\n",
      " 22. |    MA        0        0        1.3        1.9 |\n",
      " 23. |    MI        1        1        1.9        2.4 |\n",
      " 24. |    MN        1        1        1.5          2 |\n",
      " 25. |    MS        0        0        3.2        3.6 |\n",
      "     |-----------------------------------------------|\n",
      " 26. |    MO        0        0        2.3        2.6 |\n",
      " 27. |    MT        1        1        2.5        3.1 |\n",
      " 28. |    NE        0        0        1.9        2.1 |\n",
      " 29. |    NV        0        0        3.6        3.9 |\n",
      " 30. |    NH        0        0        1.6        2.6 |\n",
      "     |-----------------------------------------------|\n",
      " 31. |    NJ        0        0        1.5        1.9 |\n",
      " 32. |    NM        1        0        3.1        4.2 |\n",
      " 33. |    NY        0        0          2        2.3 |\n",
      " 34. |    NC        1        1        2.3        3.1 |\n",
      " 35. |    ND        1        1        1.9        2.2 |\n",
      "     |-----------------------------------------------|\n",
      " 36. |    OH        0        0        1.8        2.1 |\n",
      " 37. |    OK        1        1          2        2.5 |\n",
      " 38. |    OR        1        1        2.2        2.8 |\n",
      " 39. |    PA        0        0        1.9        2.4 |\n",
      " 40. |    RI        0        0        1.3        2.1 |\n",
      "     |-----------------------------------------------|\n",
      " 41. |    SC        1        1        2.9        3.5 |\n",
      " 42. |    SD        1        1        2.3        2.3 |\n",
      " 43. |    TN        0        0        2.6        3.4 |\n",
      " 44. |    TX        0        0          2        2.7 |\n",
      " 45. |    UT        1        1          2        2.8 |\n",
      "     |-----------------------------------------------|\n",
      " 46. |    VT        0        0        1.5        2.5 |\n",
      " 47. |    VA        0        0        1.8        2.1 |\n",
      " 48. |    WA        1        1        1.9        2.3 |\n",
      " 49. |    WV        0        0        3.2        3.6 |\n",
      " 50. |    WI        1        1        1.8        2.1 |\n",
      "     |-----------------------------------------------|\n",
      " 51. |    WY        0        0        2.2        2.7 |\n",
      "     +-----------------------------------------------+\n"
     ]
    }
   ],
   "source": [
    "list // wide format"
   ]
  },
  {
   "cell_type": "markdown",
   "metadata": {},
   "source": [
    "---\n",
    "## 1. First-Differenced Estimator\n",
    "* gen the \"comparison variables\"\n",
    "* regress with comparison variables (without intercept)"
   ]
  },
  {
   "cell_type": "code",
   "execution_count": 7,
   "metadata": {},
   "outputs": [],
   "source": [
    "gen copen = open90 - open85 // comparison of O.C. laws in 1990 with in 1985\n",
    "gen cdthrte = dthrte90 - dthrte85 // comparison of death rate in 1990 with in 1985"
   ]
  },
  {
   "cell_type": "code",
   "execution_count": 8,
   "metadata": {},
   "outputs": [
    {
     "name": "stdout",
     "output_type": "stream",
     "text": [
      "\n",
      "     +-------------------------------------------------------------------+\n",
      "     | state   open90   open85   dthrte90   dthrte85   copen     cdthrte |\n",
      "     |-------------------------------------------------------------------|\n",
      "  1. |    AL        0        0        2.6        2.9       0   -.3000002 |\n",
      "  2. |    AK        1        0        2.1        3.2       1        -1.1 |\n",
      "  3. |    AZ        0        0        2.5        4.4       0        -1.9 |\n",
      "  4. |    AR        0        0        2.9        3.4       0         -.5 |\n",
      "  5. |    CA        1        1          2        2.6       0   -.5999999 |\n",
      "     |-------------------------------------------------------------------|\n",
      "  6. |    CO        0        0        1.9        2.4       0   -.5000001 |\n",
      "  7. |    CT        0        0        1.5          2       0         -.5 |\n",
      "  8. |    DE        0        0        2.2        2.2       0           0 |\n",
      "  9. |    DC        0        0        1.6          3       0        -1.4 |\n",
      " 10. |    FL        1        0        2.7        3.4       1         -.7 |\n",
      "     +-------------------------------------------------------------------+\n"
     ]
    }
   ],
   "source": [
    "list in 1/10"
   ]
  },
  {
   "cell_type": "code",
   "execution_count": 9,
   "metadata": {},
   "outputs": [
    {
     "name": "stdout",
     "output_type": "stream",
     "text": [
      "\n",
      "      Source |       SS           df       MS      Number of obs   =        51\n",
      "-------------+----------------------------------   F(1, 50)        =      7.46\n",
      "       Model |  2.80333352         1  2.80333352   Prob > F        =    0.0087\n",
      "    Residual |  18.7766667        50  .375533334   R-squared       =    0.1299\n",
      "-------------+----------------------------------   Adj R-squared   =    0.1125\n",
      "       Total |  21.5800002        51  .423137259   Root MSE        =    .61281\n",
      "\n",
      "------------------------------------------------------------------------------\n",
      "     cdthrte |      Coef.   Std. Err.      t    P>|t|     [95% Conf. Interval]\n",
      "-------------+----------------------------------------------------------------\n",
      "       copen |  -.9666667   .3538047    -2.73   0.009    -1.677304    -.256029\n",
      "------------------------------------------------------------------------------\n"
     ]
    }
   ],
   "source": [
    "reg cdthrte copen, nocon \n",
    "// regression with no intercept --> reg y x, nocon\n",
    "// nocon = noconstant\n",
    "// FD estimator: coefficient = -0.97"
   ]
  },
  {
   "cell_type": "markdown",
   "metadata": {},
   "source": [
    "---\n",
    "## 2. Reshape Data\n",
    "* wide format --> long format\n",
    "* long format: panel regression"
   ]
  },
  {
   "cell_type": "code",
   "execution_count": 11,
   "metadata": {},
   "outputs": [
    {
     "name": "stdout",
     "output_type": "stream",
     "text": [
      "(note: j = 85 90)\n",
      "\n",
      "Data                               wide   ->   long\n",
      "-----------------------------------------------------------------------------\n",
      "Number of obs.                       51   ->     102\n",
      "Number of variables                   7   ->       6\n",
      "j variable (2 values)                     ->   year\n",
      "xij variables:\n",
      "                          open85 open90   ->   open\n",
      "                      dthrte85 dthrte90   ->   dthrte\n",
      "-----------------------------------------------------------------------------\n"
     ]
    }
   ],
   "source": [
    "reshape long open dthrte, i(state) j(year) // --> reshape data from wide to long format\n",
    "// reshape wide open dthrte, i(state) j(year) --> reshape data from long to wide format"
   ]
  },
  {
   "cell_type": "code",
   "execution_count": 13,
   "metadata": {},
   "outputs": [
    {
     "name": "stdout",
     "output_type": "stream",
     "text": [
      "\n",
      "     +--------------------------------------------------+\n",
      "     | state   year   open   dthrte   copen     cdthrte |\n",
      "     |--------------------------------------------------|\n",
      "  1. |    AK     85      0      3.2       1        -1.1 |\n",
      "  2. |    AK     90      1      2.1       1        -1.1 |\n",
      "  3. |    AL     85      0      2.9       0   -.3000002 |\n",
      "  4. |    AL     90      0      2.6       0   -.3000002 |\n",
      "  5. |    AR     85      0      3.4       0         -.5 |\n",
      "     |--------------------------------------------------|\n",
      "  6. |    AR     90      0      2.9       0         -.5 |\n",
      "  7. |    AZ     85      0      4.4       0        -1.9 |\n",
      "  8. |    AZ     90      0      2.5       0        -1.9 |\n",
      "  9. |    CA     85      1      2.6       0   -.5999999 |\n",
      " 10. |    CA     90      1        2       0   -.5999999 |\n",
      "     +--------------------------------------------------+\n"
     ]
    }
   ],
   "source": [
    "list in 1/10 // long format"
   ]
  },
  {
   "cell_type": "markdown",
   "metadata": {},
   "source": [
    "---\n",
    "## 3. Fixed Effects Regression\n",
    "* Fixed Effects without binary varibles\n",
    "    * encode x, gen(x_no)\n",
    "    * xtset x t\n",
    "    * xtreg y x, fe\n",
    "* Fixed Effects with binary varibles\n",
    "    * reg "
   ]
  },
  {
   "cell_type": "markdown",
   "metadata": {},
   "source": [
    "### Fixed Effects without Binary Varibles"
   ]
  },
  {
   "cell_type": "code",
   "execution_count": 14,
   "metadata": {},
   "outputs": [],
   "source": [
    "encode state, gen(state_no)"
   ]
  },
  {
   "cell_type": "code",
   "execution_count": 20,
   "metadata": {},
   "outputs": [
    {
     "name": "stdout",
     "output_type": "stream",
     "text": [
      "\n",
      "     +-------------------------------------------------------------+\n",
      "     | state   year   open   dthrte   copen     cdthrte   state_no |\n",
      "     |-------------------------------------------------------------|\n",
      "  1. |    AK     85      0      3.2       1        -1.1         AK |\n",
      "  2. |    AK     90      1      2.1       1        -1.1         AK |\n",
      "  3. |    AL     85      0      2.9       0   -.3000002         AL |\n",
      "  4. |    AL     90      0      2.6       0   -.3000002         AL |\n",
      "  5. |    AR     85      0      3.4       0         -.5         AR |\n",
      "     +-------------------------------------------------------------+\n"
     ]
    }
   ],
   "source": [
    "list in 1/5"
   ]
  },
  {
   "cell_type": "code",
   "execution_count": 16,
   "metadata": {},
   "outputs": [
    {
     "name": "stdout",
     "output_type": "stream",
     "text": [
      "       panel variable:  state_no (strongly balanced)\n",
      "        time variable:  year, 85 to 90, but with gaps\n",
      "                delta:  1 unit\n"
     ]
    }
   ],
   "source": [
    "xtset state_no year"
   ]
  },
  {
   "cell_type": "code",
   "execution_count": 18,
   "metadata": {},
   "outputs": [
    {
     "name": "stdout",
     "output_type": "stream",
     "text": [
      "\n",
      "Fixed-effects (within) regression               Number of obs     =        102\n",
      "Group variable: state_no                        Number of groups  =         51\n",
      "\n",
      "R-sq:                                           Obs per group:\n",
      "     within  = 0.1299                                         min =          2\n",
      "     between = 0.0015                                         avg =        2.0\n",
      "     overall = 0.0061                                         max =          2\n",
      "\n",
      "                                                F(1,50)           =       7.46\n",
      "corr(u_i, Xb)  = -0.6210                        Prob > F          =     0.0087\n",
      "\n",
      "------------------------------------------------------------------------------\n",
      "      dthrte |      Coef.   Std. Err.      t    P>|t|     [95% Conf. Interval]\n",
      "-------------+----------------------------------------------------------------\n",
      "        open |  -.9666667   .3538047    -2.73   0.009    -1.677304    -.256029\n",
      "       _cons |   2.816013   .1485467    18.96   0.000     2.517648    3.114378\n",
      "-------------+----------------------------------------------------------------\n",
      "     sigma_u |   .6919374\n",
      "     sigma_e |  .43332051\n",
      "         rho |  .71829818   (fraction of variance due to u_i)\n",
      "------------------------------------------------------------------------------\n",
      "F test that all u_i=0: F(50, 50) = 3.13                      Prob > F = 0.0000\n"
     ]
    }
   ],
   "source": [
    "xtreg dthrte open, fe\n",
    "// Fixed Effects Regression (without binary variables): coefficient = -0.97"
   ]
  },
  {
   "cell_type": "markdown",
   "metadata": {},
   "source": [
    "### Fixed Effects with Binary Variables"
   ]
  },
  {
   "cell_type": "code",
   "execution_count": 23,
   "metadata": {},
   "outputs": [
    {
     "name": "stdout",
     "output_type": "stream",
     "text": [
      "\n",
      "      Source |       SS           df       MS      Number of obs   =       102\n",
      "-------------+----------------------------------   F(51, 50)       =      3.10\n",
      "       Model |  29.6548049        51  .581466762   Prob > F        =    0.0001\n",
      "    Residual |  9.38833336        50  .187766667   R-squared       =    0.7595\n",
      "-------------+----------------------------------   Adj R-squared   =    0.5143\n",
      "       Total |  39.0431382       101  .386565725   Root MSE        =    .43332\n",
      "\n",
      "------------------------------------------------------------------------------\n",
      "      dthrte |      Coef.   Std. Err.      t    P>|t|     [95% Conf. Interval]\n",
      "-------------+----------------------------------------------------------------\n",
      "        open |  -.9666667   .3538047    -2.73   0.009    -1.677304    -.256029\n",
      "             |\n",
      "    state_no |\n",
      "         AL  |  -.3833333   .4680396    -0.82   0.417    -1.323419     .556752\n",
      "         AR  |   .0166668   .4680396     0.04   0.972    -.9234185    .9567521\n",
      "         AZ  |   .3166667   .4680396     0.68   0.502    -.6234186    1.256752\n",
      "         CA  |   .1333333   .4680396     0.28   0.777     -.806752    1.073419\n",
      "         CO  |  -.9833333   .4680396    -2.10   0.041    -1.923419    -.043248\n",
      "         CT  |  -1.383333   .4680396    -2.96   0.005    -2.323419    -.443248\n",
      "         DC  |  -.8333333   .4680396    -1.78   0.081    -1.773419     .106752\n",
      "         DE  |  -.9333333   .4680396    -1.99   0.052    -1.873419     .006752\n",
      "         FL  |   .4000001   .4333205     0.92   0.360    -.4703498     1.27035\n",
      "         GA  |  -.7833333   .4680396    -1.67   0.100    -1.723419     .156752\n",
      "         HI  |  -.0166667   .4680396    -0.04   0.972    -.9567519    .9234186\n",
      "         IA  |   .0833334   .4680396     0.18   0.859    -.8567519    1.023419\n",
      "         ID  |   1.033333   .4680396     2.21   0.032     .0932481    1.973419\n",
      "         IL  |  -.0666667   .4680396    -0.14   0.887    -1.006752    .8734186\n",
      "         IN  |  -.9333334   .4680396    -1.99   0.052    -1.873419    .0067519\n",
      "         KS  |   .1833333   .4680396     0.39   0.697     -.756752    1.123419\n",
      "         KY  |  -.5333334   .4680396    -1.14   0.260    -1.473419    .4067519\n",
      "         LA  |  -.3833333   .4680396    -0.82   0.417    -1.323419     .556752\n",
      "         MA  |  -1.533333   .4680396    -3.28   0.002    -2.473419   -.5932481\n",
      "         MD  |  -.0666667   .4680396    -0.14   0.887    -1.006752    .8734186\n",
      "         ME  |  -1.033333   .4680396    -2.21   0.032    -1.973419    -.093248\n",
      "         MI  |  -.0166666   .4680396    -0.04   0.972    -.9567519    .9234187\n",
      "         MN  |  -.4166666   .4680396    -0.89   0.378    -1.356752    .5234187\n",
      "         MO  |  -.6833334   .4680396    -1.46   0.151    -1.623419    .2567519\n",
      "         MS  |   .2666667   .4680396     0.57   0.571    -.6734186    1.206752\n",
      "         MT  |   .6333333   .4680396     1.35   0.182     -.306752    1.573419\n",
      "         NC  |   .5333333   .4680396     1.14   0.260     -.406752    1.473419\n",
      "         ND  |  -.1166666   .4680396    -0.25   0.804    -1.056752    .8234187\n",
      "         NE  |  -1.133333   .4680396    -2.42   0.019    -2.073419   -.1932481\n",
      "         NH  |  -1.033333   .4680396    -2.21   0.032    -1.973419   -.0932481\n",
      "         NJ  |  -1.433333   .4680396    -3.06   0.004    -2.373419    -.493248\n",
      "         NM  |   .9999999   .4333205     2.31   0.025       .12965     1.87035\n",
      "         NV  |   .6166667   .4680396     1.32   0.194    -.3234186    1.556752\n",
      "         NY  |  -.9833333   .4680396    -2.10   0.041    -1.923419   -.0432481\n",
      "         OH  |  -1.183333   .4680396    -2.53   0.015    -2.123419   -.2432481\n",
      "         OK  |   .0833334   .4680396     0.18   0.859    -.8567519    1.023419\n",
      "         OR  |   .3333334   .4680396     0.71   0.480    -.6067519    1.273419\n",
      "         PA  |  -.9833333   .4680396    -2.10   0.041    -1.923419    -.043248\n",
      "         RI  |  -1.433333   .4680396    -3.06   0.004    -2.373419   -.4932481\n",
      "         SC  |   1.033333   .4680396     2.21   0.032     .0932481    1.973419\n",
      "         SD  |   .1333333   .4680396     0.28   0.777     -.806752    1.073419\n",
      "         TN  |  -.1333333   .4680396    -0.28   0.777    -1.073419     .806752\n",
      "         TX  |  -.7833333   .4680396    -1.67   0.100    -1.723419     .156752\n",
      "         UT  |   .2333333   .4680396     0.50   0.620    -.7067519    1.173419\n",
      "         VA  |  -1.183333   .4680396    -2.53   0.015    -2.123419   -.2432481\n",
      "         VT  |  -1.133333   .4680396    -2.42   0.019    -2.073419    -.193248\n",
      "         WA  |  -.0666667   .4680396    -0.14   0.887    -1.006752    .8734186\n",
      "         WI  |  -.2166667   .4680396    -0.46   0.645    -1.156752    .7234186\n",
      "         WV  |   .2666667   .4680396     0.57   0.571    -.6734186    1.206752\n",
      "         WY  |  -.6833333   .4680396    -1.46   0.151    -1.623419     .256752\n",
      "             |\n",
      "       _cons |   3.133333   .3538047     8.86   0.000     2.422696    3.843971\n",
      "------------------------------------------------------------------------------\n"
     ]
    }
   ],
   "source": [
    "reg dthrte open i.state_no\n",
    "// Fixed Effects Regression (with binary variable): coefficient = -0.97"
   ]
  },
  {
   "cell_type": "markdown",
   "metadata": {},
   "source": [
    "## 4. Standard Errors for Fixed Effects Regression\n",
    "* vce(cluster clusvar)\n",
    "* vce(robust) or r "
   ]
  },
  {
   "cell_type": "code",
   "execution_count": 24,
   "metadata": {
    "scrolled": true
   },
   "outputs": [
    {
     "name": "stdout",
     "output_type": "stream",
     "text": [
      "\n",
      "Fixed-effects (within) regression               Number of obs      =       102\n",
      "Group variable: state_no                        Number of groups   =        51\n",
      "\n",
      "R-sq:  within  = 0.1299                         Obs per group: min =         2\n",
      "       between = 0.0015                                        avg =       2.0\n",
      "       overall = 0.0061                                        max =         2\n",
      "\n",
      "                                                F(1,50)            =     76.53\n",
      "corr(u_i, Xb)  = -0.6210                        Prob > F           =    0.0000\n",
      "\n",
      "                                 (Std. Err. adjusted for 51 clusters in state)\n",
      "------------------------------------------------------------------------------\n",
      "             |               Robust\n",
      "      dthrte |      Coef.   Std. Err.      t    P>|t|     [95% Conf. Interval]\n",
      "-------------+----------------------------------------------------------------\n",
      "        open |  -.9666667   .1104979    -8.75   0.000    -1.188608   -.7447252\n",
      "       _cons |   2.816013   .0444158    63.40   0.000     2.726801    2.905225\n",
      "-------------+----------------------------------------------------------------\n",
      "     sigma_u |   .6919374\n",
      "     sigma_e |  .43332051\n",
      "         rho |  .71829818   (fraction of variance due to u_i)\n",
      "------------------------------------------------------------------------------\n"
     ]
    }
   ],
   "source": [
    "xtreg dthrte open, fe vce(cluster state)"
   ]
  },
  {
   "cell_type": "code",
   "execution_count": 28,
   "metadata": {},
   "outputs": [
    {
     "name": "stdout",
     "output_type": "stream",
     "text": [
      "\n",
      "Fixed-effects (within) regression               Number of obs     =        102\n",
      "Group variable: state_no                        Number of groups  =         51\n",
      "\n",
      "R-sq:                                           Obs per group:\n",
      "     within  = 0.1299                                         min =          2\n",
      "     between = 0.0015                                         avg =        2.0\n",
      "     overall = 0.0061                                         max =          2\n",
      "\n",
      "                                                F(1,50)           =      76.53\n",
      "corr(u_i, Xb)  = -0.6210                        Prob > F          =     0.0000\n",
      "\n",
      "                              (Std. Err. adjusted for 51 clusters in state_no)\n",
      "------------------------------------------------------------------------------\n",
      "             |               Robust\n",
      "      dthrte |      Coef.   Std. Err.      t    P>|t|     [95% Conf. Interval]\n",
      "-------------+----------------------------------------------------------------\n",
      "        open |  -.9666667   .1104979    -8.75   0.000    -1.188608   -.7447252\n",
      "       _cons |   2.816013   .0444158    63.40   0.000     2.726801    2.905225\n",
      "-------------+----------------------------------------------------------------\n",
      "     sigma_u |   .6919374\n",
      "     sigma_e |  .43332051\n",
      "         rho |  .71829818   (fraction of variance due to u_i)\n",
      "------------------------------------------------------------------------------\n"
     ]
    }
   ],
   "source": [
    "xtreg dthrte open, fe r"
   ]
  },
  {
   "cell_type": "code",
   "execution_count": null,
   "metadata": {},
   "outputs": [],
   "source": []
  }
 ],
 "metadata": {
  "kernelspec": {
   "display_name": "Stata",
   "language": "stata",
   "name": "stata"
  },
  "language_info": {
   "codemirror_mode": "stata",
   "file_extension": ".do",
   "mimetype": "text/x-stata",
   "name": "stata",
   "version": "15.1"
  }
 },
 "nbformat": 4,
 "nbformat_minor": 2
}
