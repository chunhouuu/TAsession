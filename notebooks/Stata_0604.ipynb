{
 "cells": [
  {
   "cell_type": "code",
   "execution_count": 2,
   "metadata": {},
   "outputs": [
    {
     "name": "stdout",
     "output_type": "stream",
     "text": [
      "(11 vars, 97 obs)\n"
     ]
    }
   ],
   "source": [
    "insheet using \"/Users/tino/Desktop/TA-Econometrics-II/datasets/0604/prostate.csv\", clear"
   ]
  },
  {
   "cell_type": "code",
   "execution_count": 3,
   "metadata": {},
   "outputs": [
    {
     "name": "stdout",
     "output_type": "stream",
     "text": [
      "\n",
      "    Variable |        Obs        Mean    Std. Dev.       Min        Max\n",
      "-------------+---------------------------------------------------------\n",
      "          v1 |         97          49    28.14546          1         97\n",
      "      lcavol |         97     1.35001    1.178625  -1.347074   3.821004\n",
      "     lweight |         97    3.628943    .4284112   2.374906   4.780383\n",
      "         age |         97    63.86598    7.445117         41         79\n",
      "        lbph |         97    .1003556    1.450807  -1.386294   2.326302\n",
      "-------------+---------------------------------------------------------\n",
      "         svi |         97    .2164948    .4139949          0          1\n",
      "         lcp |         97   -.1793656     1.39825  -1.386294   2.904165\n",
      "     gleason |         97    6.752577    .7221341          6          9\n",
      "       pgg45 |         97    24.38144    28.20403          0        100\n",
      "        lpsa |         97    2.478387    1.154329  -.4307829   5.582932\n",
      "-------------+---------------------------------------------------------\n",
      "       train |          0\n"
     ]
    }
   ],
   "source": [
    "sum"
   ]
  },
  {
   "cell_type": "code",
   "execution_count": 5,
   "metadata": {},
   "outputs": [
    {
     "name": "stdout",
     "output_type": "stream",
     "text": [
      "checking lassopack consistency and verifying not already installed...\n",
      "installing into /Users/tino/Library/Application Support/Stata/ado/plus/...\n",
      "installation complete.\n"
     ]
    }
   ],
   "source": [
    "ssc install lassopack"
   ]
  },
  {
   "cell_type": "code",
   "execution_count": 22,
   "metadata": {},
   "outputs": [
    {
     "name": "stdout",
     "output_type": "stream",
     "text": [
      "\n",
      "Linear regression                               Number of obs     =         97\n",
      "                                                F(8, 88)          =      20.59\n",
      "                                                Prob > F          =     0.0000\n",
      "                                                R-squared         =     0.6634\n",
      "                                                Root MSE          =      .6995\n",
      "\n",
      "------------------------------------------------------------------------------\n",
      "             |               Robust\n",
      "        lpsa |      Coef.   Std. Err.      t    P>|t|     [95% Conf. Interval]\n",
      "-------------+----------------------------------------------------------------\n",
      "      lcavol |   .5643413   .0784743     7.19   0.000     .4083901    .7202925\n",
      "     lweight |   .6220198   .2207837     2.82   0.006     .1832585    1.060781\n",
      "         age |  -.0212482    .009554    -2.22   0.029    -.0402347   -.0022616\n",
      "        lbph |   .0967125   .0586483     1.65   0.103    -.0198386    .2132636\n",
      "         svi |   .7616733   .2236553     3.41   0.001     .3172055    1.206141\n",
      "         lcp |  -.1060509    .083329    -1.27   0.206    -.2716498     .059548\n",
      "     gleason |   .0492279   .1371971     0.36   0.721    -.2234225    .3218784\n",
      "       pgg45 |   .0044575     .00447     1.00   0.321    -.0044256    .0133406\n",
      "       _cons |   .1815609   1.286171     0.14   0.888    -2.374433    2.737555\n",
      "------------------------------------------------------------------------------\n",
      "(est1 stored)\n"
     ]
    }
   ],
   "source": [
    "eststo: reg lpsa lcavol lweight age lbph svi lcp gleason pgg45, r"
   ]
  },
  {
   "cell_type": "code",
   "execution_count": 23,
   "metadata": {},
   "outputs": [
    {
     "name": "stdout",
     "output_type": "stream",
     "text": [
      "\n",
      "---------------------------------------------------\n",
      "         Selected |           Ridge   Post-est OLS\n",
      "------------------+--------------------------------\n",
      "           lcavol |       0.5105488      0.5643413\n",
      "          lweight |       0.6100509      0.6220198\n",
      "              age |      -0.0178941     -0.0212482\n",
      "             lbph |       0.0886328      0.0967125\n",
      "              svi |       0.7046133      0.7616733\n",
      "              lcp |      -0.0554655     -0.1060509\n",
      "          gleason |       0.0607886      0.0492279\n",
      "            pgg45 |       0.0036299      0.0044575\n",
      "------------------+--------------------------------\n",
      "   Partialled-out*|\n",
      "------------------+--------------------------------\n",
      "            _cons |       0.0477573      0.1815609\n",
      "---------------------------------------------------\n",
      "(est2 stored)\n"
     ]
    }
   ],
   "source": [
    "eststo: lasso2 lpsa lcavol lweight age lbph svi lcp gleason pgg45, alpha(0) lambda(10)"
   ]
  },
  {
   "cell_type": "code",
   "execution_count": 24,
   "metadata": {},
   "outputs": [
    {
     "name": "stdout",
     "output_type": "stream",
     "text": [
      "\n",
      "---------------------------------------------------\n",
      "         Selected |           Lasso   Post-est OLS\n",
      "------------------+--------------------------------\n",
      "           lcavol |       0.5000819      0.5234981\n",
      "          lweight |       0.5144276      0.6152349\n",
      "              age |      -0.0036627     -0.0190343\n",
      "             lbph |       0.0468469      0.0954908\n",
      "              svi |       0.5695171      0.6358643\n",
      "            pgg45 |       0.0017981      0.0035248\n",
      "------------------+--------------------------------\n",
      "   Partialled-out*|\n",
      "------------------+--------------------------------\n",
      "            _cons |      -0.0014767      0.5214696\n",
      "---------------------------------------------------\n",
      "(est3 stored)\n"
     ]
    }
   ],
   "source": [
    "eststo: lasso2 lpsa lcavol lweight age lbph svi lcp gleason pgg45, alpha(1) lambda(10)"
   ]
  },
  {
   "cell_type": "code",
   "execution_count": 28,
   "metadata": {},
   "outputs": [
    {
     "name": "stdout",
     "output_type": "stream",
     "text": [
      "\n",
      "---------------------------------------------------------------------------------------------------\n",
      "                      (1)                          (2)                          (3)                \n",
      "                      OLS                        Ridge                        Lasso                \n",
      "---------------------------------------------------------------------------------------------------\n",
      "lcavol              0.564***     (0.0785)        0.511                        0.500                \n",
      "lweight             0.622**       (0.221)        0.610                        0.514                \n",
      "age               -0.0212*      (0.00955)      -0.0179                     -0.00366                \n",
      "lbph               0.0967        (0.0586)       0.0886                       0.0468                \n",
      "svi                 0.762***      (0.224)        0.705                        0.570                \n",
      "lcp                -0.106        (0.0833)      -0.0555                                             \n",
      "gleason            0.0492         (0.137)       0.0608                                             \n",
      "pgg45             0.00446       (0.00447)      0.00363                      0.00180                \n",
      "_cons               0.182         (1.286)       0.0478                     -0.00148                \n",
      "---------------------------------------------------------------------------------------------------\n",
      "N                      97                           97                           97                \n",
      "---------------------------------------------------------------------------------------------------\n",
      "Standard errors in parentheses\n",
      "* p<0.05, ** p<0.01, *** p<0.001\n"
     ]
    }
   ],
   "source": [
    "esttab, se wide mti(\"OLS\" \"Ridge\" \"Lasso\")"
   ]
  }
 ],
 "metadata": {
  "kernelspec": {
   "display_name": "Stata",
   "language": "stata",
   "name": "stata"
  },
  "language_info": {
   "codemirror_mode": "stata",
   "file_extension": ".do",
   "mimetype": "text/x-stata",
   "name": "stata",
   "version": "15.1"
  }
 },
 "nbformat": 4,
 "nbformat_minor": 2
}
