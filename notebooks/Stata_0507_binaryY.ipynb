{
 "cells": [
  {
   "cell_type": "markdown",
   "metadata": {},
   "source": [
    "Regression with Binary Variables\n",
    "===\n",
    "---\n",
    "* Linear Probability Model\n",
    "* Probit Regression\n",
    "* Logit Regression\n",
    "---"
   ]
  },
  {
   "cell_type": "code",
   "execution_count": 1,
   "metadata": {},
   "outputs": [
    {
     "name": "stdout",
     "output_type": "stream",
     "text": [
      "\n",
      "(7 vars, 4,268 obs)\n",
      "\n",
      "\n",
      "\n",
      "    Variable |        Obs        Mean    Std. Dev.       Min        Max\n",
      "-------------+---------------------------------------------------------\n",
      "     respond |      4,268    .3999531    .4899458          0          1\n",
      "    resplast |      4,268    .3348172    .4719818          0          1\n",
      "   weekslast |      4,268     59.0482    44.32374   13.14286        195\n",
      "    propresp |      4,268    .4843592    .2533932    .090909          1\n",
      "   mailsyear |      4,268    2.049555      .66758        .25        3.5\n",
      "-------------+---------------------------------------------------------\n",
      "    giftlast |      4,268    19.74836    154.2009          1      10000\n"
     ]
    }
   ],
   "source": [
    "insheet using \"/Users/tino/Desktop/TA-Econometrics-II/datasets/0507/charity.csv\", clear\n",
    "drop v1\n",
    "sum"
   ]
  },
  {
   "cell_type": "code",
   "execution_count": 36,
   "metadata": {},
   "outputs": [
    {
     "name": "stdout",
     "output_type": "stream",
     "text": [
      "\n",
      "    respond |      Freq.     Percent        Cum.\n",
      "------------+-----------------------------------\n",
      "          0 |      2,561       60.00       60.00\n",
      "          1 |      1,707       40.00      100.00\n",
      "------------+-----------------------------------\n",
      "      Total |      4,268      100.00\n"
     ]
    }
   ],
   "source": [
    "tab respond // binary independent variable"
   ]
  },
  {
   "cell_type": "markdown",
   "metadata": {},
   "source": [
    "## Questions\n",
    "---\n",
    "1. Does the person who responded to most recent mailing has higher probability to respond with gift? Specify a regression model and test the hypothesis.\n",
    "* Control other variables, answer question (1) and report the results from LPM, Logit and Probit model in a table.\n",
    "* Using the results from LPM, what is the predicted probability of responding with gift for a person who ...\n",
    "* Calculate the predicted probability of responding with gift for same person considered in (4) for the probit and logit models.\n",
    "* **(PS4) For the logit only, test the null hypothesis that black, white and \"others\" are equally likely to be insured (after controlling for the other variables of the model). Specify the null and alternative hypotheses and use F test as well as LR test. Can you reject this null hypothesis at a 5% significance level?**"
   ]
  },
  {
   "cell_type": "markdown",
   "metadata": {},
   "source": [
    "### Question 1"
   ]
  },
  {
   "cell_type": "code",
   "execution_count": 2,
   "metadata": {},
   "outputs": [
    {
     "name": "stdout",
     "output_type": "stream",
     "text": [
      "\n",
      "Linear regression                               Number of obs     =      4,268\n",
      "                                                F(1, 4266)        =     501.34\n",
      "                                                Prob > F          =     0.0000\n",
      "                                                R-squared         =     0.1095\n",
      "                                                Root MSE          =     .46241\n",
      "\n",
      "------------------------------------------------------------------------------\n",
      "             |               Robust\n",
      "     respond |      Coef.   Std. Err.      t    P>|t|     [95% Conf. Interval]\n",
      "-------------+----------------------------------------------------------------\n",
      "    resplast |    .343452   .0153391    22.39   0.000     .3133793    .3735247\n",
      "       _cons |   .2849595   .0084738    33.63   0.000     .2683465    .3015725\n",
      "------------------------------------------------------------------------------\n"
     ]
    }
   ],
   "source": [
    "reg respond resplast, r"
   ]
  },
  {
   "cell_type": "code",
   "execution_count": 3,
   "metadata": {},
   "outputs": [
    {
     "name": "stdout",
     "output_type": "stream",
     "text": [
      "\n",
      "Two-sample t test with equal variances\n",
      "------------------------------------------------------------------------------\n",
      "   Group |     Obs        Mean    Std. Err.   Std. Dev.   [95% Conf. Interval]\n",
      "---------+--------------------------------------------------------------------\n",
      "       0 |   2,839    .2849595    .0084733    .4514747    .2683451    .3015739\n",
      "       1 |   1,429    .6284115    .0127876    .4833984     .603327     .653496\n",
      "---------+--------------------------------------------------------------------\n",
      "combined |   4,268    .3999531    .0074996    .4899458    .3852501    .4146562\n",
      "---------+--------------------------------------------------------------------\n",
      "    diff |            -.343452    .0149981               -.3728561   -.3140478\n",
      "------------------------------------------------------------------------------\n",
      "    diff = mean(0) - mean(1)                                      t = -22.8997\n",
      "Ho: diff = 0                                     degrees of freedom =     4266\n",
      "\n",
      "    Ha: diff < 0                 Ha: diff != 0                 Ha: diff > 0\n",
      " Pr(T < t) = 0.0000         Pr(|T| > |t|) = 0.0000          Pr(T > t) = 1.0000\n"
     ]
    }
   ],
   "source": [
    "ttest respond, by(resplast)"
   ]
  },
  {
   "cell_type": "markdown",
   "metadata": {},
   "source": [
    "### Question 2"
   ]
  },
  {
   "cell_type": "code",
   "execution_count": 4,
   "metadata": {},
   "outputs": [
    {
     "name": "stdout",
     "output_type": "stream",
     "text": [
      "\n",
      "\n",
      "Linear regression                               Number of obs     =      4,268\n",
      "                                                F(5, 4262)        =     332.43\n",
      "                                                Prob > F          =     0.0000\n",
      "                                                R-squared         =     0.2144\n",
      "                                                Root MSE          =     .43451\n",
      "\n",
      "------------------------------------------------------------------------------\n",
      "             |               Robust\n",
      "     respond |      Coef.   Std. Err.      t    P>|t|     [95% Conf. Interval]\n",
      "-------------+----------------------------------------------------------------\n",
      "    resplast |   .0666743   .0208084     3.20   0.001     .0258791    .1074696\n",
      "   weekslast |  -.0010774   .0001898    -5.68   0.000    -.0014494   -.0007053\n",
      "    propresp |   .6498893   .0385633    16.85   0.000     .5742852    .7254935\n",
      "   mailsyear |   .0523243   .0105648     4.95   0.000     .0316118    .0730368\n",
      "    giftlast |   .0000912   7.44e-06    12.26   0.000     .0000766    .0001058\n",
      "       _cons |   .0174229   .0347228     0.50   0.616    -.0506519    .0854976\n",
      "------------------------------------------------------------------------------\n",
      "(est1 stored)\n",
      "\n",
      "\n",
      "Iteration 0:   log likelihood = -2872.3327  \n",
      "Iteration 1:   log likelihood = -2378.1046  \n",
      "Iteration 2:   log likelihood = -2376.3795  \n",
      "Iteration 3:   log likelihood = -2376.0792  \n",
      "Iteration 4:   log likelihood = -2376.0659  \n",
      "Iteration 5:   log likelihood = -2376.0659  \n",
      "\n",
      "Probit regression                               Number of obs     =      4,268\n",
      "                                                LR chi2(5)        =     992.53\n",
      "                                                Prob > chi2       =     0.0000\n",
      "Log likelihood = -2376.0659                     Pseudo R2         =     0.1728\n",
      "\n",
      "------------------------------------------------------------------------------\n",
      "     respond |      Coef.   Std. Err.      z    P>|z|     [95% Conf. Interval]\n",
      "-------------+----------------------------------------------------------------\n",
      "    resplast |   .1265028   .0572068     2.21   0.027     .0143796    .2386261\n",
      "   weekslast |  -.0045617   .0007121    -6.41   0.000    -.0059573   -.0031661\n",
      "    propresp |   1.848346   .1142395    16.18   0.000      1.62444    2.072251\n",
      "   mailsyear |   .1463944   .0318643     4.59   0.000     .0839416    .2088472\n",
      "    giftlast |   .0011562   .0010101     1.14   0.252    -.0008237     .003136\n",
      "       _cons |  -1.296471   .1142659   -11.35   0.000    -1.520428   -1.072514\n",
      "------------------------------------------------------------------------------\n",
      "Note: 0 failures and 1 success completely determined.\n",
      "(est2 stored)\n",
      "\n",
      "\n",
      "Iteration 0:   log likelihood = -2872.3327  \n",
      "Iteration 1:   log likelihood = -2385.0049  \n",
      "Iteration 2:   log likelihood = -2378.7031  \n",
      "Iteration 3:   log likelihood =  -2378.405  \n",
      "Iteration 4:   log likelihood = -2378.3366  \n",
      "Iteration 5:   log likelihood = -2378.3366  \n",
      "\n",
      "Logistic regression                             Number of obs     =      4,268\n",
      "                                                LR chi2(5)        =     987.99\n",
      "                                                Prob > chi2       =     0.0000\n",
      "Log likelihood = -2378.3366                     Pseudo R2         =     0.1720\n",
      "\n",
      "------------------------------------------------------------------------------\n",
      "     respond |      Coef.   Std. Err.      z    P>|z|     [95% Conf. Interval]\n",
      "-------------+----------------------------------------------------------------\n",
      "    resplast |   .1918952   .0941824     2.04   0.042     .0073012    .3764893\n",
      "   weekslast |  -.0078879   .0012377    -6.37   0.000    -.0103137   -.0054621\n",
      "    propresp |   3.034054   .1909139    15.89   0.000      2.65987    3.408239\n",
      "   mailsyear |    .243938   .0537507     4.54   0.000     .1385886    .3492874\n",
      "    giftlast |   .0020184   .0016465     1.23   0.220    -.0012087    .0052455\n",
      "       _cons |  -2.116716    .193359   -10.95   0.000    -2.495693   -1.737739\n",
      "------------------------------------------------------------------------------\n",
      "Note: 0 failures and 1 success completely determined.\n",
      "(est3 stored)\n"
     ]
    }
   ],
   "source": [
    "eststo: reg respond resplast weekslast propresp mailsyear giftlast, r\n",
    "eststo: probit respond resplast weekslast propresp mailsyear giftlast\n",
    "eststo: logit respond resplast weekslast propresp mailsyear giftlast"
   ]
  },
  {
   "cell_type": "code",
   "execution_count": 11,
   "metadata": {},
   "outputs": [
    {
     "name": "stdout",
     "output_type": "stream",
     "text": [
      "\n",
      "------------------------------------------------------------\n",
      "                      (1)             (2)             (3)   \n",
      "                      LPM          Probit           Logit   \n",
      "------------------------------------------------------------\n",
      "main                                                        \n",
      "resplast           0.0667**         0.127*          0.192*  \n",
      "                  (0.021)         (0.057)         (0.094)   \n",
      "\n",
      "weekslast        -0.00108***     -0.00456***     -0.00789***\n",
      "                  (0.000)         (0.001)         (0.001)   \n",
      "\n",
      "propresp            0.650***        1.848***        3.034***\n",
      "                  (0.039)         (0.114)         (0.191)   \n",
      "\n",
      "mailsyear          0.0523***        0.146***        0.244***\n",
      "                  (0.011)         (0.032)         (0.054)   \n",
      "\n",
      "giftlast        0.0000912***      0.00116         0.00202   \n",
      "                  (0.000)         (0.001)         (0.002)   \n",
      "\n",
      "_cons              0.0174          -1.296***       -2.117***\n",
      "                  (0.035)         (0.114)         (0.193)   \n",
      "------------------------------------------------------------\n",
      "N                    4268            4268            4268   \n",
      "------------------------------------------------------------\n",
      "Standard errors in parentheses\n",
      "* p<0.05, ** p<0.01, *** p<0.001\n"
     ]
    }
   ],
   "source": [
    "esttab, se(3) mti(\"LPM\" \"Probit\" \"Logit\")"
   ]
  },
  {
   "cell_type": "markdown",
   "metadata": {},
   "source": [
    "### Question 5"
   ]
  },
  {
   "cell_type": "code",
   "execution_count": 23,
   "metadata": {},
   "outputs": [
    {
     "name": "stdout",
     "output_type": "stream",
     "text": [
      "\n",
      "(22 vars, 8,802 obs)\n",
      "\n",
      "\n",
      "    Variable |        Obs        Mean    Std. Dev.       Min        Max\n",
      "-------------+---------------------------------------------------------\n",
      "     healthy |      8,802     .928539     .257608          0          1\n",
      "         age |      8,802    38.93683    11.11082         18         62\n",
      "      anylim |      8,802    .1398546    .3468558          0          1\n",
      "        male |      8,802    .5263576    .4993332          0          1\n",
      "     insured |      8,802    .8011815    .3991338          0          1\n",
      "-------------+---------------------------------------------------------\n",
      "      deg_nd |      8,802    .1271302    .3331377          0          1\n",
      "     deg_ged |      8,802    .0424903    .2017165          0          1\n",
      "      deg_hs |      8,802    .5037491    .5000143          0          1\n",
      "      deg_ba |      8,802    .1759827    .3808271          0          1\n",
      "      deg_ma |      8,802    .0595319     .236631          0          1\n",
      "-------------+---------------------------------------------------------\n",
      "     deg_phd |      8,802    .0153374    .1228979          0          1\n",
      "     deg_oth |      8,802    .0757782     .264658          0          1\n",
      "     married |      8,802    .6172461    .4860866          0          1\n",
      "     selfemp |      8,802    .1216769    .3269308          0          1\n",
      "    familysz |      8,802    3.093501    1.559633          1         14\n",
      "-------------+---------------------------------------------------------\n",
      "      reg_ne |      8,802    .1910929    .3931844          0          1\n",
      "      reg_mw |      8,802    .2298341    .4207499          0          1\n",
      "      reg_so |      8,802    .3493524    .4767925          0          1\n",
      "      reg_we |      8,802    .2297205     .420677          0          1\n",
      "     race_bl |      8,802    .1230402     .328502          0          1\n",
      "-------------+---------------------------------------------------------\n",
      "     race_ot |      8,802    .0414678     .199381          0          1\n",
      "    race_wht |      8,802    .8354919     .370757          0          1\n"
     ]
    }
   ],
   "source": [
    "insheet using \"/Users/tino/Desktop/TA-Econometrics-II/problem set/PS4/insurance.csv\", clear\n",
    "sum"
   ]
  },
  {
   "cell_type": "code",
   "execution_count": 30,
   "metadata": {},
   "outputs": [
    {
     "name": "stdout",
     "output_type": "stream",
     "text": [
      "\n",
      "\n",
      "Iteration 0:   log likelihood = -4390.0862  \n",
      "Iteration 1:   log likelihood =  -3825.673  \n",
      "Iteration 2:   log likelihood = -3779.5949  \n",
      "Iteration 3:   log likelihood = -3779.1328  \n",
      "Iteration 4:   log likelihood =  -3779.132  \n",
      "Iteration 5:   log likelihood =  -3779.132  \n",
      "\n",
      "Logistic regression                             Number of obs     =      8,802\n",
      "                                                LR chi2(13)       =    1221.91\n",
      "                                                Prob > chi2       =     0.0000\n",
      "Log likelihood =  -3779.132                     Pseudo R2         =     0.1392\n",
      "\n",
      "------------------------------------------------------------------------------\n",
      "     insured |      Coef.   Std. Err.      z    P>|z|     [95% Conf. Interval]\n",
      "-------------+----------------------------------------------------------------\n",
      "     selfemp |  -1.180113    .082171   -14.36   0.000    -1.341166   -1.019061\n",
      "         age |   .0257193   .0028881     8.91   0.000     .0200588    .0313798\n",
      "      deg_nd |  -1.677486   .1353558   -12.39   0.000    -1.942778   -1.412193\n",
      "     deg_ged |  -.9746154   .1678818    -5.81   0.000    -1.303658   -.6455731\n",
      "      deg_hs |  -.2992311   .1250529    -2.39   0.017    -.5443302   -.0541319\n",
      "      deg_ba |   .2563122   .1451943     1.77   0.078    -.0282635    .5408878\n",
      "      deg_ma |   .6709893   .2176635     3.08   0.002     .2443767    1.097602\n",
      "     deg_phd |   .9492053   .3889912     2.44   0.015     .1867966    1.711614\n",
      "    familysz |  -.0970523   .0186933    -5.19   0.000    -.1336905   -.0604141\n",
      "     race_bl |   .1845257   .1541988     1.20   0.231    -.1176983    .4867498\n",
      "    race_wht |   .4003524   .1367135     2.93   0.003     .1323989    .6683059\n",
      "        male |  -.2769226   .0591291    -4.68   0.000    -.3928135   -.1610316\n",
      "     married |   .9384732   .0665786    14.10   0.000     .8079816    1.068965\n",
      "       _cons |   .6064711   .2176025     2.79   0.005     .1799781    1.032964\n",
      "------------------------------------------------------------------------------\n",
      "\n",
      "\n",
      " ( 1)  [insured]race_bl - [insured]race_wht = 0\n",
      " ( 2)  [insured]race_bl = 0\n",
      "\n",
      "           chi2(  2) =   13.86\n",
      "         Prob > chi2 =    0.0010\n"
     ]
    }
   ],
   "source": [
    "logit insured selfemp age deg_nd deg_ged deg_hs deg_ba deg_ma deg_phd familysz race_bl race_wht male married\n",
    "test race_bl = race_wht = 0"
   ]
  },
  {
   "cell_type": "code",
   "execution_count": 29,
   "metadata": {},
   "outputs": [
    {
     "name": "stdout",
     "output_type": "stream",
     "text": [
      "\n",
      "\n",
      "\n",
      "Iteration 0:   log likelihood = -4390.0862  \n",
      "Iteration 1:   log likelihood =  -3825.673  \n",
      "Iteration 2:   log likelihood = -3779.5949  \n",
      "Iteration 3:   log likelihood = -3779.1328  \n",
      "Iteration 4:   log likelihood =  -3779.132  \n",
      "Iteration 5:   log likelihood =  -3779.132  \n",
      "\n",
      "Logistic regression                             Number of obs     =      8,802\n",
      "                                                LR chi2(13)       =    1221.91\n",
      "                                                Prob > chi2       =     0.0000\n",
      "Log likelihood =  -3779.132                     Pseudo R2         =     0.1392\n",
      "\n",
      "------------------------------------------------------------------------------\n",
      "     insured |      Coef.   Std. Err.      z    P>|z|     [95% Conf. Interval]\n",
      "-------------+----------------------------------------------------------------\n",
      "     selfemp |  -1.180113    .082171   -14.36   0.000    -1.341166   -1.019061\n",
      "         age |   .0257193   .0028881     8.91   0.000     .0200588    .0313798\n",
      "      deg_nd |  -1.677486   .1353558   -12.39   0.000    -1.942778   -1.412193\n",
      "     deg_ged |  -.9746154   .1678818    -5.81   0.000    -1.303658   -.6455731\n",
      "      deg_hs |  -.2992311   .1250529    -2.39   0.017    -.5443302   -.0541319\n",
      "      deg_ba |   .2563122   .1451943     1.77   0.078    -.0282635    .5408878\n",
      "      deg_ma |   .6709893   .2176635     3.08   0.002     .2443767    1.097602\n",
      "     deg_phd |   .9492053   .3889912     2.44   0.015     .1867966    1.711614\n",
      "    familysz |  -.0970523   .0186933    -5.19   0.000    -.1336905   -.0604141\n",
      "     race_bl |   .1845257   .1541988     1.20   0.231    -.1176983    .4867498\n",
      "    race_wht |   .4003524   .1367135     2.93   0.003     .1323989    .6683059\n",
      "        male |  -.2769226   .0591291    -4.68   0.000    -.3928135   -.1610316\n",
      "     married |   .9384732   .0665786    14.10   0.000     .8079816    1.068965\n",
      "       _cons |   .6064711   .2176025     2.79   0.005     .1799781    1.032964\n",
      "------------------------------------------------------------------------------\n",
      "(est1 stored)\n",
      "\n",
      "\n",
      "Iteration 0:   log likelihood = -4390.0862  \n",
      "Iteration 1:   log likelihood = -3831.6234  \n",
      "Iteration 2:   log likelihood = -3786.3018  \n",
      "Iteration 3:   log likelihood = -3785.8597  \n",
      "Iteration 4:   log likelihood =  -3785.859  \n",
      "Iteration 5:   log likelihood =  -3785.859  \n",
      "\n",
      "Logistic regression                             Number of obs     =      8,802\n",
      "                                                LR chi2(11)       =    1208.45\n",
      "                                                Prob > chi2       =     0.0000\n",
      "Log likelihood =  -3785.859                     Pseudo R2         =     0.1376\n",
      "\n",
      "------------------------------------------------------------------------------\n",
      "     insured |      Coef.   Std. Err.      z    P>|z|     [95% Conf. Interval]\n",
      "-------------+----------------------------------------------------------------\n",
      "     selfemp |  -1.166194   .0818971   -14.24   0.000    -1.326709   -1.005678\n",
      "         age |   .0253081   .0028762     8.80   0.000     .0196707    .0309454\n",
      "      deg_nd |  -1.676212   .1352882   -12.39   0.000    -1.941372   -1.411052\n",
      "     deg_ged |  -.9738731    .167783    -5.80   0.000    -1.302722   -.6450244\n",
      "      deg_hs |  -.3049274   .1249929    -2.44   0.015    -.5499089   -.0599459\n",
      "      deg_ba |   .2512412   .1450096     1.73   0.083    -.0329723    .5354548\n",
      "      deg_ma |   .6618786   .2173994     3.04   0.002     .2357836    1.087974\n",
      "     deg_phd |   .9321419   .3890214     2.40   0.017      .169674     1.69461\n",
      "    familysz |  -.1013828   .0186558    -5.43   0.000    -.1379476   -.0648181\n",
      "        male |  -.2680549   .0589558    -4.55   0.000    -.3836062   -.1525036\n",
      "     married |   .9585878   .0659744    14.53   0.000     .8292802    1.087895\n",
      "       _cons |   .9746341    .171635     5.68   0.000     .6382356    1.311033\n",
      "------------------------------------------------------------------------------\n",
      "(est2 stored)\n",
      "\n",
      "\n",
      "Likelihood-ratio test                                 LR chi2(2)  =     13.45\n",
      "(Assumption: est2 nested in est1)                     Prob > chi2 =    0.0012\n"
     ]
    }
   ],
   "source": [
    "eststo clear\n",
    "eststo: logit insured selfemp age deg_nd deg_ged deg_hs deg_ba deg_ma deg_phd familysz race_bl race_wht male married\n",
    "eststo: logit insured selfemp age deg_nd deg_ged deg_hs deg_ba deg_ma deg_phd familysz male married\n",
    "lrtest est2 est1"
   ]
  },
  {
   "cell_type": "markdown",
   "metadata": {},
   "source": [
    "---\n",
    "## 1. Linear Probability Model"
   ]
  },
  {
   "cell_type": "code",
   "execution_count": 22,
   "metadata": {},
   "outputs": [
    {
     "name": "stdout",
     "output_type": "stream",
     "text": [
      "\n",
      "Linear regression                               Number of obs     =      4,268\n",
      "                                                F(5, 4262)        =     332.43\n",
      "                                                Prob > F          =     0.0000\n",
      "                                                R-squared         =     0.2144\n",
      "                                                Root MSE          =     .43451\n",
      "\n",
      "------------------------------------------------------------------------------\n",
      "             |               Robust\n",
      "     respond |      Coef.   Std. Err.      t    P>|t|     [95% Conf. Interval]\n",
      "-------------+----------------------------------------------------------------\n",
      "    resplast |   .0666743   .0208084     3.20   0.001     .0258791    .1074696\n",
      "   weekslast |  -.0010774   .0001898    -5.68   0.000    -.0014494   -.0007053\n",
      "    propresp |   .6498893   .0385633    16.85   0.000     .5742852    .7254935\n",
      "   mailsyear |   .0523243   .0105648     4.95   0.000     .0316118    .0730368\n",
      "    giftlast |   .0000912   7.44e-06    12.26   0.000     .0000766    .0001058\n",
      "       _cons |   .0174229   .0347228     0.50   0.616    -.0506519    .0854976\n",
      "------------------------------------------------------------------------------\n"
     ]
    }
   ],
   "source": [
    "reg respond resplast weekslast propresp mailsyear giftlast, r"
   ]
  },
  {
   "cell_type": "markdown",
   "metadata": {},
   "source": [
    "---\n",
    "## 2. Probit Regression"
   ]
  },
  {
   "cell_type": "code",
   "execution_count": 19,
   "metadata": {},
   "outputs": [
    {
     "name": "stdout",
     "output_type": "stream",
     "text": [
      "\n",
      "Iteration 0:   log likelihood = -2872.3327  \n",
      "Iteration 1:   log likelihood = -2378.1046  \n",
      "Iteration 2:   log likelihood = -2376.3795  \n",
      "Iteration 3:   log likelihood = -2376.0792  \n",
      "Iteration 4:   log likelihood = -2376.0659  \n",
      "Iteration 5:   log likelihood = -2376.0659  \n",
      "\n",
      "Probit regression                               Number of obs     =      4,268\n",
      "                                                LR chi2(5)        =     992.53\n",
      "                                                Prob > chi2       =     0.0000\n",
      "Log likelihood = -2376.0659                     Pseudo R2         =     0.1728\n",
      "\n",
      "------------------------------------------------------------------------------\n",
      "     respond |      Coef.   Std. Err.      z    P>|z|     [95% Conf. Interval]\n",
      "-------------+----------------------------------------------------------------\n",
      "    resplast |   .1265028   .0572068     2.21   0.027     .0143796    .2386261\n",
      "   weekslast |  -.0045617   .0007121    -6.41   0.000    -.0059573   -.0031661\n",
      "    propresp |   1.848346   .1142395    16.18   0.000      1.62444    2.072251\n",
      "   mailsyear |   .1463944   .0318643     4.59   0.000     .0839416    .2088472\n",
      "    giftlast |   .0011562   .0010101     1.14   0.252    -.0008237     .003136\n",
      "       _cons |  -1.296471   .1142659   -11.35   0.000    -1.520428   -1.072514\n",
      "------------------------------------------------------------------------------\n",
      "Note: 0 failures and 1 success completely determined.\n"
     ]
    }
   ],
   "source": [
    "probit respond resplast weekslast propresp mailsyear giftlast"
   ]
  },
  {
   "cell_type": "markdown",
   "metadata": {},
   "source": [
    "## 3. Logit Regression"
   ]
  },
  {
   "cell_type": "code",
   "execution_count": 39,
   "metadata": {},
   "outputs": [
    {
     "name": "stdout",
     "output_type": "stream",
     "text": [
      "\n",
      "Iteration 0:   log likelihood = -2872.3327  \n",
      "Iteration 1:   log likelihood = -2385.0049  \n",
      "Iteration 2:   log likelihood = -2378.7031  \n",
      "Iteration 3:   log likelihood =  -2378.405  \n",
      "Iteration 4:   log likelihood = -2378.3366  \n",
      "Iteration 5:   log likelihood = -2378.3366  \n",
      "\n",
      "Logistic regression                             Number of obs     =      4,268\n",
      "                                                LR chi2(5)        =     987.99\n",
      "                                                Prob > chi2       =     0.0000\n",
      "Log likelihood = -2378.3366                     Pseudo R2         =     0.1720\n",
      "\n",
      "------------------------------------------------------------------------------\n",
      "     respond |      Coef.   Std. Err.      z    P>|z|     [95% Conf. Interval]\n",
      "-------------+----------------------------------------------------------------\n",
      "    resplast |   .1918952   .0941824     2.04   0.042     .0073012    .3764893\n",
      "   weekslast |  -.0078879   .0012377    -6.37   0.000    -.0103137   -.0054621\n",
      "    propresp |   3.034054   .1909139    15.89   0.000      2.65987    3.408239\n",
      "   mailsyear |    .243938   .0537507     4.54   0.000     .1385886    .3492874\n",
      "    giftlast |   .0020184   .0016465     1.23   0.220    -.0012087    .0052455\n",
      "       _cons |  -2.116716    .193359   -10.95   0.000    -2.495693   -1.737739\n",
      "------------------------------------------------------------------------------\n",
      "Note: 0 failures and 1 success completely determined.\n",
      "(est3 stored)\n"
     ]
    }
   ],
   "source": [
    "eststo: logit respond resplast weekslast propresp mailsyear giftlast"
   ]
  },
  {
   "cell_type": "code",
   "execution_count": 40,
   "metadata": {},
   "outputs": [
    {
     "name": "stdout",
     "output_type": "stream",
     "text": [
      "\n",
      " ( 1)  [respond]resplast - [respond]giftlast = 0\n",
      " ( 2)  [respond]resplast = 0\n",
      "\n",
      "           chi2(  2) =    5.80\n",
      "         Prob > chi2 =    0.0549\n"
     ]
    }
   ],
   "source": [
    "test resplast = giftlast = 0"
   ]
  },
  {
   "cell_type": "code",
   "execution_count": 49,
   "metadata": {},
   "outputs": [
    {
     "name": "stdout",
     "output_type": "stream",
     "text": [
      "\n",
      "\n",
      "Iteration 0:   log likelihood = -2872.3327  \n",
      "Iteration 1:   log likelihood = -2385.0049  \n",
      "Iteration 2:   log likelihood = -2378.7031  \n",
      "Iteration 3:   log likelihood =  -2378.405  \n",
      "Iteration 4:   log likelihood = -2378.3366  \n",
      "Iteration 5:   log likelihood = -2378.3366  \n",
      "\n",
      "Logistic regression                             Number of obs     =      4,268\n",
      "                                                LR chi2(5)        =     987.99\n",
      "                                                Prob > chi2       =     0.0000\n",
      "Log likelihood = -2378.3366                     Pseudo R2         =     0.1720\n",
      "\n",
      "------------------------------------------------------------------------------\n",
      "     respond |      Coef.   Std. Err.      z    P>|z|     [95% Conf. Interval]\n",
      "-------------+----------------------------------------------------------------\n",
      "    resplast |   .1918952   .0941824     2.04   0.042     .0073012    .3764893\n",
      "   weekslast |  -.0078879   .0012377    -6.37   0.000    -.0103137   -.0054621\n",
      "    propresp |   3.034054   .1909139    15.89   0.000      2.65987    3.408239\n",
      "   mailsyear |    .243938   .0537507     4.54   0.000     .1385886    .3492874\n",
      "    giftlast |   .0020184   .0016465     1.23   0.220    -.0012087    .0052455\n",
      "       _cons |  -2.116716    .193359   -10.95   0.000    -2.495693   -1.737739\n",
      "------------------------------------------------------------------------------\n",
      "Note: 0 failures and 1 success completely determined.\n",
      "(est1 stored)\n",
      "\n",
      "\n",
      "Iteration 0:   log likelihood = -2872.3327  \n",
      "Iteration 1:   log likelihood = -2389.8762  \n",
      "Iteration 2:   log likelihood = -2383.2964  \n",
      "Iteration 3:   log likelihood = -2383.2671  \n",
      "Iteration 4:   log likelihood = -2383.2671  \n",
      "\n",
      "Logistic regression                             Number of obs     =      4,268\n",
      "                                                LR chi2(3)        =     978.13\n",
      "                                                Prob > chi2       =     0.0000\n",
      "Log likelihood = -2383.2671                     Pseudo R2         =     0.1703\n",
      "\n",
      "------------------------------------------------------------------------------\n",
      "     respond |      Coef.   Std. Err.      z    P>|z|     [95% Conf. Interval]\n",
      "-------------+----------------------------------------------------------------\n",
      "   weekslast |  -.0088102   .0011429    -7.71   0.000    -.0110503   -.0065701\n",
      "    propresp |   3.164334   .1796101    17.62   0.000     2.812305    3.516364\n",
      "   mailsyear |   .2344079   .0528123     4.44   0.000     .1308977    .3379181\n",
      "       _cons |  -2.010264   .1872754   -10.73   0.000    -2.377317   -1.643211\n",
      "------------------------------------------------------------------------------\n",
      "(est2 stored)\n"
     ]
    }
   ],
   "source": [
    "eststo: logit respond resplast weekslast propresp mailsyear giftlast\n",
    "eststo: logit respond weekslast propresp mailsyear"
   ]
  },
  {
   "cell_type": "code",
   "execution_count": 51,
   "metadata": {},
   "outputs": [
    {
     "name": "stdout",
     "output_type": "stream",
     "text": [
      "\n",
      "Likelihood-ratio test                                 LR chi2(2)  =      9.86\n",
      "(Assumption: est2 nested in est1)                     Prob > chi2 =    0.0072\n"
     ]
    }
   ],
   "source": [
    "lrtest est2 est1 "
   ]
  }
 ],
 "metadata": {
  "kernelspec": {
   "display_name": "Stata",
   "language": "stata",
   "name": "stata"
  },
  "language_info": {
   "codemirror_mode": "stata",
   "file_extension": ".do",
   "mimetype": "text/x-stata",
   "name": "stata",
   "version": "15.1"
  }
 },
 "nbformat": 4,
 "nbformat_minor": 2
}
