{
 "cells": [
  {
   "cell_type": "markdown",
   "metadata": {},
   "source": [
    "Regression with Binary Variables\n",
    "===\n",
    "---\n",
    "* Linear Probability Model\n",
    "* Probit Regression\n",
    "* Logit Regression\n",
    "---"
   ]
  },
  {
   "cell_type": "code",
   "execution_count": 35,
   "metadata": {},
   "outputs": [
    {
     "name": "stdout",
     "output_type": "stream",
     "text": [
      "\n",
      "(7 vars, 4,268 obs)\n",
      "\n",
      "\n",
      "\n",
      "    Variable |        Obs        Mean    Std. Dev.       Min        Max\n",
      "-------------+---------------------------------------------------------\n",
      "     respond |      4,268    .3999531    .4899458          0          1\n",
      "    resplast |      4,268    .3348172    .4719818          0          1\n",
      "   weekslast |      4,268     59.0482    44.32374   13.14286        195\n",
      "    propresp |      4,268    .4843592    .2533932    .090909          1\n",
      "   mailsyear |      4,268    2.049555      .66758        .25        3.5\n",
      "-------------+---------------------------------------------------------\n",
      "    giftlast |      4,268    19.74836    154.2009          1      10000\n"
     ]
    }
   ],
   "source": [
    "insheet using \"/Users/tino/Desktop/TA-Econometrics-II/datasets/0507/charity.csv\", clear\n",
    "drop v1\n",
    "sum"
   ]
  },
  {
   "cell_type": "code",
   "execution_count": 36,
   "metadata": {},
   "outputs": [
    {
     "name": "stdout",
     "output_type": "stream",
     "text": [
      "\n",
      "    respond |      Freq.     Percent        Cum.\n",
      "------------+-----------------------------------\n",
      "          0 |      2,561       60.00       60.00\n",
      "          1 |      1,707       40.00      100.00\n",
      "------------+-----------------------------------\n",
      "      Total |      4,268      100.00\n"
     ]
    }
   ],
   "source": [
    "tab respond // binary independent variable"
   ]
  },
  {
   "cell_type": "markdown",
   "metadata": {},
   "source": [
    "---\n",
    "## 1. Linear Probability Model"
   ]
  },
  {
   "cell_type": "code",
   "execution_count": 37,
   "metadata": {},
   "outputs": [
    {
     "name": "stdout",
     "output_type": "stream",
     "text": [
      "\n",
      "      Source |       SS           df       MS      Number of obs   =     4,268\n",
      "-------------+----------------------------------   F(5, 4262)      =    232.63\n",
      "       Model |  219.604323         5  43.9208647   Prob > F        =    0.0000\n",
      "    Residual |  804.675667     4,262  .188802362   R-squared       =    0.2144\n",
      "-------------+----------------------------------   Adj R-squared   =    0.2135\n",
      "       Total |  1024.27999     4,267  .240046869   Root MSE        =    .43451\n",
      "\n",
      "------------------------------------------------------------------------------\n",
      "     respond |      Coef.   Std. Err.      t    P>|t|     [95% Conf. Interval]\n",
      "-------------+----------------------------------------------------------------\n",
      "    resplast |   .0666743    .019015     3.51   0.000      .029395    .1039537\n",
      "   weekslast |  -.0010774   .0002086    -5.16   0.000    -.0014864   -.0006683\n",
      "    propresp |   .6498893   .0369998    17.56   0.000     .5773504    .7224283\n",
      "   mailsyear |   .0523243   .0101898     5.13   0.000      .032347    .0723016\n",
      "    giftlast |   .0000912   .0000432     2.11   0.035     6.57e-06    .0001758\n",
      "       _cons |   .0174229   .0355853     0.49   0.624    -.0523428    .0871885\n",
      "------------------------------------------------------------------------------\n"
     ]
    }
   ],
   "source": [
    "reg respond resplast weekslast propresp mailsyear giftlast"
   ]
  },
  {
   "cell_type": "markdown",
   "metadata": {},
   "source": [
    "---\n",
    "## 2. Probit Regression"
   ]
  },
  {
   "cell_type": "code",
   "execution_count": 38,
   "metadata": {},
   "outputs": [
    {
     "name": "stdout",
     "output_type": "stream",
     "text": [
      "\n",
      "Iteration 0:   log likelihood = -2872.3327  \n",
      "Iteration 1:   log likelihood = -2378.1046  \n",
      "Iteration 2:   log likelihood = -2376.3795  \n",
      "Iteration 3:   log likelihood = -2376.0792  \n",
      "Iteration 4:   log likelihood = -2376.0659  \n",
      "Iteration 5:   log likelihood = -2376.0659  \n",
      "\n",
      "Probit regression                               Number of obs     =      4,268\n",
      "                                                LR chi2(5)        =     992.53\n",
      "                                                Prob > chi2       =     0.0000\n",
      "Log likelihood = -2376.0659                     Pseudo R2         =     0.1728\n",
      "\n",
      "------------------------------------------------------------------------------\n",
      "     respond |      Coef.   Std. Err.      z    P>|z|     [95% Conf. Interval]\n",
      "-------------+----------------------------------------------------------------\n",
      "    resplast |   .1265028   .0572068     2.21   0.027     .0143796    .2386261\n",
      "   weekslast |  -.0045617   .0007121    -6.41   0.000    -.0059573   -.0031661\n",
      "    propresp |   1.848346   .1142395    16.18   0.000      1.62444    2.072251\n",
      "   mailsyear |   .1463944   .0318643     4.59   0.000     .0839416    .2088472\n",
      "    giftlast |   .0011562   .0010101     1.14   0.252    -.0008237     .003136\n",
      "       _cons |  -1.296471   .1142659   -11.35   0.000    -1.520428   -1.072514\n",
      "------------------------------------------------------------------------------\n",
      "Note: 0 failures and 1 success completely determined.\n"
     ]
    }
   ],
   "source": [
    "probit respond resplast weekslast propresp mailsyear giftlast"
   ]
  },
  {
   "cell_type": "markdown",
   "metadata": {},
   "source": [
    "## 3. Logit Regression"
   ]
  },
  {
   "cell_type": "code",
   "execution_count": 39,
   "metadata": {},
   "outputs": [
    {
     "name": "stdout",
     "output_type": "stream",
     "text": [
      "\n",
      "Iteration 0:   log likelihood = -2872.3327  \n",
      "Iteration 1:   log likelihood = -2385.0049  \n",
      "Iteration 2:   log likelihood = -2378.7031  \n",
      "Iteration 3:   log likelihood =  -2378.405  \n",
      "Iteration 4:   log likelihood = -2378.3366  \n",
      "Iteration 5:   log likelihood = -2378.3366  \n",
      "\n",
      "Logistic regression                             Number of obs     =      4,268\n",
      "                                                LR chi2(5)        =     987.99\n",
      "                                                Prob > chi2       =     0.0000\n",
      "Log likelihood = -2378.3366                     Pseudo R2         =     0.1720\n",
      "\n",
      "------------------------------------------------------------------------------\n",
      "     respond |      Coef.   Std. Err.      z    P>|z|     [95% Conf. Interval]\n",
      "-------------+----------------------------------------------------------------\n",
      "    resplast |   .1918952   .0941824     2.04   0.042     .0073012    .3764893\n",
      "   weekslast |  -.0078879   .0012377    -6.37   0.000    -.0103137   -.0054621\n",
      "    propresp |   3.034054   .1909139    15.89   0.000      2.65987    3.408239\n",
      "   mailsyear |    .243938   .0537507     4.54   0.000     .1385886    .3492874\n",
      "    giftlast |   .0020184   .0016465     1.23   0.220    -.0012087    .0052455\n",
      "       _cons |  -2.116716    .193359   -10.95   0.000    -2.495693   -1.737739\n",
      "------------------------------------------------------------------------------\n",
      "Note: 0 failures and 1 success completely determined.\n",
      "(est3 stored)\n"
     ]
    }
   ],
   "source": [
    "eststo: logit respond resplast weekslast propresp mailsyear giftlast"
   ]
  },
  {
   "cell_type": "code",
   "execution_count": 40,
   "metadata": {},
   "outputs": [
    {
     "name": "stdout",
     "output_type": "stream",
     "text": [
      "\n",
      " ( 1)  [respond]resplast - [respond]giftlast = 0\n",
      " ( 2)  [respond]resplast = 0\n",
      "\n",
      "           chi2(  2) =    5.80\n",
      "         Prob > chi2 =    0.0549\n"
     ]
    }
   ],
   "source": [
    "test resplast = giftlast = 0"
   ]
  },
  {
   "cell_type": "code",
   "execution_count": 49,
   "metadata": {},
   "outputs": [
    {
     "name": "stdout",
     "output_type": "stream",
     "text": [
      "\n",
      "\n",
      "Iteration 0:   log likelihood = -2872.3327  \n",
      "Iteration 1:   log likelihood = -2385.0049  \n",
      "Iteration 2:   log likelihood = -2378.7031  \n",
      "Iteration 3:   log likelihood =  -2378.405  \n",
      "Iteration 4:   log likelihood = -2378.3366  \n",
      "Iteration 5:   log likelihood = -2378.3366  \n",
      "\n",
      "Logistic regression                             Number of obs     =      4,268\n",
      "                                                LR chi2(5)        =     987.99\n",
      "                                                Prob > chi2       =     0.0000\n",
      "Log likelihood = -2378.3366                     Pseudo R2         =     0.1720\n",
      "\n",
      "------------------------------------------------------------------------------\n",
      "     respond |      Coef.   Std. Err.      z    P>|z|     [95% Conf. Interval]\n",
      "-------------+----------------------------------------------------------------\n",
      "    resplast |   .1918952   .0941824     2.04   0.042     .0073012    .3764893\n",
      "   weekslast |  -.0078879   .0012377    -6.37   0.000    -.0103137   -.0054621\n",
      "    propresp |   3.034054   .1909139    15.89   0.000      2.65987    3.408239\n",
      "   mailsyear |    .243938   .0537507     4.54   0.000     .1385886    .3492874\n",
      "    giftlast |   .0020184   .0016465     1.23   0.220    -.0012087    .0052455\n",
      "       _cons |  -2.116716    .193359   -10.95   0.000    -2.495693   -1.737739\n",
      "------------------------------------------------------------------------------\n",
      "Note: 0 failures and 1 success completely determined.\n",
      "(est1 stored)\n",
      "\n",
      "\n",
      "Iteration 0:   log likelihood = -2872.3327  \n",
      "Iteration 1:   log likelihood = -2389.8762  \n",
      "Iteration 2:   log likelihood = -2383.2964  \n",
      "Iteration 3:   log likelihood = -2383.2671  \n",
      "Iteration 4:   log likelihood = -2383.2671  \n",
      "\n",
      "Logistic regression                             Number of obs     =      4,268\n",
      "                                                LR chi2(3)        =     978.13\n",
      "                                                Prob > chi2       =     0.0000\n",
      "Log likelihood = -2383.2671                     Pseudo R2         =     0.1703\n",
      "\n",
      "------------------------------------------------------------------------------\n",
      "     respond |      Coef.   Std. Err.      z    P>|z|     [95% Conf. Interval]\n",
      "-------------+----------------------------------------------------------------\n",
      "   weekslast |  -.0088102   .0011429    -7.71   0.000    -.0110503   -.0065701\n",
      "    propresp |   3.164334   .1796101    17.62   0.000     2.812305    3.516364\n",
      "   mailsyear |   .2344079   .0528123     4.44   0.000     .1308977    .3379181\n",
      "       _cons |  -2.010264   .1872754   -10.73   0.000    -2.377317   -1.643211\n",
      "------------------------------------------------------------------------------\n",
      "(est2 stored)\n"
     ]
    }
   ],
   "source": [
    "eststo: logit respond resplast weekslast propresp mailsyear giftlast\n",
    "eststo: logit respond weekslast propresp mailsyear"
   ]
  },
  {
   "cell_type": "code",
   "execution_count": 51,
   "metadata": {},
   "outputs": [
    {
     "name": "stdout",
     "output_type": "stream",
     "text": [
      "\n",
      "Likelihood-ratio test                                 LR chi2(2)  =      9.86\n",
      "(Assumption: est2 nested in est1)                     Prob > chi2 =    0.0072\n"
     ]
    }
   ],
   "source": [
    "lrtest est2 est1 "
   ]
  },
  {
   "cell_type": "code",
   "execution_count": 48,
   "metadata": {},
   "outputs": [],
   "source": []
  },
  {
   "cell_type": "code",
   "execution_count": null,
   "metadata": {},
   "outputs": [],
   "source": []
  }
 ],
 "metadata": {
  "kernelspec": {
   "display_name": "Stata",
   "language": "stata",
   "name": "stata"
  },
  "language_info": {
   "codemirror_mode": "stata",
   "file_extension": ".do",
   "mimetype": "text/x-stata",
   "name": "stata",
   "version": "15.1"
  }
 },
 "nbformat": 4,
 "nbformat_minor": 2
}
